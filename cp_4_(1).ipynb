{
  "cells": [
    {
      "cell_type": "code",
      "execution_count": null,
      "metadata": {
        "id": "O9NRHg_uJY0r"
      },
      "outputs": [],
      "source": [
        "#"
      ]
    },
    {
      "cell_type": "code",
      "execution_count": null,
      "metadata": {
        "id": "zfe7YssxJY04"
      },
      "outputs": [],
      "source": [
        "import pandas as pd\n",
        "import numpy as np\n",
        "import matplotlib.pyplot as plt\n",
        "import seaborn as sns\n",
        "from matplotlib.pylab import rcParams #Untuk visualisasi\n",
        "from datetime import datetime #Untuk mengatasi tipe data tanggal"
      ]
    },
    {
      "cell_type": "code",
      "execution_count": null,
      "metadata": {
        "id": "wo0z3R02JY07"
      },
      "outputs": [],
      "source": [
        "data = pd.read_csv('21-06.csv')\n",
        "data1 = pd.read_csv('data date.csv')"
      ]
    },
    {
      "cell_type": "code",
      "execution_count": null,
      "metadata": {
        "id": "YaU2mSNjJY0-",
        "outputId": "a6e82a6c-1d40-4992-911e-4cf49900ced6"
      },
      "outputs": [
        {
          "data": {
            "text/html": [
              "<div>\n",
              "<style scoped>\n",
              "    .dataframe tbody tr th:only-of-type {\n",
              "        vertical-align: middle;\n",
              "    }\n",
              "\n",
              "    .dataframe tbody tr th {\n",
              "        vertical-align: top;\n",
              "    }\n",
              "\n",
              "    .dataframe thead th {\n",
              "        text-align: right;\n",
              "    }\n",
              "</style>\n",
              "<table border=\"1\" class=\"dataframe\">\n",
              "  <thead>\n",
              "    <tr style=\"text-align: right;\">\n",
              "      <th></th>\n",
              "      <th>id</th>\n",
              "      <th>cost</th>\n",
              "      <th>category</th>\n",
              "      <th>name</th>\n",
              "      <th>brand</th>\n",
              "      <th>retail_price</th>\n",
              "      <th>department</th>\n",
              "      <th>sku</th>\n",
              "      <th>distribution_center_id</th>\n",
              "      <th>id-2</th>\n",
              "      <th>...</th>\n",
              "      <th>created_at</th>\n",
              "      <th>sold_at</th>\n",
              "      <th>cost-2</th>\n",
              "      <th>product_category</th>\n",
              "      <th>product_name</th>\n",
              "      <th>product_brand</th>\n",
              "      <th>product_retail_price</th>\n",
              "      <th>product_department</th>\n",
              "      <th>product_sku</th>\n",
              "      <th>product_distribution_center_id</th>\n",
              "    </tr>\n",
              "  </thead>\n",
              "  <tbody>\n",
              "    <tr>\n",
              "      <th>0</th>\n",
              "      <td>1</td>\n",
              "      <td>27.048000</td>\n",
              "      <td>Tops &amp; Tees</td>\n",
              "      <td>Seven7 Women's Long Sleeve Stripe Belted Top</td>\n",
              "      <td>Seven7</td>\n",
              "      <td>49.000000</td>\n",
              "      <td>Women</td>\n",
              "      <td>C4CA4238A0B923820DCC509A6F75849B</td>\n",
              "      <td>1</td>\n",
              "      <td>NaN</td>\n",
              "      <td>...</td>\n",
              "      <td>NaN</td>\n",
              "      <td>NaN</td>\n",
              "      <td>NaN</td>\n",
              "      <td>NaN</td>\n",
              "      <td>NaN</td>\n",
              "      <td>NaN</td>\n",
              "      <td>NaN</td>\n",
              "      <td>NaN</td>\n",
              "      <td>NaN</td>\n",
              "      <td>NaN</td>\n",
              "    </tr>\n",
              "    <tr>\n",
              "      <th>1</th>\n",
              "      <td>2</td>\n",
              "      <td>36.626500</td>\n",
              "      <td>Tops &amp; Tees</td>\n",
              "      <td>Calvin Klein Women's MSY Crew Neck Roll Sleeve</td>\n",
              "      <td>Calvin Klein</td>\n",
              "      <td>69.500000</td>\n",
              "      <td>Women</td>\n",
              "      <td>C81E728D9D4C2F636F067F89CC14862C</td>\n",
              "      <td>3</td>\n",
              "      <td>NaN</td>\n",
              "      <td>...</td>\n",
              "      <td>NaN</td>\n",
              "      <td>NaN</td>\n",
              "      <td>NaN</td>\n",
              "      <td>NaN</td>\n",
              "      <td>NaN</td>\n",
              "      <td>NaN</td>\n",
              "      <td>NaN</td>\n",
              "      <td>NaN</td>\n",
              "      <td>NaN</td>\n",
              "      <td>NaN</td>\n",
              "    </tr>\n",
              "    <tr>\n",
              "      <th>2</th>\n",
              "      <td>3</td>\n",
              "      <td>41.005000</td>\n",
              "      <td>Tops &amp; Tees</td>\n",
              "      <td>Calvin Klein Jeans Women's Solid Flyaway Shirt</td>\n",
              "      <td>Calvin Klein Jeans</td>\n",
              "      <td>69.500000</td>\n",
              "      <td>Women</td>\n",
              "      <td>ECCBC87E4B5CE2FE28308FD9F2A7BAF3</td>\n",
              "      <td>8</td>\n",
              "      <td>3.0</td>\n",
              "      <td>...</td>\n",
              "      <td>2019-06-10 16:04:28+00:00</td>\n",
              "      <td>2019-07-21 16:59:28+00:00</td>\n",
              "      <td>35.095548</td>\n",
              "      <td>Jeans</td>\n",
              "      <td>RVCA Spanky II Denim Pant - Men's</td>\n",
              "      <td>RVCA</td>\n",
              "      <td>68.949997</td>\n",
              "      <td>Men</td>\n",
              "      <td>BDBE7E66F577B4E312FCC1B94EACC673</td>\n",
              "      <td>8;;</td>\n",
              "    </tr>\n",
              "    <tr>\n",
              "      <th>3</th>\n",
              "      <td>4</td>\n",
              "      <td>57.132000</td>\n",
              "      <td>Tops &amp; Tees</td>\n",
              "      <td>Bailey 44 Women's Undertow Top</td>\n",
              "      <td>Bailey 44</td>\n",
              "      <td>108.000000</td>\n",
              "      <td>Women</td>\n",
              "      <td>A87FF679A2F3E71D9181A67B7542122C</td>\n",
              "      <td>6</td>\n",
              "      <td>4.0</td>\n",
              "      <td>...</td>\n",
              "      <td>2021-12-22 18:05:00+00:00</td>\n",
              "      <td>NaN</td>\n",
              "      <td>35.095548</td>\n",
              "      <td>Jeans</td>\n",
              "      <td>RVCA Spanky II Denim Pant - Men's</td>\n",
              "      <td>RVCA</td>\n",
              "      <td>68.949997</td>\n",
              "      <td>Men</td>\n",
              "      <td>BDBE7E66F577B4E312FCC1B94EACC673</td>\n",
              "      <td>8;;</td>\n",
              "    </tr>\n",
              "    <tr>\n",
              "      <th>4</th>\n",
              "      <td>5</td>\n",
              "      <td>52.358000</td>\n",
              "      <td>Tops &amp; Tees</td>\n",
              "      <td>Anne Klein Women's Plus-Size Button Front Blouse</td>\n",
              "      <td>Anne Klein</td>\n",
              "      <td>94.000000</td>\n",
              "      <td>Women</td>\n",
              "      <td>E4DA3B7FBBCE2345D7772B0674A318D5</td>\n",
              "      <td>2</td>\n",
              "      <td>5.0</td>\n",
              "      <td>...</td>\n",
              "      <td>2020-04-19 03:52:00+00:00</td>\n",
              "      <td>NaN</td>\n",
              "      <td>35.095548</td>\n",
              "      <td>Jeans</td>\n",
              "      <td>RVCA Spanky II Denim Pant - Men's</td>\n",
              "      <td>RVCA</td>\n",
              "      <td>68.949997</td>\n",
              "      <td>Men</td>\n",
              "      <td>BDBE7E66F577B4E312FCC1B94EACC673</td>\n",
              "      <td>8;;</td>\n",
              "    </tr>\n",
              "    <tr>\n",
              "      <th>...</th>\n",
              "      <td>...</td>\n",
              "      <td>...</td>\n",
              "      <td>...</td>\n",
              "      <td>...</td>\n",
              "      <td>...</td>\n",
              "      <td>...</td>\n",
              "      <td>...</td>\n",
              "      <td>...</td>\n",
              "      <td>...</td>\n",
              "      <td>...</td>\n",
              "      <td>...</td>\n",
              "      <td>...</td>\n",
              "      <td>...</td>\n",
              "      <td>...</td>\n",
              "      <td>...</td>\n",
              "      <td>...</td>\n",
              "      <td>...</td>\n",
              "      <td>...</td>\n",
              "      <td>...</td>\n",
              "      <td>...</td>\n",
              "      <td>...</td>\n",
              "    </tr>\n",
              "    <tr>\n",
              "      <th>29115</th>\n",
              "      <td>29116</td>\n",
              "      <td>36.023041</td>\n",
              "      <td>Accessories</td>\n",
              "      <td>Ray-Ban RB 3217 Sunglasses- All Colors And SIZES</td>\n",
              "      <td>Ray-Ban</td>\n",
              "      <td>101.760002</td>\n",
              "      <td>Men</td>\n",
              "      <td>8AC8ABB13B9FE96F24FE2CAB11A18FC2</td>\n",
              "      <td>2</td>\n",
              "      <td>29116.0</td>\n",
              "      <td>...</td>\n",
              "      <td>2022-04-23 12:37:27+00:00</td>\n",
              "      <td>2022-05-18 12:35:27+00:00</td>\n",
              "      <td>11.560700</td>\n",
              "      <td>Skirts</td>\n",
              "      <td>2B Metallic Lace Skirt</td>\n",
              "      <td>2b by bebe</td>\n",
              "      <td>29.950001</td>\n",
              "      <td>Women</td>\n",
              "      <td>D064BF1AD039FF366564F352226E7640</td>\n",
              "      <td>5;;</td>\n",
              "    </tr>\n",
              "    <tr>\n",
              "      <th>29116</th>\n",
              "      <td>29117</td>\n",
              "      <td>40.392000</td>\n",
              "      <td>Accessories</td>\n",
              "      <td>Tumi Monaco Slim Single Billfold</td>\n",
              "      <td>TUMI</td>\n",
              "      <td>108.000000</td>\n",
              "      <td>Men</td>\n",
              "      <td>A92DF7CBFDDDCC938ABC806992026A19</td>\n",
              "      <td>2</td>\n",
              "      <td>29117.0</td>\n",
              "      <td>...</td>\n",
              "      <td>2020-12-17 05:29:00+00:00</td>\n",
              "      <td>NaN</td>\n",
              "      <td>11.560700</td>\n",
              "      <td>Skirts</td>\n",
              "      <td>2B Metallic Lace Skirt</td>\n",
              "      <td>2b by bebe</td>\n",
              "      <td>29.950001</td>\n",
              "      <td>Women</td>\n",
              "      <td>D064BF1AD039FF366564F352226E7640</td>\n",
              "      <td>5;;</td>\n",
              "    </tr>\n",
              "    <tr>\n",
              "      <th>29117</th>\n",
              "      <td>29118</td>\n",
              "      <td>38.720000</td>\n",
              "      <td>Accessories</td>\n",
              "      <td>Spy Optic Dirty Mo Wrap Sunglasses</td>\n",
              "      <td>SPY</td>\n",
              "      <td>110.000000</td>\n",
              "      <td>Men</td>\n",
              "      <td>857CD81E6A7D216EEAF1946A803A7D5E</td>\n",
              "      <td>10</td>\n",
              "      <td>29118.0</td>\n",
              "      <td>...</td>\n",
              "      <td>2020-01-22 03:23:34+00:00</td>\n",
              "      <td>2020-03-08 12:17:34+00:00</td>\n",
              "      <td>22.245551</td>\n",
              "      <td>Sweaters</td>\n",
              "      <td>Vobaga Bohemian Tribal Oversized Knit Bat Slee...</td>\n",
              "      <td>Vobaga</td>\n",
              "      <td>49.990002</td>\n",
              "      <td>Women</td>\n",
              "      <td>ABEA47BA24142ED16B7D8FBF2C740E0D</td>\n",
              "      <td>2;;</td>\n",
              "    </tr>\n",
              "    <tr>\n",
              "      <th>29118</th>\n",
              "      <td>29119</td>\n",
              "      <td>19.416419</td>\n",
              "      <td>Accessories</td>\n",
              "      <td>Tumi Men's Alpha Gusseted Id Card Case</td>\n",
              "      <td>TUMI</td>\n",
              "      <td>48.419998</td>\n",
              "      <td>Men</td>\n",
              "      <td>DC74D495021D5EB62F2A0DC42A47442B</td>\n",
              "      <td>2</td>\n",
              "      <td>29119.0</td>\n",
              "      <td>...</td>\n",
              "      <td>2020-01-17 08:20:00+00:00</td>\n",
              "      <td>NaN</td>\n",
              "      <td>22.245551</td>\n",
              "      <td>Sweaters</td>\n",
              "      <td>Vobaga Bohemian Tribal Oversized Knit Bat Slee...</td>\n",
              "      <td>Vobaga</td>\n",
              "      <td>49.990002</td>\n",
              "      <td>Women</td>\n",
              "      <td>ABEA47BA24142ED16B7D8FBF2C740E0D</td>\n",
              "      <td>2;;</td>\n",
              "    </tr>\n",
              "    <tr>\n",
              "      <th>29119</th>\n",
              "      <td>29120</td>\n",
              "      <td>29.484000</td>\n",
              "      <td>Accessories</td>\n",
              "      <td>Boconi Collins Calf Billfold</td>\n",
              "      <td>Boconi</td>\n",
              "      <td>78.000000</td>\n",
              "      <td>Men</td>\n",
              "      <td>B0755C8792BB4F2FEB8E226F3D46876D</td>\n",
              "      <td>5</td>\n",
              "      <td>29120.0</td>\n",
              "      <td>...</td>\n",
              "      <td>2020-05-16 17:51:00+00:00</td>\n",
              "      <td>NaN</td>\n",
              "      <td>22.245551</td>\n",
              "      <td>Sweaters</td>\n",
              "      <td>Vobaga Bohemian Tribal Oversized Knit Bat Slee...</td>\n",
              "      <td>Vobaga</td>\n",
              "      <td>49.990002</td>\n",
              "      <td>Women</td>\n",
              "      <td>ABEA47BA24142ED16B7D8FBF2C740E0D</td>\n",
              "      <td>2;;</td>\n",
              "    </tr>\n",
              "  </tbody>\n",
              "</table>\n",
              "<p>29120 rows × 21 columns</p>\n",
              "</div>"
            ],
            "text/plain": [
              "          id       cost     category  \\\n",
              "0          1  27.048000  Tops & Tees   \n",
              "1          2  36.626500  Tops & Tees   \n",
              "2          3  41.005000  Tops & Tees   \n",
              "3          4  57.132000  Tops & Tees   \n",
              "4          5  52.358000  Tops & Tees   \n",
              "...      ...        ...          ...   \n",
              "29115  29116  36.023041  Accessories   \n",
              "29116  29117  40.392000  Accessories   \n",
              "29117  29118  38.720000  Accessories   \n",
              "29118  29119  19.416419  Accessories   \n",
              "29119  29120  29.484000  Accessories   \n",
              "\n",
              "                                                   name               brand  \\\n",
              "0          Seven7 Women's Long Sleeve Stripe Belted Top              Seven7   \n",
              "1        Calvin Klein Women's MSY Crew Neck Roll Sleeve        Calvin Klein   \n",
              "2        Calvin Klein Jeans Women's Solid Flyaway Shirt  Calvin Klein Jeans   \n",
              "3                        Bailey 44 Women's Undertow Top           Bailey 44   \n",
              "4      Anne Klein Women's Plus-Size Button Front Blouse          Anne Klein   \n",
              "...                                                 ...                 ...   \n",
              "29115  Ray-Ban RB 3217 Sunglasses- All Colors And SIZES             Ray-Ban   \n",
              "29116                  Tumi Monaco Slim Single Billfold                TUMI   \n",
              "29117                Spy Optic Dirty Mo Wrap Sunglasses                 SPY   \n",
              "29118            Tumi Men's Alpha Gusseted Id Card Case                TUMI   \n",
              "29119                      Boconi Collins Calf Billfold              Boconi   \n",
              "\n",
              "       retail_price department                               sku  \\\n",
              "0         49.000000      Women  C4CA4238A0B923820DCC509A6F75849B   \n",
              "1         69.500000      Women  C81E728D9D4C2F636F067F89CC14862C   \n",
              "2         69.500000      Women  ECCBC87E4B5CE2FE28308FD9F2A7BAF3   \n",
              "3        108.000000      Women  A87FF679A2F3E71D9181A67B7542122C   \n",
              "4         94.000000      Women  E4DA3B7FBBCE2345D7772B0674A318D5   \n",
              "...             ...        ...                               ...   \n",
              "29115    101.760002        Men  8AC8ABB13B9FE96F24FE2CAB11A18FC2   \n",
              "29116    108.000000        Men  A92DF7CBFDDDCC938ABC806992026A19   \n",
              "29117    110.000000        Men  857CD81E6A7D216EEAF1946A803A7D5E   \n",
              "29118     48.419998        Men  DC74D495021D5EB62F2A0DC42A47442B   \n",
              "29119     78.000000        Men  B0755C8792BB4F2FEB8E226F3D46876D   \n",
              "\n",
              "       distribution_center_id     id-2  ...                 created_at  \\\n",
              "0                           1      NaN  ...                        NaN   \n",
              "1                           3      NaN  ...                        NaN   \n",
              "2                           8      3.0  ...  2019-06-10 16:04:28+00:00   \n",
              "3                           6      4.0  ...  2021-12-22 18:05:00+00:00   \n",
              "4                           2      5.0  ...  2020-04-19 03:52:00+00:00   \n",
              "...                       ...      ...  ...                        ...   \n",
              "29115                       2  29116.0  ...  2022-04-23 12:37:27+00:00   \n",
              "29116                       2  29117.0  ...  2020-12-17 05:29:00+00:00   \n",
              "29117                      10  29118.0  ...  2020-01-22 03:23:34+00:00   \n",
              "29118                       2  29119.0  ...  2020-01-17 08:20:00+00:00   \n",
              "29119                       5  29120.0  ...  2020-05-16 17:51:00+00:00   \n",
              "\n",
              "                         sold_at     cost-2  product_category  \\\n",
              "0                            NaN        NaN               NaN   \n",
              "1                            NaN        NaN               NaN   \n",
              "2      2019-07-21 16:59:28+00:00  35.095548             Jeans   \n",
              "3                            NaN  35.095548             Jeans   \n",
              "4                            NaN  35.095548             Jeans   \n",
              "...                          ...        ...               ...   \n",
              "29115  2022-05-18 12:35:27+00:00  11.560700            Skirts   \n",
              "29116                        NaN  11.560700            Skirts   \n",
              "29117  2020-03-08 12:17:34+00:00  22.245551          Sweaters   \n",
              "29118                        NaN  22.245551          Sweaters   \n",
              "29119                        NaN  22.245551          Sweaters   \n",
              "\n",
              "                                            product_name product_brand  \\\n",
              "0                                                    NaN           NaN   \n",
              "1                                                    NaN           NaN   \n",
              "2                      RVCA Spanky II Denim Pant - Men's          RVCA   \n",
              "3                      RVCA Spanky II Denim Pant - Men's          RVCA   \n",
              "4                      RVCA Spanky II Denim Pant - Men's          RVCA   \n",
              "...                                                  ...           ...   \n",
              "29115                             2B Metallic Lace Skirt    2b by bebe   \n",
              "29116                             2B Metallic Lace Skirt    2b by bebe   \n",
              "29117  Vobaga Bohemian Tribal Oversized Knit Bat Slee...        Vobaga   \n",
              "29118  Vobaga Bohemian Tribal Oversized Knit Bat Slee...        Vobaga   \n",
              "29119  Vobaga Bohemian Tribal Oversized Knit Bat Slee...        Vobaga   \n",
              "\n",
              "      product_retail_price  product_department  \\\n",
              "0                      NaN                 NaN   \n",
              "1                      NaN                 NaN   \n",
              "2                68.949997                 Men   \n",
              "3                68.949997                 Men   \n",
              "4                68.949997                 Men   \n",
              "...                    ...                 ...   \n",
              "29115            29.950001               Women   \n",
              "29116            29.950001               Women   \n",
              "29117            49.990002               Women   \n",
              "29118            49.990002               Women   \n",
              "29119            49.990002               Women   \n",
              "\n",
              "                            product_sku product_distribution_center_id  \n",
              "0                                   NaN                            NaN  \n",
              "1                                   NaN                            NaN  \n",
              "2      BDBE7E66F577B4E312FCC1B94EACC673                            8;;  \n",
              "3      BDBE7E66F577B4E312FCC1B94EACC673                            8;;  \n",
              "4      BDBE7E66F577B4E312FCC1B94EACC673                            8;;  \n",
              "...                                 ...                            ...  \n",
              "29115  D064BF1AD039FF366564F352226E7640                            5;;  \n",
              "29116  D064BF1AD039FF366564F352226E7640                            5;;  \n",
              "29117  ABEA47BA24142ED16B7D8FBF2C740E0D                            2;;  \n",
              "29118  ABEA47BA24142ED16B7D8FBF2C740E0D                            2;;  \n",
              "29119  ABEA47BA24142ED16B7D8FBF2C740E0D                            2;;  \n",
              "\n",
              "[29120 rows x 21 columns]"
            ]
          },
          "execution_count": 44,
          "metadata": {},
          "output_type": "execute_result"
        }
      ],
      "source": [
        "data"
      ]
    },
    {
      "cell_type": "code",
      "execution_count": null,
      "metadata": {
        "id": "MunZzSbHJY1C",
        "outputId": "67d5257d-3276-4d0e-d5ec-989b76486501"
      },
      "outputs": [
        {
          "data": {
            "text/html": [
              "<div>\n",
              "<style scoped>\n",
              "    .dataframe tbody tr th:only-of-type {\n",
              "        vertical-align: middle;\n",
              "    }\n",
              "\n",
              "    .dataframe tbody tr th {\n",
              "        vertical-align: top;\n",
              "    }\n",
              "\n",
              "    .dataframe thead th {\n",
              "        text-align: right;\n",
              "    }\n",
              "</style>\n",
              "<table border=\"1\" class=\"dataframe\">\n",
              "  <thead>\n",
              "    <tr style=\"text-align: right;\">\n",
              "      <th></th>\n",
              "      <th>created_at</th>\n",
              "    </tr>\n",
              "  </thead>\n",
              "  <tbody>\n",
              "    <tr>\n",
              "      <th>0</th>\n",
              "      <td>02/06/2022</td>\n",
              "    </tr>\n",
              "    <tr>\n",
              "      <th>1</th>\n",
              "      <td>01/06/2022</td>\n",
              "    </tr>\n",
              "    <tr>\n",
              "      <th>2</th>\n",
              "      <td>30/05/2022</td>\n",
              "    </tr>\n",
              "    <tr>\n",
              "      <th>3</th>\n",
              "      <td>29/05/2022</td>\n",
              "    </tr>\n",
              "    <tr>\n",
              "      <th>4</th>\n",
              "      <td>29/05/2022</td>\n",
              "    </tr>\n",
              "    <tr>\n",
              "      <th>...</th>\n",
              "      <td>...</td>\n",
              "    </tr>\n",
              "    <tr>\n",
              "      <th>2329</th>\n",
              "      <td>07/03/2019</td>\n",
              "    </tr>\n",
              "    <tr>\n",
              "      <th>2330</th>\n",
              "      <td>02/03/2019</td>\n",
              "    </tr>\n",
              "    <tr>\n",
              "      <th>2331</th>\n",
              "      <td>22/01/2019</td>\n",
              "    </tr>\n",
              "    <tr>\n",
              "      <th>2332</th>\n",
              "      <td>29/12/2018</td>\n",
              "    </tr>\n",
              "    <tr>\n",
              "      <th>2333</th>\n",
              "      <td>08/12/2018</td>\n",
              "    </tr>\n",
              "  </tbody>\n",
              "</table>\n",
              "<p>2334 rows × 1 columns</p>\n",
              "</div>"
            ],
            "text/plain": [
              "      created_at\n",
              "0     02/06/2022\n",
              "1     01/06/2022\n",
              "2     30/05/2022\n",
              "3     29/05/2022\n",
              "4     29/05/2022\n",
              "...          ...\n",
              "2329  07/03/2019\n",
              "2330  02/03/2019\n",
              "2331  22/01/2019\n",
              "2332  29/12/2018\n",
              "2333  08/12/2018\n",
              "\n",
              "[2334 rows x 1 columns]"
            ]
          },
          "execution_count": 45,
          "metadata": {},
          "output_type": "execute_result"
        }
      ],
      "source": [
        "\n",
        "data1"
      ]
    },
    {
      "cell_type": "code",
      "execution_count": null,
      "metadata": {
        "id": "LGHNLSFtJY1E"
      },
      "outputs": [],
      "source": [
        "# a = pd.DataFrame(data)\n",
        "# b= pd.DataFrame(data1)"
      ]
    },
    {
      "cell_type": "code",
      "execution_count": null,
      "metadata": {
        "id": "9Slv9lBRJY1H"
      },
      "outputs": [],
      "source": [
        "# import pandas as pd\n",
        "# pd.DataFrame.concat([a,b], axis=1)"
      ]
    },
    {
      "cell_type": "code",
      "execution_count": null,
      "metadata": {
        "id": "XXm8cEedJY1K",
        "outputId": "67aad272-8a58-4921-a990-8b5413d9e211"
      },
      "outputs": [
        {
          "data": {
            "text/html": [
              "<div>\n",
              "<style scoped>\n",
              "    .dataframe tbody tr th:only-of-type {\n",
              "        vertical-align: middle;\n",
              "    }\n",
              "\n",
              "    .dataframe tbody tr th {\n",
              "        vertical-align: top;\n",
              "    }\n",
              "\n",
              "    .dataframe thead th {\n",
              "        text-align: right;\n",
              "    }\n",
              "</style>\n",
              "<table border=\"1\" class=\"dataframe\">\n",
              "  <thead>\n",
              "    <tr style=\"text-align: right;\">\n",
              "      <th></th>\n",
              "      <th>created_at</th>\n",
              "    </tr>\n",
              "  </thead>\n",
              "  <tbody>\n",
              "    <tr>\n",
              "      <th>0</th>\n",
              "      <td>02/06/2022</td>\n",
              "    </tr>\n",
              "    <tr>\n",
              "      <th>1</th>\n",
              "      <td>01/06/2022</td>\n",
              "    </tr>\n",
              "    <tr>\n",
              "      <th>2</th>\n",
              "      <td>30/05/2022</td>\n",
              "    </tr>\n",
              "    <tr>\n",
              "      <th>3</th>\n",
              "      <td>29/05/2022</td>\n",
              "    </tr>\n",
              "    <tr>\n",
              "      <th>4</th>\n",
              "      <td>29/05/2022</td>\n",
              "    </tr>\n",
              "    <tr>\n",
              "      <th>...</th>\n",
              "      <td>...</td>\n",
              "    </tr>\n",
              "    <tr>\n",
              "      <th>2329</th>\n",
              "      <td>07/03/2019</td>\n",
              "    </tr>\n",
              "    <tr>\n",
              "      <th>2330</th>\n",
              "      <td>02/03/2019</td>\n",
              "    </tr>\n",
              "    <tr>\n",
              "      <th>2331</th>\n",
              "      <td>22/01/2019</td>\n",
              "    </tr>\n",
              "    <tr>\n",
              "      <th>2332</th>\n",
              "      <td>29/12/2018</td>\n",
              "    </tr>\n",
              "    <tr>\n",
              "      <th>2333</th>\n",
              "      <td>08/12/2018</td>\n",
              "    </tr>\n",
              "  </tbody>\n",
              "</table>\n",
              "<p>2334 rows × 1 columns</p>\n",
              "</div>"
            ],
            "text/plain": [
              "      created_at\n",
              "0     02/06/2022\n",
              "1     01/06/2022\n",
              "2     30/05/2022\n",
              "3     29/05/2022\n",
              "4     29/05/2022\n",
              "...          ...\n",
              "2329  07/03/2019\n",
              "2330  02/03/2019\n",
              "2331  22/01/2019\n",
              "2332  29/12/2018\n",
              "2333  08/12/2018\n",
              "\n",
              "[2334 rows x 1 columns]"
            ]
          },
          "execution_count": 48,
          "metadata": {},
          "output_type": "execute_result"
        }
      ],
      "source": [
        "data1"
      ]
    },
    {
      "cell_type": "code",
      "execution_count": null,
      "metadata": {
        "id": "ratupVQrJY1M"
      },
      "outputs": [],
      "source": [
        "# data = data.assign(time = data1['create_at'])\n",
        "# data"
      ]
    },
    {
      "cell_type": "code",
      "execution_count": null,
      "metadata": {
        "id": "lmTmVm1gJY1P",
        "outputId": "08b67852-9f2b-401c-f092-bd82b67ece6b"
      },
      "outputs": [
        {
          "data": {
            "text/plain": [
              "id                                    0\n",
              "cost                                  0\n",
              "category                              0\n",
              "name                                  2\n",
              "brand                                24\n",
              "retail_price                          0\n",
              "department                            0\n",
              "sku                                   0\n",
              "distribution_center_id                0\n",
              "id-2                               9595\n",
              "product_id                         9595\n",
              "created_at                         9595\n",
              "sold_at                           21870\n",
              "cost-2                             9595\n",
              "product_category                   9595\n",
              "product_name                       9595\n",
              "product_brand                      9613\n",
              "product_retail_price               9595\n",
              "product_department                 9595\n",
              "product_sku                        9595\n",
              "product_distribution_center_id     9595\n",
              "dtype: int64"
            ]
          },
          "execution_count": 50,
          "metadata": {},
          "output_type": "execute_result"
        }
      ],
      "source": [
        "data.isna().sum()"
      ]
    },
    {
      "cell_type": "code",
      "execution_count": null,
      "metadata": {
        "id": "9T9q4dxwJY1R",
        "outputId": "4577f53a-39f2-4f8f-9915-d1c918c15270"
      },
      "outputs": [
        {
          "data": {
            "text/plain": [
              "(29120, 21)"
            ]
          },
          "execution_count": 51,
          "metadata": {},
          "output_type": "execute_result"
        }
      ],
      "source": [
        "data.shape"
      ]
    },
    {
      "cell_type": "code",
      "execution_count": null,
      "metadata": {
        "id": "-ms26g9mJY1T",
        "outputId": "cd3d7903-3971-4831-b147-bcfa7475ba9d"
      },
      "outputs": [
        {
          "data": {
            "text/plain": [
              "id                                  int64\n",
              "cost                              float64\n",
              "category                           object\n",
              "name                               object\n",
              "brand                              object\n",
              "retail_price                      float64\n",
              "department                         object\n",
              "sku                                object\n",
              "distribution_center_id              int64\n",
              "id-2                              float64\n",
              "product_id                        float64\n",
              "created_at                         object\n",
              "sold_at                            object\n",
              "cost-2                            float64\n",
              "product_category                   object\n",
              "product_name                       object\n",
              "product_brand                      object\n",
              "product_retail_price              float64\n",
              "product_department                 object\n",
              "product_sku                        object\n",
              "product_distribution_center_id     object\n",
              "dtype: object"
            ]
          },
          "execution_count": 52,
          "metadata": {},
          "output_type": "execute_result"
        }
      ],
      "source": [
        "data.dtypes"
      ]
    },
    {
      "cell_type": "code",
      "execution_count": null,
      "metadata": {
        "id": "GEVaZ7vmJY1U",
        "outputId": "4e588b96-66af-4f2e-8678-236df1debf22"
      },
      "outputs": [
        {
          "data": {
            "text/plain": [
              "id                                              int64\n",
              "cost                                          float64\n",
              "category                                       object\n",
              "name                                           object\n",
              "brand                                          object\n",
              "retail_price                                  float64\n",
              "department                                     object\n",
              "sku                                            object\n",
              "distribution_center_id                          int64\n",
              "id-2                                          float64\n",
              "product_id                                    float64\n",
              "created_at                        datetime64[ns, UTC]\n",
              "sold_at                           datetime64[ns, UTC]\n",
              "cost-2                                        float64\n",
              "product_category                               object\n",
              "product_name                                   object\n",
              "product_brand                                  object\n",
              "product_retail_price                          float64\n",
              "product_department                             object\n",
              "product_sku                                    object\n",
              "product_distribution_center_id                 object\n",
              "dtype: object"
            ]
          },
          "execution_count": 53,
          "metadata": {},
          "output_type": "execute_result"
        }
      ],
      "source": [
        "data['created_at'] = pd.to_datetime(data['created_at'], infer_datetime_format=True)\n",
        "data['sold_at'] = pd.to_datetime(data['sold_at'], infer_datetime_format=True)\n",
        "# data['created_at'] = data['created_at'].dt.strftime('%m/%d/%Y')\n",
        "data.dtypes\n"
      ]
    },
    {
      "cell_type": "code",
      "execution_count": null,
      "metadata": {
        "id": "GItYjffXJY1W",
        "outputId": "e4a9ab36-6175-4f0c-b13f-f34bc5158525"
      },
      "outputs": [
        {
          "data": {
            "text/html": [
              "<div>\n",
              "<style scoped>\n",
              "    .dataframe tbody tr th:only-of-type {\n",
              "        vertical-align: middle;\n",
              "    }\n",
              "\n",
              "    .dataframe tbody tr th {\n",
              "        vertical-align: top;\n",
              "    }\n",
              "\n",
              "    .dataframe thead th {\n",
              "        text-align: right;\n",
              "    }\n",
              "</style>\n",
              "<table border=\"1\" class=\"dataframe\">\n",
              "  <thead>\n",
              "    <tr style=\"text-align: right;\">\n",
              "      <th></th>\n",
              "      <th>cost</th>\n",
              "      <th>category</th>\n",
              "      <th>retail_price</th>\n",
              "      <th>department</th>\n",
              "      <th>created_at</th>\n",
              "      <th>cost-2</th>\n",
              "      <th>product_category</th>\n",
              "      <th>product_retail_price</th>\n",
              "    </tr>\n",
              "  </thead>\n",
              "  <tbody>\n",
              "    <tr>\n",
              "      <th>0</th>\n",
              "      <td>27.048000</td>\n",
              "      <td>Tops &amp; Tees</td>\n",
              "      <td>49.000000</td>\n",
              "      <td>Women</td>\n",
              "      <td>NaT</td>\n",
              "      <td>NaN</td>\n",
              "      <td>NaN</td>\n",
              "      <td>NaN</td>\n",
              "    </tr>\n",
              "    <tr>\n",
              "      <th>1</th>\n",
              "      <td>36.626500</td>\n",
              "      <td>Tops &amp; Tees</td>\n",
              "      <td>69.500000</td>\n",
              "      <td>Women</td>\n",
              "      <td>NaT</td>\n",
              "      <td>NaN</td>\n",
              "      <td>NaN</td>\n",
              "      <td>NaN</td>\n",
              "    </tr>\n",
              "    <tr>\n",
              "      <th>2</th>\n",
              "      <td>41.005000</td>\n",
              "      <td>Tops &amp; Tees</td>\n",
              "      <td>69.500000</td>\n",
              "      <td>Women</td>\n",
              "      <td>2019-06-10 16:04:28+00:00</td>\n",
              "      <td>35.095548</td>\n",
              "      <td>Jeans</td>\n",
              "      <td>68.949997</td>\n",
              "    </tr>\n",
              "    <tr>\n",
              "      <th>3</th>\n",
              "      <td>57.132000</td>\n",
              "      <td>Tops &amp; Tees</td>\n",
              "      <td>108.000000</td>\n",
              "      <td>Women</td>\n",
              "      <td>2021-12-22 18:05:00+00:00</td>\n",
              "      <td>35.095548</td>\n",
              "      <td>Jeans</td>\n",
              "      <td>68.949997</td>\n",
              "    </tr>\n",
              "    <tr>\n",
              "      <th>4</th>\n",
              "      <td>52.358000</td>\n",
              "      <td>Tops &amp; Tees</td>\n",
              "      <td>94.000000</td>\n",
              "      <td>Women</td>\n",
              "      <td>2020-04-19 03:52:00+00:00</td>\n",
              "      <td>35.095548</td>\n",
              "      <td>Jeans</td>\n",
              "      <td>68.949997</td>\n",
              "    </tr>\n",
              "    <tr>\n",
              "      <th>...</th>\n",
              "      <td>...</td>\n",
              "      <td>...</td>\n",
              "      <td>...</td>\n",
              "      <td>...</td>\n",
              "      <td>...</td>\n",
              "      <td>...</td>\n",
              "      <td>...</td>\n",
              "      <td>...</td>\n",
              "    </tr>\n",
              "    <tr>\n",
              "      <th>29115</th>\n",
              "      <td>36.023041</td>\n",
              "      <td>Accessories</td>\n",
              "      <td>101.760002</td>\n",
              "      <td>Men</td>\n",
              "      <td>2022-04-23 12:37:27+00:00</td>\n",
              "      <td>11.560700</td>\n",
              "      <td>Skirts</td>\n",
              "      <td>29.950001</td>\n",
              "    </tr>\n",
              "    <tr>\n",
              "      <th>29116</th>\n",
              "      <td>40.392000</td>\n",
              "      <td>Accessories</td>\n",
              "      <td>108.000000</td>\n",
              "      <td>Men</td>\n",
              "      <td>2020-12-17 05:29:00+00:00</td>\n",
              "      <td>11.560700</td>\n",
              "      <td>Skirts</td>\n",
              "      <td>29.950001</td>\n",
              "    </tr>\n",
              "    <tr>\n",
              "      <th>29117</th>\n",
              "      <td>38.720000</td>\n",
              "      <td>Accessories</td>\n",
              "      <td>110.000000</td>\n",
              "      <td>Men</td>\n",
              "      <td>2020-01-22 03:23:34+00:00</td>\n",
              "      <td>22.245551</td>\n",
              "      <td>Sweaters</td>\n",
              "      <td>49.990002</td>\n",
              "    </tr>\n",
              "    <tr>\n",
              "      <th>29118</th>\n",
              "      <td>19.416419</td>\n",
              "      <td>Accessories</td>\n",
              "      <td>48.419998</td>\n",
              "      <td>Men</td>\n",
              "      <td>2020-01-17 08:20:00+00:00</td>\n",
              "      <td>22.245551</td>\n",
              "      <td>Sweaters</td>\n",
              "      <td>49.990002</td>\n",
              "    </tr>\n",
              "    <tr>\n",
              "      <th>29119</th>\n",
              "      <td>29.484000</td>\n",
              "      <td>Accessories</td>\n",
              "      <td>78.000000</td>\n",
              "      <td>Men</td>\n",
              "      <td>2020-05-16 17:51:00+00:00</td>\n",
              "      <td>22.245551</td>\n",
              "      <td>Sweaters</td>\n",
              "      <td>49.990002</td>\n",
              "    </tr>\n",
              "  </tbody>\n",
              "</table>\n",
              "<p>29120 rows × 8 columns</p>\n",
              "</div>"
            ],
            "text/plain": [
              "            cost     category  retail_price department  \\\n",
              "0      27.048000  Tops & Tees     49.000000      Women   \n",
              "1      36.626500  Tops & Tees     69.500000      Women   \n",
              "2      41.005000  Tops & Tees     69.500000      Women   \n",
              "3      57.132000  Tops & Tees    108.000000      Women   \n",
              "4      52.358000  Tops & Tees     94.000000      Women   \n",
              "...          ...          ...           ...        ...   \n",
              "29115  36.023041  Accessories    101.760002        Men   \n",
              "29116  40.392000  Accessories    108.000000        Men   \n",
              "29117  38.720000  Accessories    110.000000        Men   \n",
              "29118  19.416419  Accessories     48.419998        Men   \n",
              "29119  29.484000  Accessories     78.000000        Men   \n",
              "\n",
              "                     created_at     cost-2 product_category  \\\n",
              "0                           NaT        NaN              NaN   \n",
              "1                           NaT        NaN              NaN   \n",
              "2     2019-06-10 16:04:28+00:00  35.095548            Jeans   \n",
              "3     2021-12-22 18:05:00+00:00  35.095548            Jeans   \n",
              "4     2020-04-19 03:52:00+00:00  35.095548            Jeans   \n",
              "...                         ...        ...              ...   \n",
              "29115 2022-04-23 12:37:27+00:00  11.560700           Skirts   \n",
              "29116 2020-12-17 05:29:00+00:00  11.560700           Skirts   \n",
              "29117 2020-01-22 03:23:34+00:00  22.245551         Sweaters   \n",
              "29118 2020-01-17 08:20:00+00:00  22.245551         Sweaters   \n",
              "29119 2020-05-16 17:51:00+00:00  22.245551         Sweaters   \n",
              "\n",
              "       product_retail_price  \n",
              "0                       NaN  \n",
              "1                       NaN  \n",
              "2                 68.949997  \n",
              "3                 68.949997  \n",
              "4                 68.949997  \n",
              "...                     ...  \n",
              "29115             29.950001  \n",
              "29116             29.950001  \n",
              "29117             49.990002  \n",
              "29118             49.990002  \n",
              "29119             49.990002  \n",
              "\n",
              "[29120 rows x 8 columns]"
            ]
          },
          "execution_count": 107,
          "metadata": {},
          "output_type": "execute_result"
        }
      ],
      "source": [
        "a = data.drop(['id','id-2','product_id','sold_at','brand','product_sku','product_department','name','product_name','product_brand','product_distribution_center_id','product_sku','sku','distribution_center_id'], axis =1)\n",
        "a"
      ]
    },
    {
      "cell_type": "code",
      "execution_count": null,
      "metadata": {
        "id": "bjVxpzmOJY1Y",
        "outputId": "2ba3eca1-72b4-4a34-da01-99e0789d3ebc"
      },
      "outputs": [
        {
          "data": {
            "text/plain": [
              "cost                       0\n",
              "category                   0\n",
              "retail_price               0\n",
              "department                 0\n",
              "created_at              9595\n",
              "cost-2                  9595\n",
              "product_category        9595\n",
              "product_retail_price    9595\n",
              "dtype: int64"
            ]
          },
          "execution_count": 108,
          "metadata": {},
          "output_type": "execute_result"
        }
      ],
      "source": [
        "a.isna().sum()"
      ]
    },
    {
      "cell_type": "code",
      "execution_count": null,
      "metadata": {
        "id": "NAAaeWghJY1Z",
        "outputId": "23985a14-3866-4d20-d25c-0284c50d6636"
      },
      "outputs": [
        {
          "data": {
            "text/html": [
              "<div>\n",
              "<style scoped>\n",
              "    .dataframe tbody tr th:only-of-type {\n",
              "        vertical-align: middle;\n",
              "    }\n",
              "\n",
              "    .dataframe tbody tr th {\n",
              "        vertical-align: top;\n",
              "    }\n",
              "\n",
              "    .dataframe thead th {\n",
              "        text-align: right;\n",
              "    }\n",
              "</style>\n",
              "<table border=\"1\" class=\"dataframe\">\n",
              "  <thead>\n",
              "    <tr style=\"text-align: right;\">\n",
              "      <th></th>\n",
              "      <th>cost</th>\n",
              "      <th>retail_price</th>\n",
              "      <th>cost-2</th>\n",
              "      <th>product_retail_price</th>\n",
              "    </tr>\n",
              "  </thead>\n",
              "  <tbody>\n",
              "    <tr>\n",
              "      <th>count</th>\n",
              "      <td>29120.000000</td>\n",
              "      <td>29120.000000</td>\n",
              "      <td>19525.000000</td>\n",
              "      <td>19525.000000</td>\n",
              "    </tr>\n",
              "    <tr>\n",
              "      <th>mean</th>\n",
              "      <td>28.481774</td>\n",
              "      <td>59.220164</td>\n",
              "      <td>27.281650</td>\n",
              "      <td>56.367610</td>\n",
              "    </tr>\n",
              "    <tr>\n",
              "      <th>std</th>\n",
              "      <td>30.624681</td>\n",
              "      <td>65.888927</td>\n",
              "      <td>27.774676</td>\n",
              "      <td>58.754394</td>\n",
              "    </tr>\n",
              "    <tr>\n",
              "      <th>min</th>\n",
              "      <td>0.008300</td>\n",
              "      <td>0.020000</td>\n",
              "      <td>0.177380</td>\n",
              "      <td>0.490000</td>\n",
              "    </tr>\n",
              "    <tr>\n",
              "      <th>25%</th>\n",
              "      <td>11.275613</td>\n",
              "      <td>24.000000</td>\n",
              "      <td>11.081840</td>\n",
              "      <td>24.000000</td>\n",
              "    </tr>\n",
              "    <tr>\n",
              "      <th>50%</th>\n",
              "      <td>19.675081</td>\n",
              "      <td>39.990002</td>\n",
              "      <td>19.746750</td>\n",
              "      <td>39.990002</td>\n",
              "    </tr>\n",
              "    <tr>\n",
              "      <th>75%</th>\n",
              "      <td>34.440000</td>\n",
              "      <td>69.949997</td>\n",
              "      <td>32.640000</td>\n",
              "      <td>65.000000</td>\n",
              "    </tr>\n",
              "    <tr>\n",
              "      <th>max</th>\n",
              "      <td>557.151002</td>\n",
              "      <td>999.000000</td>\n",
              "      <td>537.285001</td>\n",
              "      <td>903.000000</td>\n",
              "    </tr>\n",
              "  </tbody>\n",
              "</table>\n",
              "</div>"
            ],
            "text/plain": [
              "               cost  retail_price        cost-2  product_retail_price\n",
              "count  29120.000000  29120.000000  19525.000000          19525.000000\n",
              "mean      28.481774     59.220164     27.281650             56.367610\n",
              "std       30.624681     65.888927     27.774676             58.754394\n",
              "min        0.008300      0.020000      0.177380              0.490000\n",
              "25%       11.275613     24.000000     11.081840             24.000000\n",
              "50%       19.675081     39.990002     19.746750             39.990002\n",
              "75%       34.440000     69.949997     32.640000             65.000000\n",
              "max      557.151002    999.000000    537.285001            903.000000"
            ]
          },
          "execution_count": 109,
          "metadata": {},
          "output_type": "execute_result"
        }
      ],
      "source": [
        "a.describe()"
      ]
    },
    {
      "cell_type": "code",
      "execution_count": null,
      "metadata": {
        "id": "nxn-KnCDJY1b"
      },
      "outputs": [],
      "source": []
    },
    {
      "cell_type": "code",
      "execution_count": null,
      "metadata": {
        "id": "FetiQUKEJY1b",
        "outputId": "38e5b937-4175-4659-d281-7ef027362771"
      },
      "outputs": [
        {
          "data": {
            "text/html": [
              "<div>\n",
              "<style scoped>\n",
              "    .dataframe tbody tr th:only-of-type {\n",
              "        vertical-align: middle;\n",
              "    }\n",
              "\n",
              "    .dataframe tbody tr th {\n",
              "        vertical-align: top;\n",
              "    }\n",
              "\n",
              "    .dataframe thead th {\n",
              "        text-align: right;\n",
              "    }\n",
              "</style>\n",
              "<table border=\"1\" class=\"dataframe\">\n",
              "  <thead>\n",
              "    <tr style=\"text-align: right;\">\n",
              "      <th></th>\n",
              "      <th>cost</th>\n",
              "      <th>category</th>\n",
              "      <th>retail_price</th>\n",
              "      <th>department</th>\n",
              "      <th>created_at</th>\n",
              "      <th>cost-2</th>\n",
              "      <th>product_category</th>\n",
              "      <th>product_retail_price</th>\n",
              "    </tr>\n",
              "  </thead>\n",
              "  <tbody>\n",
              "    <tr>\n",
              "      <th>0</th>\n",
              "      <td>False</td>\n",
              "      <td>False</td>\n",
              "      <td>False</td>\n",
              "      <td>False</td>\n",
              "      <td>True</td>\n",
              "      <td>True</td>\n",
              "      <td>True</td>\n",
              "      <td>True</td>\n",
              "    </tr>\n",
              "    <tr>\n",
              "      <th>1</th>\n",
              "      <td>False</td>\n",
              "      <td>False</td>\n",
              "      <td>False</td>\n",
              "      <td>False</td>\n",
              "      <td>True</td>\n",
              "      <td>True</td>\n",
              "      <td>True</td>\n",
              "      <td>True</td>\n",
              "    </tr>\n",
              "    <tr>\n",
              "      <th>2</th>\n",
              "      <td>False</td>\n",
              "      <td>False</td>\n",
              "      <td>False</td>\n",
              "      <td>False</td>\n",
              "      <td>False</td>\n",
              "      <td>False</td>\n",
              "      <td>False</td>\n",
              "      <td>False</td>\n",
              "    </tr>\n",
              "    <tr>\n",
              "      <th>3</th>\n",
              "      <td>False</td>\n",
              "      <td>False</td>\n",
              "      <td>False</td>\n",
              "      <td>False</td>\n",
              "      <td>False</td>\n",
              "      <td>False</td>\n",
              "      <td>False</td>\n",
              "      <td>False</td>\n",
              "    </tr>\n",
              "    <tr>\n",
              "      <th>4</th>\n",
              "      <td>False</td>\n",
              "      <td>False</td>\n",
              "      <td>False</td>\n",
              "      <td>False</td>\n",
              "      <td>False</td>\n",
              "      <td>False</td>\n",
              "      <td>False</td>\n",
              "      <td>False</td>\n",
              "    </tr>\n",
              "    <tr>\n",
              "      <th>...</th>\n",
              "      <td>...</td>\n",
              "      <td>...</td>\n",
              "      <td>...</td>\n",
              "      <td>...</td>\n",
              "      <td>...</td>\n",
              "      <td>...</td>\n",
              "      <td>...</td>\n",
              "      <td>...</td>\n",
              "    </tr>\n",
              "    <tr>\n",
              "      <th>29115</th>\n",
              "      <td>False</td>\n",
              "      <td>False</td>\n",
              "      <td>False</td>\n",
              "      <td>False</td>\n",
              "      <td>False</td>\n",
              "      <td>False</td>\n",
              "      <td>False</td>\n",
              "      <td>False</td>\n",
              "    </tr>\n",
              "    <tr>\n",
              "      <th>29116</th>\n",
              "      <td>False</td>\n",
              "      <td>False</td>\n",
              "      <td>False</td>\n",
              "      <td>False</td>\n",
              "      <td>False</td>\n",
              "      <td>False</td>\n",
              "      <td>False</td>\n",
              "      <td>False</td>\n",
              "    </tr>\n",
              "    <tr>\n",
              "      <th>29117</th>\n",
              "      <td>False</td>\n",
              "      <td>False</td>\n",
              "      <td>False</td>\n",
              "      <td>False</td>\n",
              "      <td>False</td>\n",
              "      <td>False</td>\n",
              "      <td>False</td>\n",
              "      <td>False</td>\n",
              "    </tr>\n",
              "    <tr>\n",
              "      <th>29118</th>\n",
              "      <td>False</td>\n",
              "      <td>False</td>\n",
              "      <td>False</td>\n",
              "      <td>False</td>\n",
              "      <td>False</td>\n",
              "      <td>False</td>\n",
              "      <td>False</td>\n",
              "      <td>False</td>\n",
              "    </tr>\n",
              "    <tr>\n",
              "      <th>29119</th>\n",
              "      <td>False</td>\n",
              "      <td>False</td>\n",
              "      <td>False</td>\n",
              "      <td>False</td>\n",
              "      <td>False</td>\n",
              "      <td>False</td>\n",
              "      <td>False</td>\n",
              "      <td>False</td>\n",
              "    </tr>\n",
              "  </tbody>\n",
              "</table>\n",
              "<p>29120 rows × 8 columns</p>\n",
              "</div>"
            ],
            "text/plain": [
              "        cost  category  retail_price  department  created_at  cost-2  \\\n",
              "0      False     False         False       False        True    True   \n",
              "1      False     False         False       False        True    True   \n",
              "2      False     False         False       False       False   False   \n",
              "3      False     False         False       False       False   False   \n",
              "4      False     False         False       False       False   False   \n",
              "...      ...       ...           ...         ...         ...     ...   \n",
              "29115  False     False         False       False       False   False   \n",
              "29116  False     False         False       False       False   False   \n",
              "29117  False     False         False       False       False   False   \n",
              "29118  False     False         False       False       False   False   \n",
              "29119  False     False         False       False       False   False   \n",
              "\n",
              "       product_category  product_retail_price  \n",
              "0                  True                  True  \n",
              "1                  True                  True  \n",
              "2                 False                 False  \n",
              "3                 False                 False  \n",
              "4                 False                 False  \n",
              "...                 ...                   ...  \n",
              "29115             False                 False  \n",
              "29116             False                 False  \n",
              "29117             False                 False  \n",
              "29118             False                 False  \n",
              "29119             False                 False  \n",
              "\n",
              "[29120 rows x 8 columns]"
            ]
          },
          "execution_count": 110,
          "metadata": {},
          "output_type": "execute_result"
        }
      ],
      "source": [
        "a.isnull()"
      ]
    },
    {
      "cell_type": "code",
      "execution_count": null,
      "metadata": {
        "id": "xrKDd7UPJY1d",
        "outputId": "4f87debc-291b-46c4-ae96-6fb6dafda766"
      },
      "outputs": [
        {
          "data": {
            "text/plain": [
              "<bound method DataFrame.nunique of             cost     category  retail_price department  \\\n",
              "0      27.048000  Tops & Tees     49.000000      Women   \n",
              "1      36.626500  Tops & Tees     69.500000      Women   \n",
              "2      41.005000  Tops & Tees     69.500000      Women   \n",
              "3      57.132000  Tops & Tees    108.000000      Women   \n",
              "4      52.358000  Tops & Tees     94.000000      Women   \n",
              "...          ...          ...           ...        ...   \n",
              "29115  36.023041  Accessories    101.760002        Men   \n",
              "29116  40.392000  Accessories    108.000000        Men   \n",
              "29117  38.720000  Accessories    110.000000        Men   \n",
              "29118  19.416419  Accessories     48.419998        Men   \n",
              "29119  29.484000  Accessories     78.000000        Men   \n",
              "\n",
              "                     created_at     cost-2 product_category  \\\n",
              "0                           NaT        NaN              NaN   \n",
              "1                           NaT        NaN              NaN   \n",
              "2     2019-06-10 16:04:28+00:00  35.095548            Jeans   \n",
              "3     2021-12-22 18:05:00+00:00  35.095548            Jeans   \n",
              "4     2020-04-19 03:52:00+00:00  35.095548            Jeans   \n",
              "...                         ...        ...              ...   \n",
              "29115 2022-04-23 12:37:27+00:00  11.560700           Skirts   \n",
              "29116 2020-12-17 05:29:00+00:00  11.560700           Skirts   \n",
              "29117 2020-01-22 03:23:34+00:00  22.245551         Sweaters   \n",
              "29118 2020-01-17 08:20:00+00:00  22.245551         Sweaters   \n",
              "29119 2020-05-16 17:51:00+00:00  22.245551         Sweaters   \n",
              "\n",
              "       product_retail_price  \n",
              "0                       NaN  \n",
              "1                       NaN  \n",
              "2                 68.949997  \n",
              "3                 68.949997  \n",
              "4                 68.949997  \n",
              "...                     ...  \n",
              "29115             29.950001  \n",
              "29116             29.950001  \n",
              "29117             49.990002  \n",
              "29118             49.990002  \n",
              "29119             49.990002  \n",
              "\n",
              "[29120 rows x 8 columns]>"
            ]
          },
          "execution_count": 111,
          "metadata": {},
          "output_type": "execute_result"
        }
      ],
      "source": [
        "a.nunique"
      ]
    },
    {
      "cell_type": "code",
      "execution_count": null,
      "metadata": {
        "id": "CY7wL88jJY1e",
        "outputId": "2f8e3098-4b20-4efb-c90c-d9e685824ad0"
      },
      "outputs": [
        {
          "data": {
            "text/plain": [
              "cost                       0\n",
              "category                   0\n",
              "retail_price               0\n",
              "department                 0\n",
              "created_at              9595\n",
              "cost-2                  9595\n",
              "product_category        9595\n",
              "product_retail_price    9595\n",
              "dtype: int64"
            ]
          },
          "execution_count": 112,
          "metadata": {},
          "output_type": "execute_result"
        }
      ],
      "source": [
        "a.isna().sum()"
      ]
    },
    {
      "cell_type": "code",
      "execution_count": null,
      "metadata": {
        "id": "TbFidzHfJY1f",
        "outputId": "e8995968-aa50-4901-c0b8-3cae69248c88"
      },
      "outputs": [
        {
          "name": "stdout",
          "output_type": "stream",
          "text": [
            "persentase data yang hiang pada column Cost 2 = 32.95%\n",
            "persentase data yang hiang pada column product category = 32.95%\n",
            "persentase data yang hiang pada column product retail category = 32.95%\n"
          ]
        }
      ],
      "source": [
        "persentase_cost2 = a['cost-2'].isna().mean()*100\n",
        "print('persentase data yang hiang pada column Cost 2 = {:.2f}%'.format(persentase_cost2))\n",
        "persentase_pc = a['product_category'].isna().mean()*100\n",
        "print('persentase data yang hiang pada column product category = {:.2f}%'.format(persentase_pc))\n",
        "persentase_prp = a['product_retail_price'].isna().mean()*100\n",
        "print('persentase data yang hiang pada column product retail category = {:.2f}%'.format(persentase_prp))\n"
      ]
    },
    {
      "cell_type": "code",
      "execution_count": null,
      "metadata": {
        "id": "17siHc4_JY1h",
        "outputId": "5a5802c0-4f91-405b-a0c2-4fe90302a20b"
      },
      "outputs": [
        {
          "data": {
            "text/plain": [
              "array(['Tops & Tees', 'Sweaters', 'Fashion Hoodies & Sweatshirts',\n",
              "       'Active', 'Dresses', 'Jumpsuits & Rompers', 'Jeans',\n",
              "       'Pants & Capris', 'Leggings', 'Shorts', 'Skirts',\n",
              "       'Blazers & Jackets', 'Clothing Sets', 'Suits', 'Outerwear & Coats',\n",
              "       'Socks & Hosiery', 'Sleep & Lounge', 'Intimates', 'Swim',\n",
              "       'Accessories', 'Maternity', 'Plus', 'Suits & Sport Coats', 'Pants',\n",
              "       'Socks', 'Underwear'], dtype=object)"
            ]
          },
          "execution_count": 114,
          "metadata": {},
          "output_type": "execute_result"
        }
      ],
      "source": [
        "a['category'].unique()"
      ]
    },
    {
      "cell_type": "code",
      "execution_count": null,
      "metadata": {
        "id": "Qx_gl7HAJY1h",
        "outputId": "5b825b16-42e1-40d2-d77b-6b3978413112"
      },
      "outputs": [
        {
          "data": {
            "image/png": "[encoded data removed]",
            "text/plain": [
              "<Figure size 864x504 with 1 Axes>"
            ]
          },
          "metadata": {
            "needs_background": "light"
          },
          "output_type": "display_data"
        }
      ],
      "source": [
        "plt.figure(figsize=(12,7))\n",
        "plt.bar(a['category'], a['cost'], color='lightcoral')\n",
        "\n",
        "plt.title('persebaran data category product', size=16)\n",
        "plt.ylabel('cost', size=12)\n",
        "plt.xticks(size=12)\n",
        "plt.yticks(size=12)\n",
        "\n",
        "plt.show()"
      ]
    },
    {
      "cell_type": "code",
      "execution_count": null,
      "metadata": {
        "id": "6MZT6t2NJY1j",
        "outputId": "2b8108ee-73d1-4698-c44b-52e5bf8dcc20"
      },
      "outputs": [
        {
          "data": {
            "text/plain": [
              "<AxesSubplot:>"
            ]
          },
          "execution_count": 117,
          "metadata": {},
          "output_type": "execute_result"
        },
        {
          "data": {
            "image/png": "[encoded data removed]",
            "text/plain": [
              "<Figure size 432x288 with 1 Axes>"
            ]
          },
          "metadata": {
            "needs_background": "light"
          },
          "output_type": "display_data"
        }
      ],
      "source": [
        "a['department'].hist()"
      ]
    },
    {
      "cell_type": "code",
      "execution_count": null,
      "metadata": {
        "id": "B9uhUm_qJY1k",
        "outputId": "8a6054fd-8391-49a0-d085-ae45a882d121"
      },
      "outputs": [
        {
          "data": {
            "text/plain": [
              "0"
            ]
          },
          "execution_count": 118,
          "metadata": {},
          "output_type": "execute_result"
        }
      ],
      "source": [
        "rata_price_produk = a['product_retail_price'].mean()\n",
        "a['product_retail_price'] = a['product_retail_price'].fillna(rata_price_produk)\n",
        "a['product_retail_price'].isna().sum()"
      ]
    },
    {
      "cell_type": "code",
      "execution_count": null,
      "metadata": {
        "id": "u-y_GZ0CJY1l",
        "outputId": "2acf5871-fa7e-4b3e-e57b-c7a0627a14dd"
      },
      "outputs": [
        {
          "data": {
            "text/plain": [
              "0"
            ]
          },
          "execution_count": 119,
          "metadata": {},
          "output_type": "execute_result"
        }
      ],
      "source": [
        "rata_cost2 = a['cost-2'].mean()\n",
        "a['cost-2'] = a['cost-2'].fillna(rata_cost2)\n",
        "a['cost-2'].isna().sum()"
      ]
    },
    {
      "cell_type": "code",
      "execution_count": null,
      "metadata": {
        "id": "CbOOF_KDJY1m",
        "outputId": "03e8a428-aae7-4195-b8a7-25b6f4483247"
      },
      "outputs": [
        {
          "data": {
            "text/plain": [
              "0"
            ]
          },
          "execution_count": 120,
          "metadata": {},
          "output_type": "execute_result"
        }
      ],
      "source": [
        "rata_cost = a['retail_price'].mean()\n",
        "a['retail_price'] = a['retail_price'].fillna(rata_cost)\n",
        "a['retail_price'].isna().sum()"
      ]
    },
    {
      "cell_type": "code",
      "execution_count": null,
      "metadata": {
        "id": "Z9A6FSZ0JY1n",
        "outputId": "b2e6c1a3-eac4-4af9-b6db-4e589aea8484"
      },
      "outputs": [
        {
          "data": {
            "text/plain": [
              "cost                       0\n",
              "category                   0\n",
              "retail_price               0\n",
              "department                 0\n",
              "created_at              9595\n",
              "cost-2                     0\n",
              "product_category        9595\n",
              "product_retail_price       0\n",
              "dtype: int64"
            ]
          },
          "execution_count": 121,
          "metadata": {},
          "output_type": "execute_result"
        }
      ],
      "source": [
        "a.isna().sum()"
      ]
    },
    {
      "cell_type": "code",
      "execution_count": null,
      "metadata": {
        "id": "JRVJRZHiJY1n",
        "outputId": "8325f66d-8d3c-4899-8f55-a18ccc2db934"
      },
      "outputs": [
        {
          "data": {
            "text/plain": [
              "Intimates                        1521\n",
              "Swim                             1509\n",
              "Shorts                           1409\n",
              "Accessories                      1310\n",
              "Jeans                            1299\n",
              "Fashion Hoodies & Sweatshirts    1293\n",
              "Active                           1186\n",
              "Tops & Tees                      1109\n",
              "Outerwear & Coats                1014\n",
              "Sweaters                         1001\n",
              "Underwear                         943\n",
              "Sleep & Lounge                    863\n",
              "Pants                             817\n",
              "Socks                             716\n",
              "Plus                              485\n",
              "Dresses                           460\n",
              "Suits & Sport Coats               413\n",
              "Socks & Hosiery                   406\n",
              "Pants & Capris                    359\n",
              "Leggings                          329\n",
              "Blazers & Jackets                 294\n",
              "Maternity                         290\n",
              "Suits                             179\n",
              "Skirts                            176\n",
              "Jumpsuits & Rompers               127\n",
              "Clothing Sets                      17\n",
              "Name: product_category, dtype: int64"
            ]
          },
          "execution_count": 122,
          "metadata": {},
          "output_type": "execute_result"
        }
      ],
      "source": [
        "a['product_category'].value_counts()"
      ]
    },
    {
      "cell_type": "code",
      "execution_count": null,
      "metadata": {
        "id": "UG9QhaAoJY1o"
      },
      "outputs": [],
      "source": [
        "a['product_category'] = a['product_category'].fillna(method = 'bfill')"
      ]
    },
    {
      "cell_type": "code",
      "execution_count": null,
      "metadata": {
        "id": "GxHJB8azJY1p",
        "outputId": "d1ce140b-1d5a-428f-f696-313a3c344376"
      },
      "outputs": [
        {
          "data": {
            "text/plain": [
              "Intimates                        2369\n",
              "Swim                             2273\n",
              "Shorts                           2103\n",
              "Jeans                            1951\n",
              "Accessories                      1926\n",
              "Fashion Hoodies & Sweatshirts    1890\n",
              "Active                           1760\n",
              "Tops & Tees                      1677\n",
              "Outerwear & Coats                1511\n",
              "Sweaters                         1471\n",
              "Underwear                        1346\n",
              "Sleep & Lounge                   1299\n",
              "Pants                            1236\n",
              "Socks                            1003\n",
              "Dresses                           757\n",
              "Plus                              719\n",
              "Suits & Sport Coats               586\n",
              "Socks & Hosiery                   578\n",
              "Pants & Capris                    576\n",
              "Leggings                          488\n",
              "Maternity                         447\n",
              "Blazers & Jackets                 410\n",
              "Suits                             271\n",
              "Skirts                            269\n",
              "Jumpsuits & Rompers               183\n",
              "Clothing Sets                      21\n",
              "Name: product_category, dtype: int64"
            ]
          },
          "execution_count": 70,
          "metadata": {},
          "output_type": "execute_result"
        }
      ],
      "source": [
        "a['product_category'].value_counts()"
      ]
    },
    {
      "cell_type": "code",
      "execution_count": null,
      "metadata": {
        "id": "2uD_QBSpJY1q",
        "outputId": "ccffbc7d-73a7-48ef-d9e1-4a2d5bb3e93f"
      },
      "outputs": [
        {
          "data": {
            "text/html": [
              "<div>\n",
              "<style scoped>\n",
              "    .dataframe tbody tr th:only-of-type {\n",
              "        vertical-align: middle;\n",
              "    }\n",
              "\n",
              "    .dataframe tbody tr th {\n",
              "        vertical-align: top;\n",
              "    }\n",
              "\n",
              "    .dataframe thead th {\n",
              "        text-align: right;\n",
              "    }\n",
              "</style>\n",
              "<table border=\"1\" class=\"dataframe\">\n",
              "  <thead>\n",
              "    <tr style=\"text-align: right;\">\n",
              "      <th></th>\n",
              "      <th>cost</th>\n",
              "      <th>category</th>\n",
              "      <th>retail_price</th>\n",
              "      <th>department</th>\n",
              "      <th>cost-2</th>\n",
              "      <th>product_category</th>\n",
              "      <th>product_retail_price</th>\n",
              "    </tr>\n",
              "  </thead>\n",
              "  <tbody>\n",
              "    <tr>\n",
              "      <th>0</th>\n",
              "      <td>27.048000</td>\n",
              "      <td>Tops &amp; Tees</td>\n",
              "      <td>49.000000</td>\n",
              "      <td>Women</td>\n",
              "      <td>27.281650</td>\n",
              "      <td>NaN</td>\n",
              "      <td>56.367610</td>\n",
              "    </tr>\n",
              "    <tr>\n",
              "      <th>1</th>\n",
              "      <td>36.626500</td>\n",
              "      <td>Tops &amp; Tees</td>\n",
              "      <td>69.500000</td>\n",
              "      <td>Women</td>\n",
              "      <td>27.281650</td>\n",
              "      <td>NaN</td>\n",
              "      <td>56.367610</td>\n",
              "    </tr>\n",
              "    <tr>\n",
              "      <th>2</th>\n",
              "      <td>41.005000</td>\n",
              "      <td>Tops &amp; Tees</td>\n",
              "      <td>69.500000</td>\n",
              "      <td>Women</td>\n",
              "      <td>35.095548</td>\n",
              "      <td>Jeans</td>\n",
              "      <td>68.949997</td>\n",
              "    </tr>\n",
              "    <tr>\n",
              "      <th>3</th>\n",
              "      <td>57.132000</td>\n",
              "      <td>Tops &amp; Tees</td>\n",
              "      <td>108.000000</td>\n",
              "      <td>Women</td>\n",
              "      <td>35.095548</td>\n",
              "      <td>Jeans</td>\n",
              "      <td>68.949997</td>\n",
              "    </tr>\n",
              "    <tr>\n",
              "      <th>4</th>\n",
              "      <td>52.358000</td>\n",
              "      <td>Tops &amp; Tees</td>\n",
              "      <td>94.000000</td>\n",
              "      <td>Women</td>\n",
              "      <td>35.095548</td>\n",
              "      <td>Jeans</td>\n",
              "      <td>68.949997</td>\n",
              "    </tr>\n",
              "    <tr>\n",
              "      <th>...</th>\n",
              "      <td>...</td>\n",
              "      <td>...</td>\n",
              "      <td>...</td>\n",
              "      <td>...</td>\n",
              "      <td>...</td>\n",
              "      <td>...</td>\n",
              "      <td>...</td>\n",
              "    </tr>\n",
              "    <tr>\n",
              "      <th>29115</th>\n",
              "      <td>36.023041</td>\n",
              "      <td>Accessories</td>\n",
              "      <td>101.760002</td>\n",
              "      <td>Men</td>\n",
              "      <td>11.560700</td>\n",
              "      <td>Skirts</td>\n",
              "      <td>29.950001</td>\n",
              "    </tr>\n",
              "    <tr>\n",
              "      <th>29116</th>\n",
              "      <td>40.392000</td>\n",
              "      <td>Accessories</td>\n",
              "      <td>108.000000</td>\n",
              "      <td>Men</td>\n",
              "      <td>11.560700</td>\n",
              "      <td>Skirts</td>\n",
              "      <td>29.950001</td>\n",
              "    </tr>\n",
              "    <tr>\n",
              "      <th>29117</th>\n",
              "      <td>38.720000</td>\n",
              "      <td>Accessories</td>\n",
              "      <td>110.000000</td>\n",
              "      <td>Men</td>\n",
              "      <td>22.245551</td>\n",
              "      <td>Sweaters</td>\n",
              "      <td>49.990002</td>\n",
              "    </tr>\n",
              "    <tr>\n",
              "      <th>29118</th>\n",
              "      <td>19.416419</td>\n",
              "      <td>Accessories</td>\n",
              "      <td>48.419998</td>\n",
              "      <td>Men</td>\n",
              "      <td>22.245551</td>\n",
              "      <td>Sweaters</td>\n",
              "      <td>49.990002</td>\n",
              "    </tr>\n",
              "    <tr>\n",
              "      <th>29119</th>\n",
              "      <td>29.484000</td>\n",
              "      <td>Accessories</td>\n",
              "      <td>78.000000</td>\n",
              "      <td>Men</td>\n",
              "      <td>22.245551</td>\n",
              "      <td>Sweaters</td>\n",
              "      <td>49.990002</td>\n",
              "    </tr>\n",
              "  </tbody>\n",
              "</table>\n",
              "<p>29120 rows × 7 columns</p>\n",
              "</div>"
            ],
            "text/plain": [
              "            cost     category  retail_price department     cost-2  \\\n",
              "0      27.048000  Tops & Tees     49.000000      Women  27.281650   \n",
              "1      36.626500  Tops & Tees     69.500000      Women  27.281650   \n",
              "2      41.005000  Tops & Tees     69.500000      Women  35.095548   \n",
              "3      57.132000  Tops & Tees    108.000000      Women  35.095548   \n",
              "4      52.358000  Tops & Tees     94.000000      Women  35.095548   \n",
              "...          ...          ...           ...        ...        ...   \n",
              "29115  36.023041  Accessories    101.760002        Men  11.560700   \n",
              "29116  40.392000  Accessories    108.000000        Men  11.560700   \n",
              "29117  38.720000  Accessories    110.000000        Men  22.245551   \n",
              "29118  19.416419  Accessories     48.419998        Men  22.245551   \n",
              "29119  29.484000  Accessories     78.000000        Men  22.245551   \n",
              "\n",
              "      product_category  product_retail_price  \n",
              "0                  NaN             56.367610  \n",
              "1                  NaN             56.367610  \n",
              "2                Jeans             68.949997  \n",
              "3                Jeans             68.949997  \n",
              "4                Jeans             68.949997  \n",
              "...                ...                   ...  \n",
              "29115           Skirts             29.950001  \n",
              "29116           Skirts             29.950001  \n",
              "29117         Sweaters             49.990002  \n",
              "29118         Sweaters             49.990002  \n",
              "29119         Sweaters             49.990002  \n",
              "\n",
              "[29120 rows x 7 columns]"
            ]
          },
          "execution_count": 123,
          "metadata": {},
          "output_type": "execute_result"
        }
      ],
      "source": [
        "a.isna().sum()\n",
        "a.drop(['created_at'], axis =1)"
      ]
    },
    {
      "cell_type": "code",
      "execution_count": null,
      "metadata": {
        "id": "tCxaUc6KJY1r",
        "outputId": "e4fcb8c7-73a7-4820-874e-350637e32902"
      },
      "outputs": [
        {
          "data": {
            "text/plain": [
              "0        False\n",
              "1        False\n",
              "2        False\n",
              "3        False\n",
              "4        False\n",
              "         ...  \n",
              "29115    False\n",
              "29116    False\n",
              "29117    False\n",
              "29118    False\n",
              "29119    False\n",
              "Length: 29120, dtype: bool"
            ]
          },
          "execution_count": 72,
          "metadata": {},
          "output_type": "execute_result"
        }
      ],
      "source": [
        "a.duplicated()"
      ]
    },
    {
      "cell_type": "code",
      "execution_count": null,
      "metadata": {
        "id": "pbxIT0gvJY1r"
      },
      "outputs": [],
      "source": [
        "corr = a.corr()"
      ]
    },
    {
      "cell_type": "code",
      "execution_count": null,
      "metadata": {
        "id": "GzOT_lAAJY1s",
        "outputId": "e8b6a5e8-7d4d-49b1-9c18-023f512d22aa"
      },
      "outputs": [
        {
          "data": {
            "text/html": [
              "<div>\n",
              "<style scoped>\n",
              "    .dataframe tbody tr th:only-of-type {\n",
              "        vertical-align: middle;\n",
              "    }\n",
              "\n",
              "    .dataframe tbody tr th {\n",
              "        vertical-align: top;\n",
              "    }\n",
              "\n",
              "    .dataframe thead th {\n",
              "        text-align: right;\n",
              "    }\n",
              "</style>\n",
              "<table border=\"1\" class=\"dataframe\">\n",
              "  <thead>\n",
              "    <tr style=\"text-align: right;\">\n",
              "      <th></th>\n",
              "      <th>cost</th>\n",
              "      <th>retail_price</th>\n",
              "      <th>cost-2</th>\n",
              "      <th>product_retail_price</th>\n",
              "    </tr>\n",
              "  </thead>\n",
              "  <tbody>\n",
              "    <tr>\n",
              "      <th>cost</th>\n",
              "      <td>1.000000</td>\n",
              "      <td>0.982506</td>\n",
              "      <td>0.003521</td>\n",
              "      <td>0.003432</td>\n",
              "    </tr>\n",
              "    <tr>\n",
              "      <th>retail_price</th>\n",
              "      <td>0.982506</td>\n",
              "      <td>1.000000</td>\n",
              "      <td>0.003757</td>\n",
              "      <td>0.003369</td>\n",
              "    </tr>\n",
              "    <tr>\n",
              "      <th>cost-2</th>\n",
              "      <td>0.003521</td>\n",
              "      <td>0.003757</td>\n",
              "      <td>1.000000</td>\n",
              "      <td>0.980584</td>\n",
              "    </tr>\n",
              "    <tr>\n",
              "      <th>product_retail_price</th>\n",
              "      <td>0.003432</td>\n",
              "      <td>0.003369</td>\n",
              "      <td>0.980584</td>\n",
              "      <td>1.000000</td>\n",
              "    </tr>\n",
              "  </tbody>\n",
              "</table>\n",
              "</div>"
            ],
            "text/plain": [
              "                          cost  retail_price    cost-2  product_retail_price\n",
              "cost                  1.000000      0.982506  0.003521              0.003432\n",
              "retail_price          0.982506      1.000000  0.003757              0.003369\n",
              "cost-2                0.003521      0.003757  1.000000              0.980584\n",
              "product_retail_price  0.003432      0.003369  0.980584              1.000000"
            ]
          },
          "execution_count": 125,
          "metadata": {},
          "output_type": "execute_result"
        }
      ],
      "source": [
        "corr"
      ]
    },
    {
      "cell_type": "code",
      "execution_count": null,
      "metadata": {
        "id": "8lrImh2pJY1t",
        "outputId": "3745fe35-dbd2-432f-a332-aa17551e941f"
      },
      "outputs": [
        {
          "data": {
            "image/png": "[encoded data removed]",
            "text/plain": [
              "<Figure size 648x648 with 2 Axes>"
            ]
          },
          "metadata": {
            "needs_background": "light"
          },
          "output_type": "display_data"
        }
      ],
      "source": [
        "plt.figure(figsize=(9,9))\n",
        "sns.heatmap(a.corr(), cmap='coolwarm', linewidths=2, annot=True)\n",
        "plt.show()"
      ]
    },
    {
      "cell_type": "code",
      "execution_count": null,
      "metadata": {
        "id": "VaNl9GkRJY1u",
        "outputId": "fcc67a26-62b6-43a0-a603-aba2e4859fda"
      },
      "outputs": [
        {
          "data": {
            "text/html": [
              "<div>\n",
              "<style scoped>\n",
              "    .dataframe tbody tr th:only-of-type {\n",
              "        vertical-align: middle;\n",
              "    }\n",
              "\n",
              "    .dataframe tbody tr th {\n",
              "        vertical-align: top;\n",
              "    }\n",
              "\n",
              "    .dataframe thead th {\n",
              "        text-align: right;\n",
              "    }\n",
              "</style>\n",
              "<table border=\"1\" class=\"dataframe\">\n",
              "  <thead>\n",
              "    <tr style=\"text-align: right;\">\n",
              "      <th></th>\n",
              "      <th>cost</th>\n",
              "      <th>retail_price</th>\n",
              "      <th>cost-2</th>\n",
              "      <th>product_retail_price</th>\n",
              "    </tr>\n",
              "  </thead>\n",
              "  <tbody>\n",
              "    <tr>\n",
              "      <th>count</th>\n",
              "      <td>29120.000000</td>\n",
              "      <td>29120.000000</td>\n",
              "      <td>29120.000000</td>\n",
              "      <td>29120.000000</td>\n",
              "    </tr>\n",
              "    <tr>\n",
              "      <th>mean</th>\n",
              "      <td>28.481774</td>\n",
              "      <td>59.220164</td>\n",
              "      <td>27.281650</td>\n",
              "      <td>56.367610</td>\n",
              "    </tr>\n",
              "    <tr>\n",
              "      <th>std</th>\n",
              "      <td>30.624681</td>\n",
              "      <td>65.888927</td>\n",
              "      <td>22.742865</td>\n",
              "      <td>48.110129</td>\n",
              "    </tr>\n",
              "    <tr>\n",
              "      <th>min</th>\n",
              "      <td>0.008300</td>\n",
              "      <td>0.020000</td>\n",
              "      <td>0.177380</td>\n",
              "      <td>0.490000</td>\n",
              "    </tr>\n",
              "    <tr>\n",
              "      <th>25%</th>\n",
              "      <td>11.275613</td>\n",
              "      <td>24.000000</td>\n",
              "      <td>14.813890</td>\n",
              "      <td>29.990000</td>\n",
              "    </tr>\n",
              "    <tr>\n",
              "      <th>50%</th>\n",
              "      <td>19.675081</td>\n",
              "      <td>39.990002</td>\n",
              "      <td>27.281650</td>\n",
              "      <td>56.367610</td>\n",
              "    </tr>\n",
              "    <tr>\n",
              "      <th>75%</th>\n",
              "      <td>34.440000</td>\n",
              "      <td>69.949997</td>\n",
              "      <td>27.281650</td>\n",
              "      <td>56.367610</td>\n",
              "    </tr>\n",
              "    <tr>\n",
              "      <th>max</th>\n",
              "      <td>557.151002</td>\n",
              "      <td>999.000000</td>\n",
              "      <td>537.285001</td>\n",
              "      <td>903.000000</td>\n",
              "    </tr>\n",
              "  </tbody>\n",
              "</table>\n",
              "</div>"
            ],
            "text/plain": [
              "               cost  retail_price        cost-2  product_retail_price\n",
              "count  29120.000000  29120.000000  29120.000000          29120.000000\n",
              "mean      28.481774     59.220164     27.281650             56.367610\n",
              "std       30.624681     65.888927     22.742865             48.110129\n",
              "min        0.008300      0.020000      0.177380              0.490000\n",
              "25%       11.275613     24.000000     14.813890             29.990000\n",
              "50%       19.675081     39.990002     27.281650             56.367610\n",
              "75%       34.440000     69.949997     27.281650             56.367610\n",
              "max      557.151002    999.000000    537.285001            903.000000"
            ]
          },
          "execution_count": 76,
          "metadata": {},
          "output_type": "execute_result"
        }
      ],
      "source": [
        "a.describe()"
      ]
    },
    {
      "cell_type": "code",
      "execution_count": null,
      "metadata": {
        "id": "q11KkxgwJY1v"
      },
      "outputs": [],
      "source": [
        "import scipy.stats as stats"
      ]
    },
    {
      "cell_type": "code",
      "execution_count": null,
      "metadata": {
        "id": "BR91Nq0rJY1w"
      },
      "outputs": [],
      "source": []
    },
    {
      "cell_type": "code",
      "execution_count": null,
      "metadata": {
        "id": "6RE6zM-HJY1w",
        "outputId": "3284a83f-1a7e-4cdd-9ad3-c63c535356a4"
      },
      "outputs": [
        {
          "name": "stderr",
          "output_type": "stream",
          "text": [
            "C:\\Users\\a s u s\\anaconda\\lib\\site-packages\\seaborn\\_decorators.py:36: FutureWarning: Pass the following variable as a keyword arg: x. From version 0.12, the only valid positional argument will be `data`, and passing other arguments without an explicit keyword will result in an error or misinterpretation.\n",
            "  warnings.warn(\n"
          ]
        },
        {
          "data": {
            "text/plain": [
              "<AxesSubplot:xlabel='cost'>"
            ]
          },
          "execution_count": 128,
          "metadata": {},
          "output_type": "execute_result"
        },
        {
          "data": {
            "image/png": "[encoded data removed]",
            "text/plain": [
              "<Figure size 432x288 with 1 Axes>"
            ]
          },
          "metadata": {
            "needs_background": "light"
          },
          "output_type": "display_data"
        }
      ],
      "source": [
        "sns.boxplot(a['cost'])"
      ]
    },
    {
      "cell_type": "code",
      "execution_count": null,
      "metadata": {
        "id": "g7dj6cdgJY1x",
        "outputId": "96af4903-2ff7-46d3-ff48-04be93b72d5b"
      },
      "outputs": [
        {
          "data": {
            "text/plain": [
              "<AxesSubplot:xlabel='cost', ylabel='Count'>"
            ]
          },
          "execution_count": 129,
          "metadata": {},
          "output_type": "execute_result"
        },
        {
          "data": {
            "image/png": "[encoded data removed]",
            "text/plain": [
              "<Figure size 432x288 with 1 Axes>"
            ]
          },
          "metadata": {
            "needs_background": "light"
          },
          "output_type": "display_data"
        }
      ],
      "source": [
        "sns.histplot(a['cost'])"
      ]
    },
    {
      "cell_type": "code",
      "execution_count": null,
      "metadata": {
        "id": "7PiwafDEJY1x",
        "outputId": "380465ba-5144-4348-c748-4a0224b80c47"
      },
      "outputs": [
        {
          "data": {
            "text/plain": [
              "<AxesSubplot:xlabel='cost', ylabel='product_retail_price'>"
            ]
          },
          "execution_count": 130,
          "metadata": {},
          "output_type": "execute_result"
        },
        {
          "data": {
            "image/png": "[encoded data removed]",
            "text/plain": [
              "<Figure size 432x288 with 1 Axes>"
            ]
          },
          "metadata": {
            "needs_background": "light"
          },
          "output_type": "display_data"
        }
      ],
      "source": [
        "sns.regplot(x='cost',y='product_retail_price',data=a)"
      ]
    },
    {
      "cell_type": "code",
      "execution_count": null,
      "metadata": {
        "id": "1B1rEurhJY1y",
        "outputId": "c7ee0a6f-d4a1-4863-cc80-8128863b5fda"
      },
      "outputs": [
        {
          "data": {
            "text/plain": [
              "<AxesSubplot:xlabel='cost', ylabel='cost-2'>"
            ]
          },
          "execution_count": 131,
          "metadata": {},
          "output_type": "execute_result"
        },
        {
          "data": {
            "image/png": "[encoded data removed]",
            "text/plain": [
              "<Figure size 432x288 with 1 Axes>"
            ]
          },
          "metadata": {
            "needs_background": "light"
          },
          "output_type": "display_data"
        }
      ],
      "source": [
        "sns.regplot(x='cost',y='cost-2',data=a)"
      ]
    },
    {
      "cell_type": "code",
      "execution_count": null,
      "metadata": {
        "id": "cMukiQaHJY1z",
        "outputId": "eeefb5bb-9070-4cc9-ea39-1f1074a55fd2"
      },
      "outputs": [
        {
          "data": {
            "text/plain": [
              "<AxesSubplot:xlabel='cost', ylabel='product_retail_price'>"
            ]
          },
          "execution_count": 132,
          "metadata": {},
          "output_type": "execute_result"
        },
        {
          "data": {
            "image/png": "[encoded data removed]",
            "text/plain": [
              "<Figure size 432x288 with 1 Axes>"
            ]
          },
          "metadata": {
            "needs_background": "light"
          },
          "output_type": "display_data"
        }
      ],
      "source": [
        "sns.scatterplot(x='cost',y='product_retail_price',data=a)"
      ]
    },
    {
      "cell_type": "code",
      "execution_count": null,
      "metadata": {
        "id": "IyrbHNzSJY10",
        "outputId": "90b15a77-edd1-4784-c695-91ecdf918aae"
      },
      "outputs": [
        {
          "data": {
            "text/plain": [
              "<AxesSubplot:xlabel='cost-2', ylabel='product_retail_price'>"
            ]
          },
          "execution_count": 133,
          "metadata": {},
          "output_type": "execute_result"
        },
        {
          "data": {
            "image/png": "[encoded data removed]",
            "text/plain": [
              "<Figure size 432x288 with 1 Axes>"
            ]
          },
          "metadata": {
            "needs_background": "light"
          },
          "output_type": "display_data"
        }
      ],
      "source": [
        "sns.regplot(x='cost-2',y='product_retail_price',data=a)"
      ]
    },
    {
      "cell_type": "code",
      "execution_count": null,
      "metadata": {
        "id": "FvxF7XeXJY10",
        "outputId": "d014f115-a9bf-471e-bbc6-834763b9e5f0"
      },
      "outputs": [
        {
          "data": {
            "text/plain": [
              "29120"
            ]
          },
          "execution_count": 134,
          "metadata": {},
          "output_type": "execute_result"
        }
      ],
      "source": [
        "len(a)"
      ]
    },
    {
      "cell_type": "code",
      "execution_count": null,
      "metadata": {
        "id": "9unVo6xAJY11"
      },
      "outputs": [],
      "source": [
        "from sklearn.model_selection import train_test_split"
      ]
    },
    {
      "cell_type": "code",
      "execution_count": null,
      "metadata": {
        "id": "bnCeRXNUJY12"
      },
      "outputs": [],
      "source": [
        "train, test = train_test_split(a, test_size = 0.2, random_state= 42)"
      ]
    },
    {
      "cell_type": "code",
      "execution_count": null,
      "metadata": {
        "id": "5NqXF498JY12",
        "outputId": "931e0518-ba63-4195-fd07-d1b68c354af1"
      },
      "outputs": [
        {
          "name": "stdout",
          "output_type": "stream",
          "text": [
            "Banyak data yang akan di training =  23296\n",
            "Banyak data yang akan di Testing =  5824\n"
          ]
        }
      ],
      "source": [
        "print(\"Banyak data yang akan di training = \",len(train))\n",
        "print(\"Banyak data yang akan di Testing = \",len(test))"
      ]
    },
    {
      "cell_type": "code",
      "execution_count": null,
      "metadata": {
        "id": "iCq4770MJY13",
        "outputId": "a3eb531d-7b3c-43dc-a91c-89781c11884b"
      },
      "outputs": [
        {
          "data": {
            "text/html": [
              "<div>\n",
              "<style scoped>\n",
              "    .dataframe tbody tr th:only-of-type {\n",
              "        vertical-align: middle;\n",
              "    }\n",
              "\n",
              "    .dataframe tbody tr th {\n",
              "        vertical-align: top;\n",
              "    }\n",
              "\n",
              "    .dataframe thead th {\n",
              "        text-align: right;\n",
              "    }\n",
              "</style>\n",
              "<table border=\"1\" class=\"dataframe\">\n",
              "  <thead>\n",
              "    <tr style=\"text-align: right;\">\n",
              "      <th></th>\n",
              "      <th>cost</th>\n",
              "      <th>category</th>\n",
              "      <th>retail_price</th>\n",
              "      <th>department</th>\n",
              "      <th>created_at</th>\n",
              "      <th>cost-2</th>\n",
              "      <th>product_category</th>\n",
              "      <th>product_retail_price</th>\n",
              "    </tr>\n",
              "  </thead>\n",
              "  <tbody>\n",
              "    <tr>\n",
              "      <th>10352</th>\n",
              "      <td>14.911000</td>\n",
              "      <td>Intimates</td>\n",
              "      <td>31.000000</td>\n",
              "      <td>Women</td>\n",
              "      <td>2020-01-21 00:31:00+00:00</td>\n",
              "      <td>17.584711</td>\n",
              "      <td>Swim</td>\n",
              "      <td>40.990002</td>\n",
              "    </tr>\n",
              "    <tr>\n",
              "      <th>17119</th>\n",
              "      <td>21.434641</td>\n",
              "      <td>Fashion Hoodies &amp; Sweatshirts</td>\n",
              "      <td>39.990002</td>\n",
              "      <td>Men</td>\n",
              "      <td>2021-03-13 18:09:00+00:00</td>\n",
              "      <td>10.400000</td>\n",
              "      <td>Shorts</td>\n",
              "      <td>20.000000</td>\n",
              "    </tr>\n",
              "    <tr>\n",
              "      <th>25404</th>\n",
              "      <td>12.800000</td>\n",
              "      <td>Underwear</td>\n",
              "      <td>25.000000</td>\n",
              "      <td>Men</td>\n",
              "      <td>NaT</td>\n",
              "      <td>27.281650</td>\n",
              "      <td>NaN</td>\n",
              "      <td>56.367610</td>\n",
              "    </tr>\n",
              "    <tr>\n",
              "      <th>20791</th>\n",
              "      <td>27.835479</td>\n",
              "      <td>Jeans</td>\n",
              "      <td>48.919998</td>\n",
              "      <td>Men</td>\n",
              "      <td>2021-11-13 03:06:12+00:00</td>\n",
              "      <td>29.975000</td>\n",
              "      <td>Shorts</td>\n",
              "      <td>55.000000</td>\n",
              "    </tr>\n",
              "    <tr>\n",
              "      <th>21071</th>\n",
              "      <td>21.514621</td>\n",
              "      <td>Jeans</td>\n",
              "      <td>39.990002</td>\n",
              "      <td>Men</td>\n",
              "      <td>2020-06-26 04:09:00+00:00</td>\n",
              "      <td>22.225061</td>\n",
              "      <td>Jeans</td>\n",
              "      <td>44.990002</td>\n",
              "    </tr>\n",
              "  </tbody>\n",
              "</table>\n",
              "</div>"
            ],
            "text/plain": [
              "            cost                       category  retail_price department  \\\n",
              "10352  14.911000                      Intimates     31.000000      Women   \n",
              "17119  21.434641  Fashion Hoodies & Sweatshirts     39.990002        Men   \n",
              "25404  12.800000                      Underwear     25.000000        Men   \n",
              "20791  27.835479                          Jeans     48.919998        Men   \n",
              "21071  21.514621                          Jeans     39.990002        Men   \n",
              "\n",
              "                     created_at     cost-2 product_category  \\\n",
              "10352 2020-01-21 00:31:00+00:00  17.584711             Swim   \n",
              "17119 2021-03-13 18:09:00+00:00  10.400000           Shorts   \n",
              "25404                       NaT  27.281650              NaN   \n",
              "20791 2021-11-13 03:06:12+00:00  29.975000           Shorts   \n",
              "21071 2020-06-26 04:09:00+00:00  22.225061            Jeans   \n",
              "\n",
              "       product_retail_price  \n",
              "10352             40.990002  \n",
              "17119             20.000000  \n",
              "25404             56.367610  \n",
              "20791             55.000000  \n",
              "21071             44.990002  "
            ]
          },
          "execution_count": 138,
          "metadata": {},
          "output_type": "execute_result"
        }
      ],
      "source": [
        "train.head()"
      ]
    },
    {
      "cell_type": "code",
      "execution_count": null,
      "metadata": {
        "id": "ltrlQGEYJY14",
        "outputId": "99361073-5db8-43fc-e4ce-11788ac49a8a"
      },
      "outputs": [
        {
          "data": {
            "text/html": [
              "<div>\n",
              "<style scoped>\n",
              "    .dataframe tbody tr th:only-of-type {\n",
              "        vertical-align: middle;\n",
              "    }\n",
              "\n",
              "    .dataframe tbody tr th {\n",
              "        vertical-align: top;\n",
              "    }\n",
              "\n",
              "    .dataframe thead th {\n",
              "        text-align: right;\n",
              "    }\n",
              "</style>\n",
              "<table border=\"1\" class=\"dataframe\">\n",
              "  <thead>\n",
              "    <tr style=\"text-align: right;\">\n",
              "      <th></th>\n",
              "      <th>cost</th>\n",
              "      <th>category</th>\n",
              "      <th>retail_price</th>\n",
              "      <th>department</th>\n",
              "      <th>created_at</th>\n",
              "      <th>cost-2</th>\n",
              "      <th>product_category</th>\n",
              "      <th>product_retail_price</th>\n",
              "    </tr>\n",
              "  </thead>\n",
              "  <tbody>\n",
              "    <tr>\n",
              "      <th>4156</th>\n",
              "      <td>6.598980</td>\n",
              "      <td>Jumpsuits &amp; Rompers</td>\n",
              "      <td>12.020000</td>\n",
              "      <td>Women</td>\n",
              "      <td>NaT</td>\n",
              "      <td>27.28165</td>\n",
              "      <td>NaN</td>\n",
              "      <td>56.36761</td>\n",
              "    </tr>\n",
              "    <tr>\n",
              "      <th>5915</th>\n",
              "      <td>24.684000</td>\n",
              "      <td>Leggings</td>\n",
              "      <td>44.000000</td>\n",
              "      <td>Women</td>\n",
              "      <td>NaT</td>\n",
              "      <td>27.28165</td>\n",
              "      <td>NaN</td>\n",
              "      <td>56.36761</td>\n",
              "    </tr>\n",
              "    <tr>\n",
              "      <th>25948</th>\n",
              "      <td>12.038000</td>\n",
              "      <td>Underwear</td>\n",
              "      <td>26.000000</td>\n",
              "      <td>Men</td>\n",
              "      <td>NaT</td>\n",
              "      <td>27.28165</td>\n",
              "      <td>NaN</td>\n",
              "      <td>56.36761</td>\n",
              "    </tr>\n",
              "    <tr>\n",
              "      <th>26566</th>\n",
              "      <td>32.306409</td>\n",
              "      <td>Sleep &amp; Lounge</td>\n",
              "      <td>89.989998</td>\n",
              "      <td>Men</td>\n",
              "      <td>2021-10-20 12:28:39+00:00</td>\n",
              "      <td>19.92600</td>\n",
              "      <td>Accessories</td>\n",
              "      <td>54.00000</td>\n",
              "    </tr>\n",
              "    <tr>\n",
              "      <th>13257</th>\n",
              "      <td>11.168010</td>\n",
              "      <td>Swim</td>\n",
              "      <td>27.990000</td>\n",
              "      <td>Women</td>\n",
              "      <td>NaT</td>\n",
              "      <td>27.28165</td>\n",
              "      <td>NaN</td>\n",
              "      <td>56.36761</td>\n",
              "    </tr>\n",
              "  </tbody>\n",
              "</table>\n",
              "</div>"
            ],
            "text/plain": [
              "            cost             category  retail_price department  \\\n",
              "4156    6.598980  Jumpsuits & Rompers     12.020000      Women   \n",
              "5915   24.684000             Leggings     44.000000      Women   \n",
              "25948  12.038000            Underwear     26.000000        Men   \n",
              "26566  32.306409       Sleep & Lounge     89.989998        Men   \n",
              "13257  11.168010                 Swim     27.990000      Women   \n",
              "\n",
              "                     created_at    cost-2 product_category  \\\n",
              "4156                        NaT  27.28165              NaN   \n",
              "5915                        NaT  27.28165              NaN   \n",
              "25948                       NaT  27.28165              NaN   \n",
              "26566 2021-10-20 12:28:39+00:00  19.92600      Accessories   \n",
              "13257                       NaT  27.28165              NaN   \n",
              "\n",
              "       product_retail_price  \n",
              "4156               56.36761  \n",
              "5915               56.36761  \n",
              "25948              56.36761  \n",
              "26566              54.00000  \n",
              "13257              56.36761  "
            ]
          },
          "execution_count": 139,
          "metadata": {},
          "output_type": "execute_result"
        }
      ],
      "source": [
        "test.head()"
      ]
    },
    {
      "cell_type": "code",
      "execution_count": null,
      "metadata": {
        "id": "SGueQT8OJY14"
      },
      "outputs": [],
      "source": [
        "train2, val = train_test_split(train, test_size=0.2, random_state=42)"
      ]
    },
    {
      "cell_type": "code",
      "execution_count": null,
      "metadata": {
        "id": "HgFB6RqQJY15",
        "outputId": "9227dab7-58cd-4594-e168-f988ca5a1dc4"
      },
      "outputs": [
        {
          "name": "stdout",
          "output_type": "stream",
          "text": [
            "Banyak data yang akan di training =  18636\n",
            "Banyak data yang akan di validasi =  4660\n",
            "Banyak data yang akan di Testing =  5824\n"
          ]
        }
      ],
      "source": [
        "print(\"Banyak data yang akan di training = \",len(train2))\n",
        "print(\"Banyak data yang akan di validasi = \",len(val))\n",
        "print(\"Banyak data yang akan di Testing = \",len(test))"
      ]
    },
    {
      "cell_type": "code",
      "execution_count": null,
      "metadata": {
        "id": "HAqFSZv0JY16",
        "outputId": "281ba74f-40ce-411b-d9ed-2aa6116f7f50"
      },
      "outputs": [
        {
          "data": {
            "text/plain": [
              "0         0.233650\n",
              "1        -9.344850\n",
              "2        -5.909451\n",
              "3       -22.036451\n",
              "4       -17.262451\n",
              "           ...    \n",
              "29115   -24.462340\n",
              "29116   -28.831300\n",
              "29117   -16.474449\n",
              "29118     2.829132\n",
              "29119    -7.238449\n",
              "Length: 29120, dtype: float64"
            ]
          },
          "execution_count": 142,
          "metadata": {},
          "output_type": "execute_result"
        }
      ],
      "source": [
        "profit_cost = a['cost-2'] - a['cost']\n",
        "profit_cost"
      ]
    },
    {
      "cell_type": "code",
      "execution_count": null,
      "metadata": {
        "id": "PgQT4aB3JY16",
        "outputId": "b3427cc8-0353-4f40-beac-7aea265a37bf"
      },
      "outputs": [
        {
          "data": {
            "text/plain": [
              "array(['Women', 'Men'], dtype=object)"
            ]
          },
          "execution_count": 143,
          "metadata": {},
          "output_type": "execute_result"
        }
      ],
      "source": [
        "a['department'].unique()"
      ]
    },
    {
      "cell_type": "code",
      "execution_count": null,
      "metadata": {
        "id": "MHJ1kTV9JY17",
        "outputId": "15ccd486-24fe-4310-a6de-a7dbf06974e0"
      },
      "outputs": [
        {
          "data": {
            "text/plain": [
              "array([26,  7, 25, 23, 15,  1, 24, 22, 12, 21, 17,  2,  6,  0, 19,  9, 18,\n",
              "       14, 11, 13,  5,  4, 10, 20,  8, 16,  3])"
            ]
          },
          "execution_count": 144,
          "metadata": {},
          "output_type": "execute_result"
        }
      ],
      "source": [
        "from sklearn import preprocessing\n",
        "lb = preprocessing.LabelEncoder()\n",
        "a['product_category'] = lb.fit_transform(a['product_category'])\n",
        "a['product_category'].unique()"
      ]
    },
    {
      "cell_type": "code",
      "execution_count": null,
      "metadata": {
        "id": "H-qSUBJcJY18",
        "outputId": "3980a7d0-0e57-4677-8009-7c9e09bb450f"
      },
      "outputs": [
        {
          "data": {
            "text/plain": [
              "array([1, 0])"
            ]
          },
          "execution_count": 145,
          "metadata": {},
          "output_type": "execute_result"
        }
      ],
      "source": [
        "lb = preprocessing.LabelEncoder()\n",
        "a['department'] = lb.fit_transform(a['department'])\n",
        "a['department'].unique()"
      ]
    },
    {
      "cell_type": "code",
      "execution_count": null,
      "metadata": {
        "id": "x8rUfwcAJY19",
        "outputId": "1f24ad7f-3378-4df8-bbc8-b03dacbefaf1"
      },
      "outputs": [
        {
          "name": "stdout",
          "output_type": "stream",
          "text": [
            "<class 'pandas.core.frame.DataFrame'>\n",
            "RangeIndex: 29120 entries, 0 to 29119\n",
            "Data columns (total 6 columns):\n",
            " #   Column                Non-Null Count  Dtype  \n",
            "---  ------                --------------  -----  \n",
            " 0   cost                  29120 non-null  float64\n",
            " 1   retail_price          29120 non-null  float64\n",
            " 2   department            29120 non-null  int32  \n",
            " 3   cost-2                29120 non-null  float64\n",
            " 4   product_category      29120 non-null  int32  \n",
            " 5   product_retail_price  29120 non-null  float64\n",
            "dtypes: float64(4), int32(2)\n",
            "memory usage: 1.1 MB\n"
          ]
        }
      ],
      "source": [
        "a = a.drop(['created_at','category'],axis =1)\n",
        "a.info()"
      ]
    },
    {
      "cell_type": "code",
      "execution_count": null,
      "metadata": {
        "id": "NWQBoYpGJY1-"
      },
      "outputs": [],
      "source": []
    },
    {
      "cell_type": "code",
      "execution_count": null,
      "metadata": {
        "id": "BRex8fpZJY1-"
      },
      "outputs": [],
      "source": [
        "y = a['department']"
      ]
    },
    {
      "cell_type": "code",
      "execution_count": null,
      "metadata": {
        "id": "4pNpP9GnJY1_",
        "outputId": "2dbe75e5-4256-43c4-daf3-4cc4fe3ee038"
      },
      "outputs": [
        {
          "data": {
            "text/html": [
              "<div>\n",
              "<style scoped>\n",
              "    .dataframe tbody tr th:only-of-type {\n",
              "        vertical-align: middle;\n",
              "    }\n",
              "\n",
              "    .dataframe tbody tr th {\n",
              "        vertical-align: top;\n",
              "    }\n",
              "\n",
              "    .dataframe thead th {\n",
              "        text-align: right;\n",
              "    }\n",
              "</style>\n",
              "<table border=\"1\" class=\"dataframe\">\n",
              "  <thead>\n",
              "    <tr style=\"text-align: right;\">\n",
              "      <th></th>\n",
              "      <th>cost</th>\n",
              "      <th>retail_price</th>\n",
              "      <th>cost-2</th>\n",
              "      <th>product_category</th>\n",
              "      <th>product_retail_price</th>\n",
              "    </tr>\n",
              "  </thead>\n",
              "  <tbody>\n",
              "    <tr>\n",
              "      <th>0</th>\n",
              "      <td>27.048000</td>\n",
              "      <td>49.000000</td>\n",
              "      <td>27.281650</td>\n",
              "      <td>26</td>\n",
              "      <td>56.367610</td>\n",
              "    </tr>\n",
              "    <tr>\n",
              "      <th>1</th>\n",
              "      <td>36.626500</td>\n",
              "      <td>69.500000</td>\n",
              "      <td>27.281650</td>\n",
              "      <td>26</td>\n",
              "      <td>56.367610</td>\n",
              "    </tr>\n",
              "    <tr>\n",
              "      <th>2</th>\n",
              "      <td>41.005000</td>\n",
              "      <td>69.500000</td>\n",
              "      <td>35.095548</td>\n",
              "      <td>7</td>\n",
              "      <td>68.949997</td>\n",
              "    </tr>\n",
              "    <tr>\n",
              "      <th>3</th>\n",
              "      <td>57.132000</td>\n",
              "      <td>108.000000</td>\n",
              "      <td>35.095548</td>\n",
              "      <td>7</td>\n",
              "      <td>68.949997</td>\n",
              "    </tr>\n",
              "    <tr>\n",
              "      <th>4</th>\n",
              "      <td>52.358000</td>\n",
              "      <td>94.000000</td>\n",
              "      <td>35.095548</td>\n",
              "      <td>7</td>\n",
              "      <td>68.949997</td>\n",
              "    </tr>\n",
              "    <tr>\n",
              "      <th>...</th>\n",
              "      <td>...</td>\n",
              "      <td>...</td>\n",
              "      <td>...</td>\n",
              "      <td>...</td>\n",
              "      <td>...</td>\n",
              "    </tr>\n",
              "    <tr>\n",
              "      <th>29115</th>\n",
              "      <td>36.023041</td>\n",
              "      <td>101.760002</td>\n",
              "      <td>11.560700</td>\n",
              "      <td>16</td>\n",
              "      <td>29.950001</td>\n",
              "    </tr>\n",
              "    <tr>\n",
              "      <th>29116</th>\n",
              "      <td>40.392000</td>\n",
              "      <td>108.000000</td>\n",
              "      <td>11.560700</td>\n",
              "      <td>16</td>\n",
              "      <td>29.950001</td>\n",
              "    </tr>\n",
              "    <tr>\n",
              "      <th>29117</th>\n",
              "      <td>38.720000</td>\n",
              "      <td>110.000000</td>\n",
              "      <td>22.245551</td>\n",
              "      <td>22</td>\n",
              "      <td>49.990002</td>\n",
              "    </tr>\n",
              "    <tr>\n",
              "      <th>29118</th>\n",
              "      <td>19.416419</td>\n",
              "      <td>48.419998</td>\n",
              "      <td>22.245551</td>\n",
              "      <td>22</td>\n",
              "      <td>49.990002</td>\n",
              "    </tr>\n",
              "    <tr>\n",
              "      <th>29119</th>\n",
              "      <td>29.484000</td>\n",
              "      <td>78.000000</td>\n",
              "      <td>22.245551</td>\n",
              "      <td>22</td>\n",
              "      <td>49.990002</td>\n",
              "    </tr>\n",
              "  </tbody>\n",
              "</table>\n",
              "<p>29120 rows × 5 columns</p>\n",
              "</div>"
            ],
            "text/plain": [
              "            cost  retail_price     cost-2  product_category  \\\n",
              "0      27.048000     49.000000  27.281650                26   \n",
              "1      36.626500     69.500000  27.281650                26   \n",
              "2      41.005000     69.500000  35.095548                 7   \n",
              "3      57.132000    108.000000  35.095548                 7   \n",
              "4      52.358000     94.000000  35.095548                 7   \n",
              "...          ...           ...        ...               ...   \n",
              "29115  36.023041    101.760002  11.560700                16   \n",
              "29116  40.392000    108.000000  11.560700                16   \n",
              "29117  38.720000    110.000000  22.245551                22   \n",
              "29118  19.416419     48.419998  22.245551                22   \n",
              "29119  29.484000     78.000000  22.245551                22   \n",
              "\n",
              "       product_retail_price  \n",
              "0                 56.367610  \n",
              "1                 56.367610  \n",
              "2                 68.949997  \n",
              "3                 68.949997  \n",
              "4                 68.949997  \n",
              "...                     ...  \n",
              "29115             29.950001  \n",
              "29116             29.950001  \n",
              "29117             49.990002  \n",
              "29118             49.990002  \n",
              "29119             49.990002  \n",
              "\n",
              "[29120 rows x 5 columns]"
            ]
          },
          "execution_count": 148,
          "metadata": {},
          "output_type": "execute_result"
        }
      ],
      "source": [
        "x= a.drop(columns ='department')\n",
        "x"
      ]
    },
    {
      "cell_type": "code",
      "execution_count": null,
      "metadata": {
        "id": "kv_j2rzWJY2A"
      },
      "outputs": [],
      "source": [
        "x_train, x_test, y_train, y_test = train_test_split(x, y, test_size=0.2, random_state=42)"
      ]
    },
    {
      "cell_type": "code",
      "execution_count": null,
      "metadata": {
        "id": "-B6On5mZJY2A",
        "outputId": "576ae8aa-58c8-4600-e069-9dd3761d80b3"
      },
      "outputs": [
        {
          "name": "stdout",
          "output_type": "stream",
          "text": [
            "Banyak data pada X Train =  23296\n",
            "Banyak data pada Y Train =  23296\n",
            "Banyak data pada X Test =  5824\n",
            "Banyak data pada Y Test =  5824\n"
          ]
        }
      ],
      "source": [
        "print(\"Banyak data pada X Train = \",len(x_train))\n",
        "print(\"Banyak data pada Y Train = \",len(y_train))\n",
        "print(\"Banyak data pada X Test = \",len(x_test))\n",
        "print(\"Banyak data pada Y Test = \",len(y_test))"
      ]
    },
    {
      "cell_type": "code",
      "execution_count": null,
      "metadata": {
        "id": "gcRzR74hJY2B"
      },
      "outputs": [],
      "source": [
        "from sklearn import metrics\n",
        "from sklearn.naive_bayes import GaussianNB\n",
        "\n",
        "gnb = GaussianNB()\n",
        "# fit the model\n",
        "gnb.fit(x_train, y_train)\n",
        "\n",
        "#Melakukan prediksi terhadap data testing dan probabilitasnya\n",
        "y_predict = gnb.predict(x_test)\n",
        "\n",
        "# dtree = DecisionTreeClassifier()\n",
        "# dtree = dtree.fit(x_train, y_train)\n",
        "# y_predict = dtree.predict(x_test)"
      ]
    },
    {
      "cell_type": "code",
      "execution_count": null,
      "metadata": {
        "id": "2avP_2X7JY2C",
        "outputId": "61408eba-8c07-4196-c94f-967ae74c3f57"
      },
      "outputs": [
        {
          "name": "stdout",
          "output_type": "stream",
          "text": [
            "[[ 374 2248]\n",
            " [ 417 2785]]\n"
          ]
        },
        {
          "data": {
            "text/plain": [
              "<AxesSubplot:>"
            ]
          },
          "execution_count": 152,
          "metadata": {},
          "output_type": "execute_result"
        },
        {
          "data": {
            "image/png": "[encoded data removed]",
            "text/plain": [
              "<Figure size 432x288 with 1 Axes>"
            ]
          },
          "metadata": {
            "needs_background": "light"
          },
          "output_type": "display_data"
        }
      ],
      "source": [
        "from sklearn.metrics import confusion_matrix, ConfusionMatrixDisplay\n",
        "confusion_matrix = confusion_matrix(y_test,y_predict)\n",
        "print(confusion_matrix)\n",
        "\n",
        "sns.heatmap(confusion_matrix,annot=True,cmap=\"Blues\",fmt=\"d\",cbar=False, annot_kws={\"size\":6})"
      ]
    },
    {
      "cell_type": "code",
      "execution_count": null,
      "metadata": {
        "id": "KjotfvpNJY2C",
        "outputId": "c6956d50-14ae-4ea5-e8a7-5f20aad30dee"
      },
      "outputs": [
        {
          "name": "stdout",
          "output_type": "stream",
          "text": [
            "Accuracy: 54.24107142857143\n",
            "Precision: 55.3347903834691\n",
            "Recall: 86.97688944409744\n",
            "F1: 67.6381299332119\n"
          ]
        }
      ],
      "source": [
        "from sklearn.metrics import accuracy_score, f1_score, precision_score, recall_score, classification_report, confusion_matrix\n",
        "print(\"Accuracy:\", (metrics.accuracy_score(y_test, y_predict))*100)\n",
        "print(\"Precision:\", (metrics.precision_score(y_test, y_predict))*100)\n",
        "print(\"Recall:\", (metrics.recall_score(y_test, y_predict))*100)\n",
        "print(\"F1:\", (metrics.f1_score(y_test, y_predict))*100)"
      ]
    },
    {
      "cell_type": "code",
      "execution_count": null,
      "metadata": {
        "id": "WVvAMDYzJY2D"
      },
      "outputs": [],
      "source": [
        "from sklearn.tree import DecisionTreeClassifier"
      ]
    },
    {
      "cell_type": "code",
      "execution_count": null,
      "metadata": {
        "id": "PIWsQg_0JY2E",
        "outputId": "947a8dbf-a36a-4318-9918-43254892db82"
      },
      "outputs": [
        {
          "data": {
            "text/plain": [
              "DecisionTreeClassifier(max_depth=3, random_state=0)"
            ]
          },
          "execution_count": 157,
          "metadata": {},
          "output_type": "execute_result"
        }
      ],
      "source": [
        "clf_gini = DecisionTreeClassifier(criterion='gini', max_depth=3, random_state=0)\n",
        "\n",
        "\n",
        "# fit the model\n",
        "clf_gini.fit(x_train, y_train)"
      ]
    },
    {
      "cell_type": "code",
      "execution_count": null,
      "metadata": {
        "id": "ArzpMBL6JY2E"
      },
      "outputs": [],
      "source": [
        "y_pred_gini = clf_gini.predict(x_test)"
      ]
    },
    {
      "cell_type": "code",
      "execution_count": null,
      "metadata": {
        "id": "UoxH4ch9JY2F",
        "outputId": "b24b834f-4733-48f6-b29f-4ff3ef7af6bc"
      },
      "outputs": [
        {
          "name": "stdout",
          "output_type": "stream",
          "text": [
            "Accuracy: 56.49038461538461\n",
            "Precision: 56.88092295014421\n",
            "Recall: 86.22735790131169\n",
            "F1: 68.545183714002\n"
          ]
        }
      ],
      "source": [
        "from sklearn.metrics import accuracy_score, f1_score, precision_score, recall_score, classification_report, confusion_matrix\n",
        "print(\"Accuracy:\", (metrics.accuracy_score(y_test, y_pred_gini))*100)\n",
        "print(\"Precision:\", (metrics.precision_score(y_test, y_pred_gini))*100)\n",
        "print(\"Recall:\", (metrics.recall_score(y_test, y_pred_gini))*100)\n",
        "print(\"F1:\", (metrics.f1_score(y_test, y_pred_gini))*100)"
      ]
    },
    {
      "cell_type": "code",
      "execution_count": null,
      "metadata": {
        "id": "tI6yOWN6JY2G",
        "outputId": "9be77b6b-13d7-450c-aa1b-b0c9f948cfc8"
      },
      "outputs": [
        {
          "data": {
            "text/plain": [
              "[Text(334.8, 380.52, 'X[0] <= 6.645\\ngini = 0.495\\nsamples = 23296\\nvalue = [10509, 12787]'),\n",
              " Text(167.4, 271.8, 'X[1] <= 14.475\\ngini = 0.367\\nsamples = 2424\\nvalue = [588, 1836]'),\n",
              " Text(83.7, 163.07999999999998, 'X[1] <= 6.885\\ngini = 0.35\\nsamples = 2118\\nvalue = [479, 1639]'),\n",
              " Text(41.85, 54.360000000000014, 'gini = 0.453\\nsamples = 259\\nvalue = [90, 169]'),\n",
              " Text(125.55000000000001, 54.360000000000014, 'gini = 0.331\\nsamples = 1859\\nvalue = [389, 1470]'),\n",
              " Text(251.10000000000002, 163.07999999999998, 'X[4] <= 181.11\\ngini = 0.459\\nsamples = 306\\nvalue = [109, 197]'),\n",
              " Text(209.25, 54.360000000000014, 'gini = 0.453\\nsamples = 300\\nvalue = [104, 196]'),\n",
              " Text(292.95, 54.360000000000014, 'gini = 0.278\\nsamples = 6\\nvalue = [5, 1]'),\n",
              " Text(502.20000000000005, 271.8, 'X[0] <= 22.284\\ngini = 0.499\\nsamples = 20872\\nvalue = [9921, 10951]'),\n",
              " Text(418.5, 163.07999999999998, 'X[1] <= 40.605\\ngini = 0.495\\nsamples = 10573\\nvalue = [4755, 5818]'),\n",
              " Text(376.65000000000003, 54.360000000000014, 'gini = 0.496\\nsamples = 9362\\nvalue = [4276, 5086]'),\n",
              " Text(460.35, 54.360000000000014, 'gini = 0.478\\nsamples = 1211\\nvalue = [479, 732]'),\n",
              " Text(585.9, 163.07999999999998, 'X[1] <= 65.065\\ngini = 0.5\\nsamples = 10299\\nvalue = [5166, 5133]'),\n",
              " Text(544.0500000000001, 54.360000000000014, 'gini = 0.493\\nsamples = 3890\\nvalue = [2167, 1723]'),\n",
              " Text(627.75, 54.360000000000014, 'gini = 0.498\\nsamples = 6409\\nvalue = [2999, 3410]')]"
            ]
          },
          "execution_count": 160,
          "metadata": {},
          "output_type": "execute_result"
        },
        {
          "data": {
            "image/png": "[encoded data removed]",
            "text/plain": [
              "<Figure size 864x576 with 1 Axes>"
            ]
          },
          "metadata": {
            "needs_background": "light"
          },
          "output_type": "display_data"
        }
      ],
      "source": [
        "plt.figure(figsize=(12,8))\n",
        "\n",
        "from sklearn import tree\n",
        "\n",
        "tree.plot_tree(clf_gini.fit(x_train, y_train)) "
      ]
    },
    {
      "cell_type": "code",
      "execution_count": null,
      "metadata": {
        "id": "Gfwq5e9WJY2H",
        "outputId": "0ef8e8a3-0d9a-44ed-d083-3edb6d2bfcf0"
      },
      "outputs": [
        {
          "name": "stdout",
          "output_type": "stream",
          "text": [
            "Model accuracy score with default hyperparameters: 0.5524\n"
          ]
        }
      ],
      "source": [
        "# import SVC classifier\n",
        "from sklearn.svm import SVC\n",
        "\n",
        "\n",
        "\n",
        "# instantiate classifier with default hyperparameters\n",
        "svc=SVC() \n",
        "\n",
        "\n",
        "# fit classifier to training set\n",
        "svc.fit(x_train,y_train)\n",
        "\n",
        "\n",
        "# make predictions on test set\n",
        "y_pred=svc.predict(x_test)\n",
        "\n",
        "\n",
        "# compute and print accuracy score\n",
        "print('Model accuracy score with default hyperparameters: {0:0.4f}'. format(accuracy_score(y_test, y_pred)))"
      ]
    },
    {
      "cell_type": "code",
      "execution_count": null,
      "metadata": {
        "id": "7eMC2cA0JY2H",
        "outputId": "0838b588-f15e-4825-a823-c95a8e42f0ef"
      },
      "outputs": [
        {
          "name": "stdout",
          "output_type": "stream",
          "text": [
            "Accuracy: 55.23695054945055\n",
            "Precision: 55.30019597363264\n",
            "Recall: 96.93941286695815\n",
            "F1: 70.4254112308565\n"
          ]
        }
      ],
      "source": [
        "from sklearn.metrics import accuracy_score, f1_score, precision_score, recall_score, classification_report, confusion_matrix\n",
        "print(\"Accuracy:\", (metrics.accuracy_score(y_test, y_pred))*100)\n",
        "print(\"Precision:\", (metrics.precision_score(y_test, y_pred))*100)\n",
        "print(\"Recall:\", (metrics.recall_score(y_test, y_pred))*100)\n",
        "print(\"F1:\", (metrics.f1_score(y_test, y_pred))*100)"
      ]
    },
    {
      "cell_type": "code",
      "execution_count": null,
      "metadata": {
        "id": "TxHCmNp_JY2I",
        "outputId": "3fcc5e35-a32d-4033-bf51-ec31dcd437b0"
      },
      "outputs": [
        {
          "name": "stdout",
          "output_type": "stream",
          "text": [
            "[[ 113 2509]\n",
            " [  98 3104]]\n"
          ]
        },
        {
          "data": {
            "text/plain": [
              "<AxesSubplot:>"
            ]
          },
          "execution_count": 163,
          "metadata": {},
          "output_type": "execute_result"
        },
        {
          "data": {
            "image/png": "[encoded data removed]",
            "text/plain": [
              "<Figure size 432x288 with 1 Axes>"
            ]
          },
          "metadata": {
            "needs_background": "light"
          },
          "output_type": "display_data"
        }
      ],
      "source": [
        "from sklearn.metrics import confusion_matrix, ConfusionMatrixDisplay\n",
        "confusion_matrix = confusion_matrix(y_test,y_pred)\n",
        "print(confusion_matrix)\n",
        "\n",
        "sns.heatmap(confusion_matrix,annot=True,cmap=\"Blues\",fmt=\"d\",cbar=False, annot_kws={\"size\":6})"
      ]
    },
    {
      "cell_type": "code",
      "execution_count": null,
      "metadata": {
        "id": "-SQiw5cVJY2J"
      },
      "outputs": [],
      "source": [
        "from sklearn.neighbors import KNeighborsClassifier\n",
        "from sklearn import neighbors"
      ]
    },
    {
      "cell_type": "code",
      "execution_count": null,
      "metadata": {
        "id": "4bnf-wOdJY2J"
      },
      "outputs": [],
      "source": [
        "knn = KNeighborsClassifier(2)"
      ]
    },
    {
      "cell_type": "code",
      "execution_count": null,
      "metadata": {
        "id": "Pnb43p1XJY2J",
        "outputId": "9b007641-699a-425f-a468-7bb608d7972d"
      },
      "outputs": [
        {
          "data": {
            "text/plain": [
              "KNeighborsClassifier(n_neighbors=2)"
            ]
          },
          "execution_count": 166,
          "metadata": {},
          "output_type": "execute_result"
        }
      ],
      "source": [
        "knn.fit(x_train, y_train)"
      ]
    },
    {
      "cell_type": "code",
      "execution_count": null,
      "metadata": {
        "id": "QMyRjAwhJY2K",
        "outputId": "782c0510-e057-4845-9b34-4b588cd7c914"
      },
      "outputs": [
        {
          "data": {
            "text/plain": [
              "0.5523695054945055"
            ]
          },
          "execution_count": 167,
          "metadata": {},
          "output_type": "execute_result"
        }
      ],
      "source": [
        "knn.score(x_test, y_test)"
      ]
    },
    {
      "cell_type": "code",
      "execution_count": null,
      "metadata": {
        "id": "Ho2ciepuJY2K",
        "outputId": "7d149ee4-1c8c-4d0f-cf81-2c3c008c334c"
      },
      "outputs": [
        {
          "data": {
            "text/plain": [
              "array([[1965,  657],\n",
              "       [1950, 1252]], dtype=int64)"
            ]
          },
          "execution_count": 168,
          "metadata": {},
          "output_type": "execute_result"
        }
      ],
      "source": [
        "from sklearn.metrics import classification_report, confusion_matrix\n",
        "#let us get the predictions using the classifier we had fit above\n",
        "y_pred = knn.predict(x_test)\n",
        "confusion_matrix(y_test,y_pred)"
      ]
    },
    {
      "cell_type": "code",
      "execution_count": null,
      "metadata": {
        "id": "6N_0ZShOJY2L",
        "outputId": "3614de9c-b99e-4a32-fd19-40ac188b4bdd"
      },
      "outputs": [
        {
          "name": "stdout",
          "output_type": "stream",
          "text": [
            "Accuracy: 55.23695054945055\n",
            "Precision: 65.58407543216343\n",
            "Recall: 39.10056214865709\n",
            "F1: 48.99236939933476\n"
          ]
        }
      ],
      "source": [
        "from sklearn.metrics import accuracy_score, f1_score, precision_score, recall_score, classification_report, confusion_matrix\n",
        "print(\"Accuracy:\", (metrics.accuracy_score(y_test, y_pred))*100)\n",
        "print(\"Precision:\", (metrics.precision_score(y_test, y_pred))*100)\n",
        "print(\"Recall:\", (metrics.recall_score(y_test, y_pred))*100)\n",
        "print(\"F1:\", (metrics.f1_score(y_test, y_pred))*100)"
      ]
    },
    {
      "cell_type": "code",
      "execution_count": null,
      "metadata": {
        "id": "oo0AFWhfJY2L"
      },
      "outputs": [],
      "source": [
        "# a"
      ]
    },
    {
      "cell_type": "code",
      "execution_count": null,
      "metadata": {
        "id": "0OwdqtDbJY2M",
        "outputId": "4c7d71e4-ed9c-47eb-ed99-3905f4756231"
      },
      "outputs": [
        {
          "data": {
            "text/html": [
              "<div>\n",
              "<style scoped>\n",
              "    .dataframe tbody tr th:only-of-type {\n",
              "        vertical-align: middle;\n",
              "    }\n",
              "\n",
              "    .dataframe tbody tr th {\n",
              "        vertical-align: top;\n",
              "    }\n",
              "\n",
              "    .dataframe thead th {\n",
              "        text-align: right;\n",
              "    }\n",
              "</style>\n",
              "<table border=\"1\" class=\"dataframe\">\n",
              "  <thead>\n",
              "    <tr style=\"text-align: right;\">\n",
              "      <th></th>\n",
              "      <th>cost</th>\n",
              "      <th>retail_price</th>\n",
              "      <th>department</th>\n",
              "      <th>cost-2</th>\n",
              "      <th>product_category</th>\n",
              "      <th>product_retail_price</th>\n",
              "    </tr>\n",
              "  </thead>\n",
              "  <tbody>\n",
              "    <tr>\n",
              "      <th>0</th>\n",
              "      <td>27.048000</td>\n",
              "      <td>49.000000</td>\n",
              "      <td>1</td>\n",
              "      <td>27.281650</td>\n",
              "      <td>26</td>\n",
              "      <td>56.367610</td>\n",
              "    </tr>\n",
              "    <tr>\n",
              "      <th>1</th>\n",
              "      <td>36.626500</td>\n",
              "      <td>69.500000</td>\n",
              "      <td>1</td>\n",
              "      <td>27.281650</td>\n",
              "      <td>26</td>\n",
              "      <td>56.367610</td>\n",
              "    </tr>\n",
              "    <tr>\n",
              "      <th>2</th>\n",
              "      <td>41.005000</td>\n",
              "      <td>69.500000</td>\n",
              "      <td>1</td>\n",
              "      <td>35.095548</td>\n",
              "      <td>7</td>\n",
              "      <td>68.949997</td>\n",
              "    </tr>\n",
              "    <tr>\n",
              "      <th>3</th>\n",
              "      <td>57.132000</td>\n",
              "      <td>108.000000</td>\n",
              "      <td>1</td>\n",
              "      <td>35.095548</td>\n",
              "      <td>7</td>\n",
              "      <td>68.949997</td>\n",
              "    </tr>\n",
              "    <tr>\n",
              "      <th>4</th>\n",
              "      <td>52.358000</td>\n",
              "      <td>94.000000</td>\n",
              "      <td>1</td>\n",
              "      <td>35.095548</td>\n",
              "      <td>7</td>\n",
              "      <td>68.949997</td>\n",
              "    </tr>\n",
              "    <tr>\n",
              "      <th>...</th>\n",
              "      <td>...</td>\n",
              "      <td>...</td>\n",
              "      <td>...</td>\n",
              "      <td>...</td>\n",
              "      <td>...</td>\n",
              "      <td>...</td>\n",
              "    </tr>\n",
              "    <tr>\n",
              "      <th>29115</th>\n",
              "      <td>36.023041</td>\n",
              "      <td>101.760002</td>\n",
              "      <td>0</td>\n",
              "      <td>11.560700</td>\n",
              "      <td>16</td>\n",
              "      <td>29.950001</td>\n",
              "    </tr>\n",
              "    <tr>\n",
              "      <th>29116</th>\n",
              "      <td>40.392000</td>\n",
              "      <td>108.000000</td>\n",
              "      <td>0</td>\n",
              "      <td>11.560700</td>\n",
              "      <td>16</td>\n",
              "      <td>29.950001</td>\n",
              "    </tr>\n",
              "    <tr>\n",
              "      <th>29117</th>\n",
              "      <td>38.720000</td>\n",
              "      <td>110.000000</td>\n",
              "      <td>0</td>\n",
              "      <td>22.245551</td>\n",
              "      <td>22</td>\n",
              "      <td>49.990002</td>\n",
              "    </tr>\n",
              "    <tr>\n",
              "      <th>29118</th>\n",
              "      <td>19.416419</td>\n",
              "      <td>48.419998</td>\n",
              "      <td>0</td>\n",
              "      <td>22.245551</td>\n",
              "      <td>22</td>\n",
              "      <td>49.990002</td>\n",
              "    </tr>\n",
              "    <tr>\n",
              "      <th>29119</th>\n",
              "      <td>29.484000</td>\n",
              "      <td>78.000000</td>\n",
              "      <td>0</td>\n",
              "      <td>22.245551</td>\n",
              "      <td>22</td>\n",
              "      <td>49.990002</td>\n",
              "    </tr>\n",
              "  </tbody>\n",
              "</table>\n",
              "<p>29120 rows × 6 columns</p>\n",
              "</div>"
            ],
            "text/plain": [
              "            cost  retail_price  department     cost-2  product_category  \\\n",
              "0      27.048000     49.000000           1  27.281650                26   \n",
              "1      36.626500     69.500000           1  27.281650                26   \n",
              "2      41.005000     69.500000           1  35.095548                 7   \n",
              "3      57.132000    108.000000           1  35.095548                 7   \n",
              "4      52.358000     94.000000           1  35.095548                 7   \n",
              "...          ...           ...         ...        ...               ...   \n",
              "29115  36.023041    101.760002           0  11.560700                16   \n",
              "29116  40.392000    108.000000           0  11.560700                16   \n",
              "29117  38.720000    110.000000           0  22.245551                22   \n",
              "29118  19.416419     48.419998           0  22.245551                22   \n",
              "29119  29.484000     78.000000           0  22.245551                22   \n",
              "\n",
              "       product_retail_price  \n",
              "0                 56.367610  \n",
              "1                 56.367610  \n",
              "2                 68.949997  \n",
              "3                 68.949997  \n",
              "4                 68.949997  \n",
              "...                     ...  \n",
              "29115             29.950001  \n",
              "29116             29.950001  \n",
              "29117             49.990002  \n",
              "29118             49.990002  \n",
              "29119             49.990002  \n",
              "\n",
              "[29120 rows x 6 columns]"
            ]
          },
          "execution_count": 171,
          "metadata": {},
          "output_type": "execute_result"
        }
      ],
      "source": [
        "a"
      ]
    },
    {
      "cell_type": "code",
      "execution_count": null,
      "metadata": {
        "id": "tEEAiDnIJY2M",
        "outputId": "b9995c39-a6f8-494a-b46e-c9a9967dfd30"
      },
      "outputs": [
        {
          "data": {
            "text/plain": [
              "0        -7.367610\n",
              "1        13.132390\n",
              "2         0.550003\n",
              "3        39.050003\n",
              "4        25.050003\n",
              "           ...    \n",
              "29115    71.810001\n",
              "29116    78.049999\n",
              "29117    60.009998\n",
              "29118    -1.570004\n",
              "29119    28.009998\n",
              "Length: 29120, dtype: float64"
            ]
          },
          "execution_count": 173,
          "metadata": {},
          "output_type": "execute_result"
        }
      ],
      "source": [
        "ratio = a['retail_price']-a['product_retail_price']\n",
        "ratio"
      ]
    },
    {
      "cell_type": "code",
      "execution_count": null,
      "metadata": {
        "id": "g0vZE129JY2N"
      },
      "outputs": [],
      "source": [
        "a['ratio'] = ratio"
      ]
    },
    {
      "cell_type": "code",
      "execution_count": null,
      "metadata": {
        "id": "Z9tsVDUXJY2N",
        "outputId": "de015c5c-7ab8-4e84-dc6a-47fc6ccafecc"
      },
      "outputs": [
        {
          "data": {
            "text/html": [
              "<div>\n",
              "<style scoped>\n",
              "    .dataframe tbody tr th:only-of-type {\n",
              "        vertical-align: middle;\n",
              "    }\n",
              "\n",
              "    .dataframe tbody tr th {\n",
              "        vertical-align: top;\n",
              "    }\n",
              "\n",
              "    .dataframe thead th {\n",
              "        text-align: right;\n",
              "    }\n",
              "</style>\n",
              "<table border=\"1\" class=\"dataframe\">\n",
              "  <thead>\n",
              "    <tr style=\"text-align: right;\">\n",
              "      <th></th>\n",
              "      <th>cost</th>\n",
              "      <th>retail_price</th>\n",
              "      <th>department</th>\n",
              "      <th>cost-2</th>\n",
              "      <th>product_category</th>\n",
              "      <th>product_retail_price</th>\n",
              "      <th>ratio</th>\n",
              "    </tr>\n",
              "  </thead>\n",
              "  <tbody>\n",
              "    <tr>\n",
              "      <th>0</th>\n",
              "      <td>27.048000</td>\n",
              "      <td>49.000000</td>\n",
              "      <td>1</td>\n",
              "      <td>27.281650</td>\n",
              "      <td>26</td>\n",
              "      <td>56.367610</td>\n",
              "      <td>-7.367610</td>\n",
              "    </tr>\n",
              "    <tr>\n",
              "      <th>1</th>\n",
              "      <td>36.626500</td>\n",
              "      <td>69.500000</td>\n",
              "      <td>1</td>\n",
              "      <td>27.281650</td>\n",
              "      <td>26</td>\n",
              "      <td>56.367610</td>\n",
              "      <td>13.132390</td>\n",
              "    </tr>\n",
              "    <tr>\n",
              "      <th>2</th>\n",
              "      <td>41.005000</td>\n",
              "      <td>69.500000</td>\n",
              "      <td>1</td>\n",
              "      <td>35.095548</td>\n",
              "      <td>7</td>\n",
              "      <td>68.949997</td>\n",
              "      <td>0.550003</td>\n",
              "    </tr>\n",
              "    <tr>\n",
              "      <th>3</th>\n",
              "      <td>57.132000</td>\n",
              "      <td>108.000000</td>\n",
              "      <td>1</td>\n",
              "      <td>35.095548</td>\n",
              "      <td>7</td>\n",
              "      <td>68.949997</td>\n",
              "      <td>39.050003</td>\n",
              "    </tr>\n",
              "    <tr>\n",
              "      <th>4</th>\n",
              "      <td>52.358000</td>\n",
              "      <td>94.000000</td>\n",
              "      <td>1</td>\n",
              "      <td>35.095548</td>\n",
              "      <td>7</td>\n",
              "      <td>68.949997</td>\n",
              "      <td>25.050003</td>\n",
              "    </tr>\n",
              "    <tr>\n",
              "      <th>...</th>\n",
              "      <td>...</td>\n",
              "      <td>...</td>\n",
              "      <td>...</td>\n",
              "      <td>...</td>\n",
              "      <td>...</td>\n",
              "      <td>...</td>\n",
              "      <td>...</td>\n",
              "    </tr>\n",
              "    <tr>\n",
              "      <th>29115</th>\n",
              "      <td>36.023041</td>\n",
              "      <td>101.760002</td>\n",
              "      <td>0</td>\n",
              "      <td>11.560700</td>\n",
              "      <td>16</td>\n",
              "      <td>29.950001</td>\n",
              "      <td>71.810001</td>\n",
              "    </tr>\n",
              "    <tr>\n",
              "      <th>29116</th>\n",
              "      <td>40.392000</td>\n",
              "      <td>108.000000</td>\n",
              "      <td>0</td>\n",
              "      <td>11.560700</td>\n",
              "      <td>16</td>\n",
              "      <td>29.950001</td>\n",
              "      <td>78.049999</td>\n",
              "    </tr>\n",
              "    <tr>\n",
              "      <th>29117</th>\n",
              "      <td>38.720000</td>\n",
              "      <td>110.000000</td>\n",
              "      <td>0</td>\n",
              "      <td>22.245551</td>\n",
              "      <td>22</td>\n",
              "      <td>49.990002</td>\n",
              "      <td>60.009998</td>\n",
              "    </tr>\n",
              "    <tr>\n",
              "      <th>29118</th>\n",
              "      <td>19.416419</td>\n",
              "      <td>48.419998</td>\n",
              "      <td>0</td>\n",
              "      <td>22.245551</td>\n",
              "      <td>22</td>\n",
              "      <td>49.990002</td>\n",
              "      <td>-1.570004</td>\n",
              "    </tr>\n",
              "    <tr>\n",
              "      <th>29119</th>\n",
              "      <td>29.484000</td>\n",
              "      <td>78.000000</td>\n",
              "      <td>0</td>\n",
              "      <td>22.245551</td>\n",
              "      <td>22</td>\n",
              "      <td>49.990002</td>\n",
              "      <td>28.009998</td>\n",
              "    </tr>\n",
              "  </tbody>\n",
              "</table>\n",
              "<p>29120 rows × 7 columns</p>\n",
              "</div>"
            ],
            "text/plain": [
              "            cost  retail_price  department     cost-2  product_category  \\\n",
              "0      27.048000     49.000000           1  27.281650                26   \n",
              "1      36.626500     69.500000           1  27.281650                26   \n",
              "2      41.005000     69.500000           1  35.095548                 7   \n",
              "3      57.132000    108.000000           1  35.095548                 7   \n",
              "4      52.358000     94.000000           1  35.095548                 7   \n",
              "...          ...           ...         ...        ...               ...   \n",
              "29115  36.023041    101.760002           0  11.560700                16   \n",
              "29116  40.392000    108.000000           0  11.560700                16   \n",
              "29117  38.720000    110.000000           0  22.245551                22   \n",
              "29118  19.416419     48.419998           0  22.245551                22   \n",
              "29119  29.484000     78.000000           0  22.245551                22   \n",
              "\n",
              "       product_retail_price      ratio  \n",
              "0                 56.367610  -7.367610  \n",
              "1                 56.367610  13.132390  \n",
              "2                 68.949997   0.550003  \n",
              "3                 68.949997  39.050003  \n",
              "4                 68.949997  25.050003  \n",
              "...                     ...        ...  \n",
              "29115             29.950001  71.810001  \n",
              "29116             29.950001  78.049999  \n",
              "29117             49.990002  60.009998  \n",
              "29118             49.990002  -1.570004  \n",
              "29119             49.990002  28.009998  \n",
              "\n",
              "[29120 rows x 7 columns]"
            ]
          },
          "execution_count": 176,
          "metadata": {},
          "output_type": "execute_result"
        }
      ],
      "source": [
        "a"
      ]
    },
    {
      "cell_type": "code",
      "execution_count": null,
      "metadata": {
        "id": "QbxnKsv_JY2O",
        "outputId": "33d1fa83-ed15-492d-81b7-5187b3eb9c70"
      },
      "outputs": [
        {
          "data": {
            "text/html": [
              "<div>\n",
              "<style scoped>\n",
              "    .dataframe tbody tr th:only-of-type {\n",
              "        vertical-align: middle;\n",
              "    }\n",
              "\n",
              "    .dataframe tbody tr th {\n",
              "        vertical-align: top;\n",
              "    }\n",
              "\n",
              "    .dataframe thead th {\n",
              "        text-align: right;\n",
              "    }\n",
              "</style>\n",
              "<table border=\"1\" class=\"dataframe\">\n",
              "  <thead>\n",
              "    <tr style=\"text-align: right;\">\n",
              "      <th></th>\n",
              "      <th>cost</th>\n",
              "      <th>retail_price</th>\n",
              "      <th>department</th>\n",
              "      <th>cost-2</th>\n",
              "      <th>product_category</th>\n",
              "      <th>product_retail_price</th>\n",
              "      <th>ratio</th>\n",
              "    </tr>\n",
              "  </thead>\n",
              "  <tbody>\n",
              "    <tr>\n",
              "      <th>0</th>\n",
              "      <td>27.048000</td>\n",
              "      <td>49.000000</td>\n",
              "      <td>1</td>\n",
              "      <td>27.281650</td>\n",
              "      <td>26</td>\n",
              "      <td>56.367610</td>\n",
              "      <td>-7.367610</td>\n",
              "    </tr>\n",
              "    <tr>\n",
              "      <th>1</th>\n",
              "      <td>36.626500</td>\n",
              "      <td>69.500000</td>\n",
              "      <td>1</td>\n",
              "      <td>27.281650</td>\n",
              "      <td>26</td>\n",
              "      <td>56.367610</td>\n",
              "      <td>13.132390</td>\n",
              "    </tr>\n",
              "    <tr>\n",
              "      <th>2</th>\n",
              "      <td>41.005000</td>\n",
              "      <td>69.500000</td>\n",
              "      <td>1</td>\n",
              "      <td>35.095548</td>\n",
              "      <td>7</td>\n",
              "      <td>68.949997</td>\n",
              "      <td>0.550003</td>\n",
              "    </tr>\n",
              "    <tr>\n",
              "      <th>3</th>\n",
              "      <td>57.132000</td>\n",
              "      <td>108.000000</td>\n",
              "      <td>1</td>\n",
              "      <td>35.095548</td>\n",
              "      <td>7</td>\n",
              "      <td>68.949997</td>\n",
              "      <td>39.050003</td>\n",
              "    </tr>\n",
              "    <tr>\n",
              "      <th>4</th>\n",
              "      <td>52.358000</td>\n",
              "      <td>94.000000</td>\n",
              "      <td>1</td>\n",
              "      <td>35.095548</td>\n",
              "      <td>7</td>\n",
              "      <td>68.949997</td>\n",
              "      <td>25.050003</td>\n",
              "    </tr>\n",
              "    <tr>\n",
              "      <th>...</th>\n",
              "      <td>...</td>\n",
              "      <td>...</td>\n",
              "      <td>...</td>\n",
              "      <td>...</td>\n",
              "      <td>...</td>\n",
              "      <td>...</td>\n",
              "      <td>...</td>\n",
              "    </tr>\n",
              "    <tr>\n",
              "      <th>29115</th>\n",
              "      <td>36.023041</td>\n",
              "      <td>101.760002</td>\n",
              "      <td>0</td>\n",
              "      <td>11.560700</td>\n",
              "      <td>16</td>\n",
              "      <td>29.950001</td>\n",
              "      <td>71.810001</td>\n",
              "    </tr>\n",
              "    <tr>\n",
              "      <th>29116</th>\n",
              "      <td>40.392000</td>\n",
              "      <td>108.000000</td>\n",
              "      <td>0</td>\n",
              "      <td>11.560700</td>\n",
              "      <td>16</td>\n",
              "      <td>29.950001</td>\n",
              "      <td>78.049999</td>\n",
              "    </tr>\n",
              "    <tr>\n",
              "      <th>29117</th>\n",
              "      <td>38.720000</td>\n",
              "      <td>110.000000</td>\n",
              "      <td>0</td>\n",
              "      <td>22.245551</td>\n",
              "      <td>22</td>\n",
              "      <td>49.990002</td>\n",
              "      <td>60.009998</td>\n",
              "    </tr>\n",
              "    <tr>\n",
              "      <th>29118</th>\n",
              "      <td>19.416419</td>\n",
              "      <td>48.419998</td>\n",
              "      <td>0</td>\n",
              "      <td>22.245551</td>\n",
              "      <td>22</td>\n",
              "      <td>49.990002</td>\n",
              "      <td>-1.570004</td>\n",
              "    </tr>\n",
              "    <tr>\n",
              "      <th>29119</th>\n",
              "      <td>29.484000</td>\n",
              "      <td>78.000000</td>\n",
              "      <td>0</td>\n",
              "      <td>22.245551</td>\n",
              "      <td>22</td>\n",
              "      <td>49.990002</td>\n",
              "      <td>28.009998</td>\n",
              "    </tr>\n",
              "  </tbody>\n",
              "</table>\n",
              "<p>29120 rows × 7 columns</p>\n",
              "</div>"
            ],
            "text/plain": [
              "            cost  retail_price  department     cost-2  product_category  \\\n",
              "0      27.048000     49.000000           1  27.281650                26   \n",
              "1      36.626500     69.500000           1  27.281650                26   \n",
              "2      41.005000     69.500000           1  35.095548                 7   \n",
              "3      57.132000    108.000000           1  35.095548                 7   \n",
              "4      52.358000     94.000000           1  35.095548                 7   \n",
              "...          ...           ...         ...        ...               ...   \n",
              "29115  36.023041    101.760002           0  11.560700                16   \n",
              "29116  40.392000    108.000000           0  11.560700                16   \n",
              "29117  38.720000    110.000000           0  22.245551                22   \n",
              "29118  19.416419     48.419998           0  22.245551                22   \n",
              "29119  29.484000     78.000000           0  22.245551                22   \n",
              "\n",
              "       product_retail_price      ratio  \n",
              "0                 56.367610  -7.367610  \n",
              "1                 56.367610  13.132390  \n",
              "2                 68.949997   0.550003  \n",
              "3                 68.949997  39.050003  \n",
              "4                 68.949997  25.050003  \n",
              "...                     ...        ...  \n",
              "29115             29.950001  71.810001  \n",
              "29116             29.950001  78.049999  \n",
              "29117             49.990002  60.009998  \n",
              "29118             49.990002  -1.570004  \n",
              "29119             49.990002  28.009998  \n",
              "\n",
              "[29120 rows x 7 columns]"
            ]
          },
          "execution_count": 183,
          "metadata": {},
          "output_type": "execute_result"
        }
      ],
      "source": [
        "a.drop(columns = 'create_at')"
      ]
    },
    {
      "cell_type": "code",
      "execution_count": null,
      "metadata": {
        "id": "CmTvf_DsJY2O",
        "outputId": "f4879dd2-a580-4992-80f2-b2421906449b"
      },
      "outputs": [
        {
          "name": "stderr",
          "output_type": "stream",
          "text": [
            "C:\\Users\\a s u s\\anaconda\\lib\\site-packages\\seaborn\\distributions.py:2551: FutureWarning: `distplot` is a deprecated function and will be removed in a future version. Please adapt your code to use either `displot` (a figure-level function with similar flexibility) or `histplot` (an axes-level function for histograms).\n",
            "  warnings.warn(msg, FutureWarning)\n"
          ]
        },
        {
          "data": {
            "image/png": "[encoded data removed]",
            "text/plain": [
              "<Figure size 864x288 with 2 Axes>"
            ]
          },
          "metadata": {
            "needs_background": "light"
          },
          "output_type": "display_data"
        }
      ],
      "source": [
        "f= plt.figure(figsize=(12,4))\n",
        "\n",
        "ax=f.add_subplot(121)\n",
        "sns.distplot(a['ratio'],bins=50,color='r',ax=ax)\n",
        "ax.set_title('Distribution data Product')\n",
        "\n",
        "ax=f.add_subplot(122)\n",
        "sns.distplot(np.log10(a['cost']),bins=40,color='b',ax=ax)\n",
        "ax.set_title('Distribution of insurance charges in $log$ sacle')\n",
        "ax.set_xscale('log');"
      ]
    },
    {
      "cell_type": "code",
      "execution_count": null,
      "metadata": {
        "id": "YADXgilaJY2P",
        "outputId": "4aec9a21-d062-41fc-9ea6-d64c142d1dcb"
      },
      "outputs": [
        {
          "data": {
            "text/plain": [
              "2334"
            ]
          },
          "execution_count": 181,
          "metadata": {},
          "output_type": "execute_result"
        }
      ],
      "source": [
        "29120-26786\n"
      ]
    },
    {
      "cell_type": "code",
      "execution_count": null,
      "metadata": {
        "id": "y3gAZ8NcJY2P"
      },
      "outputs": [],
      "source": [
        " "
      ]
    }
  ],
  "metadata": {
    "kernelspec": {
      "display_name": "Python 3",
      "language": "python",
      "name": "python3"
    },
    "language_info": {
      "codemirror_mode": {
        "name": "ipython",
        "version": 3
      },
      "file_extension": ".py",
      "mimetype": "text/x-python",
      "name": "python",
      "nbconvert_exporter": "python",
      "pygments_lexer": "ipython3",
      "version": "3.8.5"
    },
    "colab": {
      "provenance": []
    }
  },
  "nbformat": 4,
  "nbformat_minor": 0
}