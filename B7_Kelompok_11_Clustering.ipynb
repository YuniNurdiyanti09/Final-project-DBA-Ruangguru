{
  "cells": [
    {
      "cell_type": "code",
      "execution_count": null,
      "metadata": {
        "id": "zvZwL4B8mpul"
      },
      "outputs": [],
      "source": [
        "# supress warnings\n",
        "import warnings\n",
        "warnings.filterwarnings('ignore')\n",
        "\n",
        "# Importing all required packages\n",
        "import numpy as np\n",
        "import pandas as pd\n",
        "\n",
        "# Data viz lib\n",
        "import matplotlib.pyplot as plt\n",
        "import seaborn as sns\n",
        "%matplotlib inline\n",
        "from matplotlib.pyplot import xticks"
      ]
    },
    {
      "cell_type": "code",
      "execution_count": null,
      "metadata": {
        "id": "hC40KaBPnlRc"
      },
      "outputs": [],
      "source": [
        "sales = pd.read_csv(\"sales.csv\")"
      ]
    },
    {
      "cell_type": "code",
      "execution_count": null,
      "metadata": {
        "colab": {
          "base_uri": "https://localhost:8080/",
          "height": 1000
        },
        "id": "WvTAQM3LsuUI",
        "outputId": "08b32ff9-3f86-486a-ebb2-3688a5e3872f"
      },
      "outputs": [
        {
          "data": {
            "text/html": [
              "\n",
              "  <div id=\"df-b11e9260-4e43-47d7-aef8-4caca3b3d89a\">\n",
              "    <div class=\"colab-df-container\">\n",
              "      <div>\n",
              "<style scoped>\n",
              "    .dataframe tbody tr th:only-of-type {\n",
              "        vertical-align: middle;\n",
              "    }\n",
              "\n",
              "    .dataframe tbody tr th {\n",
              "        vertical-align: top;\n",
              "    }\n",
              "\n",
              "    .dataframe thead th {\n",
              "        text-align: right;\n",
              "    }\n",
              "</style>\n",
              "<table border=\"1\" class=\"dataframe\">\n",
              "  <thead>\n",
              "    <tr style=\"text-align: right;\">\n",
              "      <th></th>\n",
              "      <th>order_id</th>\n",
              "      <th>user_id</th>\n",
              "      <th>product_id</th>\n",
              "      <th>status</th>\n",
              "      <th>created_at</th>\n",
              "      <th>sale_price</th>\n",
              "      <th>gender</th>\n",
              "      <th>num_of_item</th>\n",
              "      <th>cost</th>\n",
              "      <th>category</th>\n",
              "      <th>name_product</th>\n",
              "      <th>distribution_center_id</th>\n",
              "      <th>name</th>\n",
              "      <th>latitude</th>\n",
              "      <th>longitude</th>\n",
              "    </tr>\n",
              "  </thead>\n",
              "  <tbody>\n",
              "    <tr>\n",
              "      <th>0</th>\n",
              "      <td>98294</td>\n",
              "      <td>78852</td>\n",
              "      <td>14248</td>\n",
              "      <td>Cancelled</td>\n",
              "      <td>2021-03-09 02:38:02+00:00</td>\n",
              "      <td>3.50</td>\n",
              "      <td>F</td>\n",
              "      <td>3</td>\n",
              "      <td>1.42450</td>\n",
              "      <td>Accessories</td>\n",
              "      <td>Classic and Regal Initial Embroidered Cotton H...</td>\n",
              "      <td>3</td>\n",
              "      <td>Houston TX</td>\n",
              "      <td>29.7604</td>\n",
              "      <td>-95.3698</td>\n",
              "    </tr>\n",
              "    <tr>\n",
              "      <th>1</th>\n",
              "      <td>33447</td>\n",
              "      <td>27004</td>\n",
              "      <td>14248</td>\n",
              "      <td>Processing</td>\n",
              "      <td>2019-05-15 13:20:33+00:00</td>\n",
              "      <td>3.50</td>\n",
              "      <td>F</td>\n",
              "      <td>4</td>\n",
              "      <td>1.42450</td>\n",
              "      <td>Accessories</td>\n",
              "      <td>Classic and Regal Initial Embroidered Cotton H...</td>\n",
              "      <td>3</td>\n",
              "      <td>Houston TX</td>\n",
              "      <td>29.7604</td>\n",
              "      <td>-95.3698</td>\n",
              "    </tr>\n",
              "    <tr>\n",
              "      <th>2</th>\n",
              "      <td>109077</td>\n",
              "      <td>87606</td>\n",
              "      <td>14248</td>\n",
              "      <td>Processing</td>\n",
              "      <td>2022-01-05 00:57:19+00:00</td>\n",
              "      <td>3.50</td>\n",
              "      <td>F</td>\n",
              "      <td>2</td>\n",
              "      <td>1.42450</td>\n",
              "      <td>Accessories</td>\n",
              "      <td>Classic and Regal Initial Embroidered Cotton H...</td>\n",
              "      <td>3</td>\n",
              "      <td>Houston TX</td>\n",
              "      <td>29.7604</td>\n",
              "      <td>-95.3698</td>\n",
              "    </tr>\n",
              "    <tr>\n",
              "      <th>3</th>\n",
              "      <td>26151</td>\n",
              "      <td>21126</td>\n",
              "      <td>25265</td>\n",
              "      <td>Shipped</td>\n",
              "      <td>2021-02-27 13:43:55+00:00</td>\n",
              "      <td>4.50</td>\n",
              "      <td>M</td>\n",
              "      <td>4</td>\n",
              "      <td>2.86200</td>\n",
              "      <td>Socks</td>\n",
              "      <td>BH Slipper Socks One Size Fits All</td>\n",
              "      <td>6</td>\n",
              "      <td>Port Authority of New York/New Jersey NY/NJ</td>\n",
              "      <td>40.6340</td>\n",
              "      <td>-73.7834</td>\n",
              "    </tr>\n",
              "    <tr>\n",
              "      <th>4</th>\n",
              "      <td>26210</td>\n",
              "      <td>21169</td>\n",
              "      <td>25265</td>\n",
              "      <td>Shipped</td>\n",
              "      <td>2021-06-11 01:06:21+00:00</td>\n",
              "      <td>4.50</td>\n",
              "      <td>M</td>\n",
              "      <td>1</td>\n",
              "      <td>2.86200</td>\n",
              "      <td>Socks</td>\n",
              "      <td>BH Slipper Socks One Size Fits All</td>\n",
              "      <td>6</td>\n",
              "      <td>Port Authority of New York/New Jersey NY/NJ</td>\n",
              "      <td>40.6340</td>\n",
              "      <td>-73.7834</td>\n",
              "    </tr>\n",
              "    <tr>\n",
              "      <th>...</th>\n",
              "      <td>...</td>\n",
              "      <td>...</td>\n",
              "      <td>...</td>\n",
              "      <td>...</td>\n",
              "      <td>...</td>\n",
              "      <td>...</td>\n",
              "      <td>...</td>\n",
              "      <td>...</td>\n",
              "      <td>...</td>\n",
              "      <td>...</td>\n",
              "      <td>...</td>\n",
              "      <td>...</td>\n",
              "      <td>...</td>\n",
              "      <td>...</td>\n",
              "      <td>...</td>\n",
              "    </tr>\n",
              "    <tr>\n",
              "      <th>154503</th>\n",
              "      <td>115892</td>\n",
              "      <td>93110</td>\n",
              "      <td>6992</td>\n",
              "      <td>Returned</td>\n",
              "      <td>2021-05-12 06:53:00+00:00</td>\n",
              "      <td>8.82</td>\n",
              "      <td>F</td>\n",
              "      <td>2</td>\n",
              "      <td>4.66578</td>\n",
              "      <td>Shorts</td>\n",
              "      <td>Allegra K Khaki Elastic Waist Side Pocket Shor...</td>\n",
              "      <td>9</td>\n",
              "      <td>Charleston SC</td>\n",
              "      <td>32.7833</td>\n",
              "      <td>-79.9333</td>\n",
              "    </tr>\n",
              "    <tr>\n",
              "      <th>154504</th>\n",
              "      <td>66935</td>\n",
              "      <td>53750</td>\n",
              "      <td>6992</td>\n",
              "      <td>Cancelled</td>\n",
              "      <td>2021-06-07 01:12:32+00:00</td>\n",
              "      <td>8.82</td>\n",
              "      <td>F</td>\n",
              "      <td>1</td>\n",
              "      <td>4.66578</td>\n",
              "      <td>Shorts</td>\n",
              "      <td>Allegra K Khaki Elastic Waist Side Pocket Shor...</td>\n",
              "      <td>9</td>\n",
              "      <td>Charleston SC</td>\n",
              "      <td>32.7833</td>\n",
              "      <td>-79.9333</td>\n",
              "    </tr>\n",
              "    <tr>\n",
              "      <th>154505</th>\n",
              "      <td>113476</td>\n",
              "      <td>91134</td>\n",
              "      <td>3633</td>\n",
              "      <td>Shipped</td>\n",
              "      <td>2022-05-30 02:41:06.928559+00:00</td>\n",
              "      <td>9.32</td>\n",
              "      <td>F</td>\n",
              "      <td>1</td>\n",
              "      <td>4.49224</td>\n",
              "      <td>Dresses</td>\n",
              "      <td>Allegra K Lady Scoop Neck Short Sleeve Mini Dr...</td>\n",
              "      <td>9</td>\n",
              "      <td>Charleston SC</td>\n",
              "      <td>32.7833</td>\n",
              "      <td>-79.9333</td>\n",
              "    </tr>\n",
              "    <tr>\n",
              "      <th>154506</th>\n",
              "      <td>18386</td>\n",
              "      <td>14910</td>\n",
              "      <td>3633</td>\n",
              "      <td>Cancelled</td>\n",
              "      <td>2021-03-12 11:15:29+00:00</td>\n",
              "      <td>9.32</td>\n",
              "      <td>F</td>\n",
              "      <td>1</td>\n",
              "      <td>4.49224</td>\n",
              "      <td>Dresses</td>\n",
              "      <td>Allegra K Lady Scoop Neck Short Sleeve Mini Dr...</td>\n",
              "      <td>9</td>\n",
              "      <td>Charleston SC</td>\n",
              "      <td>32.7833</td>\n",
              "      <td>-79.9333</td>\n",
              "    </tr>\n",
              "    <tr>\n",
              "      <th>154507</th>\n",
              "      <td>92879</td>\n",
              "      <td>74538</td>\n",
              "      <td>3633</td>\n",
              "      <td>Processing</td>\n",
              "      <td>2021-12-13 05:53:52+00:00</td>\n",
              "      <td>9.32</td>\n",
              "      <td>F</td>\n",
              "      <td>4</td>\n",
              "      <td>4.49224</td>\n",
              "      <td>Dresses</td>\n",
              "      <td>Allegra K Lady Scoop Neck Short Sleeve Mini Dr...</td>\n",
              "      <td>9</td>\n",
              "      <td>Charleston SC</td>\n",
              "      <td>32.7833</td>\n",
              "      <td>-79.9333</td>\n",
              "    </tr>\n",
              "  </tbody>\n",
              "</table>\n",
              "<p>154508 rows × 15 columns</p>\n",
              "</div>\n",
              "      <button class=\"colab-df-convert\" onclick=\"convertToInteractive('df-b11e9260-4e43-47d7-aef8-4caca3b3d89a')\"\n",
              "              title=\"Convert this dataframe to an interactive table.\"\n",
              "              style=\"display:none;\">\n",
              "        \n",
              "  <svg xmlns=\"http://www.w3.org/2000/svg\" height=\"24px\"viewBox=\"0 0 24 24\"\n",
              "       width=\"24px\">\n",
              "    <path d=\"M0 0h24v24H0V0z\" fill=\"none\"/>\n",
              "    <path d=\"M18.56 5.44l.94 2.06.94-2.06 2.06-.94-2.06-.94-.94-2.06-.94 2.06-2.06.94zm-11 1L8.5 8.5l.94-2.06 2.06-.94-2.06-.94L8.5 2.5l-.94 2.06-2.06.94zm10 10l.94 2.06.94-2.06 2.06-.94-2.06-.94-.94-2.06-.94 2.06-2.06.94z\"/><path d=\"M17.41 7.96l-1.37-1.37c-.4-.4-.92-.59-1.43-.59-.52 0-1.04.2-1.43.59L10.3 9.45l-7.72 7.72c-.78.78-.78 2.05 0 2.83L4 21.41c.39.39.9.59 1.41.59.51 0 1.02-.2 1.41-.59l7.78-7.78 2.81-2.81c.8-.78.8-2.07 0-2.86zM5.41 20L4 18.59l7.72-7.72 1.47 1.35L5.41 20z\"/>\n",
              "  </svg>\n",
              "      </button>\n",
              "      \n",
              "  <style>\n",
              "    .colab-df-container {\n",
              "      display:flex;\n",
              "      flex-wrap:wrap;\n",
              "      gap: 12px;\n",
              "    }\n",
              "\n",
              "    .colab-df-convert {\n",
              "      background-color: #E8F0FE;\n",
              "      border: none;\n",
              "      border-radius: 50%;\n",
              "      cursor: pointer;\n",
              "      display: none;\n",
              "      fill: #1967D2;\n",
              "      height: 32px;\n",
              "      padding: 0 0 0 0;\n",
              "      width: 32px;\n",
              "    }\n",
              "\n",
              "    .colab-df-convert:hover {\n",
              "      background-color: #E2EBFA;\n",
              "      box-shadow: 0px 1px 2px rgba(60, 64, 67, 0.3), 0px 1px 3px 1px rgba(60, 64, 67, 0.15);\n",
              "      fill: #174EA6;\n",
              "    }\n",
              "\n",
              "    [theme=dark] .colab-df-convert {\n",
              "      background-color: #3B4455;\n",
              "      fill: #D2E3FC;\n",
              "    }\n",
              "\n",
              "    [theme=dark] .colab-df-convert:hover {\n",
              "      background-color: #434B5C;\n",
              "      box-shadow: 0px 1px 3px 1px rgba(0, 0, 0, 0.15);\n",
              "      filter: drop-shadow(0px 1px 2px rgba(0, 0, 0, 0.3));\n",
              "      fill: #FFFFFF;\n",
              "    }\n",
              "  </style>\n",
              "\n",
              "      <script>\n",
              "        const buttonEl =\n",
              "          document.querySelector('#df-b11e9260-4e43-47d7-aef8-4caca3b3d89a button.colab-df-convert');\n",
              "        buttonEl.style.display =\n",
              "          google.colab.kernel.accessAllowed ? 'block' : 'none';\n",
              "\n",
              "        async function convertToInteractive(key) {\n",
              "          const element = document.querySelector('#df-b11e9260-4e43-47d7-aef8-4caca3b3d89a');\n",
              "          const dataTable =\n",
              "            await google.colab.kernel.invokeFunction('convertToInteractive',\n",
              "                                                     [key], {});\n",
              "          if (!dataTable) return;\n",
              "\n",
              "          const docLinkHtml = 'Like what you see? Visit the ' +\n",
              "            '<a target=\"_blank\" href=https://colab.research.google.com/notebooks/data_table.ipynb>data table notebook</a>'\n",
              "            + ' to learn more about interactive tables.';\n",
              "          element.innerHTML = '';\n",
              "          dataTable['output_type'] = 'display_data';\n",
              "          await google.colab.output.renderOutput(dataTable, element);\n",
              "          const docLink = document.createElement('div');\n",
              "          docLink.innerHTML = docLinkHtml;\n",
              "          element.appendChild(docLink);\n",
              "        }\n",
              "      </script>\n",
              "    </div>\n",
              "  </div>\n",
              "  "
            ],
            "text/plain": [
              "        order_id  user_id  product_id      status  \\\n",
              "0          98294    78852       14248   Cancelled   \n",
              "1          33447    27004       14248  Processing   \n",
              "2         109077    87606       14248  Processing   \n",
              "3          26151    21126       25265     Shipped   \n",
              "4          26210    21169       25265     Shipped   \n",
              "...          ...      ...         ...         ...   \n",
              "154503    115892    93110        6992    Returned   \n",
              "154504     66935    53750        6992   Cancelled   \n",
              "154505    113476    91134        3633     Shipped   \n",
              "154506     18386    14910        3633   Cancelled   \n",
              "154507     92879    74538        3633  Processing   \n",
              "\n",
              "                              created_at  sale_price gender  num_of_item  \\\n",
              "0              2021-03-09 02:38:02+00:00        3.50      F            3   \n",
              "1              2019-05-15 13:20:33+00:00        3.50      F            4   \n",
              "2              2022-01-05 00:57:19+00:00        3.50      F            2   \n",
              "3              2021-02-27 13:43:55+00:00        4.50      M            4   \n",
              "4              2021-06-11 01:06:21+00:00        4.50      M            1   \n",
              "...                                  ...         ...    ...          ...   \n",
              "154503         2021-05-12 06:53:00+00:00        8.82      F            2   \n",
              "154504         2021-06-07 01:12:32+00:00        8.82      F            1   \n",
              "154505  2022-05-30 02:41:06.928559+00:00        9.32      F            1   \n",
              "154506         2021-03-12 11:15:29+00:00        9.32      F            1   \n",
              "154507         2021-12-13 05:53:52+00:00        9.32      F            4   \n",
              "\n",
              "           cost     category  \\\n",
              "0       1.42450  Accessories   \n",
              "1       1.42450  Accessories   \n",
              "2       1.42450  Accessories   \n",
              "3       2.86200        Socks   \n",
              "4       2.86200        Socks   \n",
              "...         ...          ...   \n",
              "154503  4.66578       Shorts   \n",
              "154504  4.66578       Shorts   \n",
              "154505  4.49224      Dresses   \n",
              "154506  4.49224      Dresses   \n",
              "154507  4.49224      Dresses   \n",
              "\n",
              "                                             name_product  \\\n",
              "0       Classic and Regal Initial Embroidered Cotton H...   \n",
              "1       Classic and Regal Initial Embroidered Cotton H...   \n",
              "2       Classic and Regal Initial Embroidered Cotton H...   \n",
              "3                      BH Slipper Socks One Size Fits All   \n",
              "4                      BH Slipper Socks One Size Fits All   \n",
              "...                                                   ...   \n",
              "154503  Allegra K Khaki Elastic Waist Side Pocket Shor...   \n",
              "154504  Allegra K Khaki Elastic Waist Side Pocket Shor...   \n",
              "154505  Allegra K Lady Scoop Neck Short Sleeve Mini Dr...   \n",
              "154506  Allegra K Lady Scoop Neck Short Sleeve Mini Dr...   \n",
              "154507  Allegra K Lady Scoop Neck Short Sleeve Mini Dr...   \n",
              "\n",
              "        distribution_center_id                                         name  \\\n",
              "0                            3                                   Houston TX   \n",
              "1                            3                                   Houston TX   \n",
              "2                            3                                   Houston TX   \n",
              "3                            6  Port Authority of New York/New Jersey NY/NJ   \n",
              "4                            6  Port Authority of New York/New Jersey NY/NJ   \n",
              "...                        ...                                          ...   \n",
              "154503                       9                                Charleston SC   \n",
              "154504                       9                                Charleston SC   \n",
              "154505                       9                                Charleston SC   \n",
              "154506                       9                                Charleston SC   \n",
              "154507                       9                                Charleston SC   \n",
              "\n",
              "        latitude  longitude  \n",
              "0        29.7604   -95.3698  \n",
              "1        29.7604   -95.3698  \n",
              "2        29.7604   -95.3698  \n",
              "3        40.6340   -73.7834  \n",
              "4        40.6340   -73.7834  \n",
              "...          ...        ...  \n",
              "154503   32.7833   -79.9333  \n",
              "154504   32.7833   -79.9333  \n",
              "154505   32.7833   -79.9333  \n",
              "154506   32.7833   -79.9333  \n",
              "154507   32.7833   -79.9333  \n",
              "\n",
              "[154508 rows x 15 columns]"
            ]
          },
          "execution_count": 17,
          "metadata": {},
          "output_type": "execute_result"
        }
      ],
      "source": [
        "sales"
      ]
    },
    {
      "cell_type": "code",
      "execution_count": null,
      "metadata": {
        "colab": {
          "base_uri": "https://localhost:8080/",
          "height": 600
        },
        "id": "mfQf5oAxsv6m",
        "outputId": "2831e8ac-0f09-441d-c5dc-340fbba34dbc"
      },
      "outputs": [
        {
          "data": {
            "text/html": [
              "\n",
              "  <div id=\"df-9f8ea18b-5c5a-4884-8fc7-2350ba920cc6\">\n",
              "    <div class=\"colab-df-container\">\n",
              "      <div>\n",
              "<style scoped>\n",
              "    .dataframe tbody tr th:only-of-type {\n",
              "        vertical-align: middle;\n",
              "    }\n",
              "\n",
              "    .dataframe tbody tr th {\n",
              "        vertical-align: top;\n",
              "    }\n",
              "\n",
              "    .dataframe thead th {\n",
              "        text-align: right;\n",
              "    }\n",
              "</style>\n",
              "<table border=\"1\" class=\"dataframe\">\n",
              "  <thead>\n",
              "    <tr style=\"text-align: right;\">\n",
              "      <th></th>\n",
              "      <th>order_id</th>\n",
              "      <th>user_id</th>\n",
              "      <th>product_id</th>\n",
              "      <th>status</th>\n",
              "      <th>created_at</th>\n",
              "      <th>sale_price</th>\n",
              "      <th>gender</th>\n",
              "      <th>num_of_item</th>\n",
              "      <th>cost</th>\n",
              "      <th>category</th>\n",
              "      <th>name_product</th>\n",
              "      <th>distribution_center_id</th>\n",
              "      <th>name</th>\n",
              "      <th>latitude</th>\n",
              "      <th>longitude</th>\n",
              "    </tr>\n",
              "  </thead>\n",
              "  <tbody>\n",
              "    <tr>\n",
              "      <th>0</th>\n",
              "      <td>98294</td>\n",
              "      <td>78852</td>\n",
              "      <td>14248</td>\n",
              "      <td>Cancelled</td>\n",
              "      <td>2021-03-09 02:38:02+00:00</td>\n",
              "      <td>3.5</td>\n",
              "      <td>F</td>\n",
              "      <td>3</td>\n",
              "      <td>1.4245</td>\n",
              "      <td>Accessories</td>\n",
              "      <td>Classic and Regal Initial Embroidered Cotton H...</td>\n",
              "      <td>3</td>\n",
              "      <td>Houston TX</td>\n",
              "      <td>29.7604</td>\n",
              "      <td>-95.3698</td>\n",
              "    </tr>\n",
              "    <tr>\n",
              "      <th>1</th>\n",
              "      <td>33447</td>\n",
              "      <td>27004</td>\n",
              "      <td>14248</td>\n",
              "      <td>Processing</td>\n",
              "      <td>2019-05-15 13:20:33+00:00</td>\n",
              "      <td>3.5</td>\n",
              "      <td>F</td>\n",
              "      <td>4</td>\n",
              "      <td>1.4245</td>\n",
              "      <td>Accessories</td>\n",
              "      <td>Classic and Regal Initial Embroidered Cotton H...</td>\n",
              "      <td>3</td>\n",
              "      <td>Houston TX</td>\n",
              "      <td>29.7604</td>\n",
              "      <td>-95.3698</td>\n",
              "    </tr>\n",
              "    <tr>\n",
              "      <th>2</th>\n",
              "      <td>109077</td>\n",
              "      <td>87606</td>\n",
              "      <td>14248</td>\n",
              "      <td>Processing</td>\n",
              "      <td>2022-01-05 00:57:19+00:00</td>\n",
              "      <td>3.5</td>\n",
              "      <td>F</td>\n",
              "      <td>2</td>\n",
              "      <td>1.4245</td>\n",
              "      <td>Accessories</td>\n",
              "      <td>Classic and Regal Initial Embroidered Cotton H...</td>\n",
              "      <td>3</td>\n",
              "      <td>Houston TX</td>\n",
              "      <td>29.7604</td>\n",
              "      <td>-95.3698</td>\n",
              "    </tr>\n",
              "    <tr>\n",
              "      <th>3</th>\n",
              "      <td>26151</td>\n",
              "      <td>21126</td>\n",
              "      <td>25265</td>\n",
              "      <td>Shipped</td>\n",
              "      <td>2021-02-27 13:43:55+00:00</td>\n",
              "      <td>4.5</td>\n",
              "      <td>M</td>\n",
              "      <td>4</td>\n",
              "      <td>2.8620</td>\n",
              "      <td>Socks</td>\n",
              "      <td>BH Slipper Socks One Size Fits All</td>\n",
              "      <td>6</td>\n",
              "      <td>Port Authority of New York/New Jersey NY/NJ</td>\n",
              "      <td>40.6340</td>\n",
              "      <td>-73.7834</td>\n",
              "    </tr>\n",
              "    <tr>\n",
              "      <th>4</th>\n",
              "      <td>26210</td>\n",
              "      <td>21169</td>\n",
              "      <td>25265</td>\n",
              "      <td>Shipped</td>\n",
              "      <td>2021-06-11 01:06:21+00:00</td>\n",
              "      <td>4.5</td>\n",
              "      <td>M</td>\n",
              "      <td>1</td>\n",
              "      <td>2.8620</td>\n",
              "      <td>Socks</td>\n",
              "      <td>BH Slipper Socks One Size Fits All</td>\n",
              "      <td>6</td>\n",
              "      <td>Port Authority of New York/New Jersey NY/NJ</td>\n",
              "      <td>40.6340</td>\n",
              "      <td>-73.7834</td>\n",
              "    </tr>\n",
              "  </tbody>\n",
              "</table>\n",
              "</div>\n",
              "      <button class=\"colab-df-convert\" onclick=\"convertToInteractive('df-9f8ea18b-5c5a-4884-8fc7-2350ba920cc6')\"\n",
              "              title=\"Convert this dataframe to an interactive table.\"\n",
              "              style=\"display:none;\">\n",
              "        \n",
              "  <svg xmlns=\"http://www.w3.org/2000/svg\" height=\"24px\"viewBox=\"0 0 24 24\"\n",
              "       width=\"24px\">\n",
              "    <path d=\"M0 0h24v24H0V0z\" fill=\"none\"/>\n",
              "    <path d=\"M18.56 5.44l.94 2.06.94-2.06 2.06-.94-2.06-.94-.94-2.06-.94 2.06-2.06.94zm-11 1L8.5 8.5l.94-2.06 2.06-.94-2.06-.94L8.5 2.5l-.94 2.06-2.06.94zm10 10l.94 2.06.94-2.06 2.06-.94-2.06-.94-.94-2.06-.94 2.06-2.06.94z\"/><path d=\"M17.41 7.96l-1.37-1.37c-.4-.4-.92-.59-1.43-.59-.52 0-1.04.2-1.43.59L10.3 9.45l-7.72 7.72c-.78.78-.78 2.05 0 2.83L4 21.41c.39.39.9.59 1.41.59.51 0 1.02-.2 1.41-.59l7.78-7.78 2.81-2.81c.8-.78.8-2.07 0-2.86zM5.41 20L4 18.59l7.72-7.72 1.47 1.35L5.41 20z\"/>\n",
              "  </svg>\n",
              "      </button>\n",
              "      \n",
              "  <style>\n",
              "    .colab-df-container {\n",
              "      display:flex;\n",
              "      flex-wrap:wrap;\n",
              "      gap: 12px;\n",
              "    }\n",
              "\n",
              "    .colab-df-convert {\n",
              "      background-color: #E8F0FE;\n",
              "      border: none;\n",
              "      border-radius: 50%;\n",
              "      cursor: pointer;\n",
              "      display: none;\n",
              "      fill: #1967D2;\n",
              "      height: 32px;\n",
              "      padding: 0 0 0 0;\n",
              "      width: 32px;\n",
              "    }\n",
              "\n",
              "    .colab-df-convert:hover {\n",
              "      background-color: #E2EBFA;\n",
              "      box-shadow: 0px 1px 2px rgba(60, 64, 67, 0.3), 0px 1px 3px 1px rgba(60, 64, 67, 0.15);\n",
              "      fill: #174EA6;\n",
              "    }\n",
              "\n",
              "    [theme=dark] .colab-df-convert {\n",
              "      background-color: #3B4455;\n",
              "      fill: #D2E3FC;\n",
              "    }\n",
              "\n",
              "    [theme=dark] .colab-df-convert:hover {\n",
              "      background-color: #434B5C;\n",
              "      box-shadow: 0px 1px 3px 1px rgba(0, 0, 0, 0.15);\n",
              "      filter: drop-shadow(0px 1px 2px rgba(0, 0, 0, 0.3));\n",
              "      fill: #FFFFFF;\n",
              "    }\n",
              "  </style>\n",
              "\n",
              "      <script>\n",
              "        const buttonEl =\n",
              "          document.querySelector('#df-9f8ea18b-5c5a-4884-8fc7-2350ba920cc6 button.colab-df-convert');\n",
              "        buttonEl.style.display =\n",
              "          google.colab.kernel.accessAllowed ? 'block' : 'none';\n",
              "\n",
              "        async function convertToInteractive(key) {\n",
              "          const element = document.querySelector('#df-9f8ea18b-5c5a-4884-8fc7-2350ba920cc6');\n",
              "          const dataTable =\n",
              "            await google.colab.kernel.invokeFunction('convertToInteractive',\n",
              "                                                     [key], {});\n",
              "          if (!dataTable) return;\n",
              "\n",
              "          const docLinkHtml = 'Like what you see? Visit the ' +\n",
              "            '<a target=\"_blank\" href=https://colab.research.google.com/notebooks/data_table.ipynb>data table notebook</a>'\n",
              "            + ' to learn more about interactive tables.';\n",
              "          element.innerHTML = '';\n",
              "          dataTable['output_type'] = 'display_data';\n",
              "          await google.colab.output.renderOutput(dataTable, element);\n",
              "          const docLink = document.createElement('div');\n",
              "          docLink.innerHTML = docLinkHtml;\n",
              "          element.appendChild(docLink);\n",
              "        }\n",
              "      </script>\n",
              "    </div>\n",
              "  </div>\n",
              "  "
            ],
            "text/plain": [
              "   order_id  user_id  product_id      status                 created_at  \\\n",
              "0     98294    78852       14248   Cancelled  2021-03-09 02:38:02+00:00   \n",
              "1     33447    27004       14248  Processing  2019-05-15 13:20:33+00:00   \n",
              "2    109077    87606       14248  Processing  2022-01-05 00:57:19+00:00   \n",
              "3     26151    21126       25265     Shipped  2021-02-27 13:43:55+00:00   \n",
              "4     26210    21169       25265     Shipped  2021-06-11 01:06:21+00:00   \n",
              "\n",
              "   sale_price gender  num_of_item    cost     category  \\\n",
              "0         3.5      F            3  1.4245  Accessories   \n",
              "1         3.5      F            4  1.4245  Accessories   \n",
              "2         3.5      F            2  1.4245  Accessories   \n",
              "3         4.5      M            4  2.8620        Socks   \n",
              "4         4.5      M            1  2.8620        Socks   \n",
              "\n",
              "                                        name_product  distribution_center_id  \\\n",
              "0  Classic and Regal Initial Embroidered Cotton H...                       3   \n",
              "1  Classic and Regal Initial Embroidered Cotton H...                       3   \n",
              "2  Classic and Regal Initial Embroidered Cotton H...                       3   \n",
              "3                 BH Slipper Socks One Size Fits All                       6   \n",
              "4                 BH Slipper Socks One Size Fits All                       6   \n",
              "\n",
              "                                          name  latitude  longitude  \n",
              "0                                   Houston TX   29.7604   -95.3698  \n",
              "1                                   Houston TX   29.7604   -95.3698  \n",
              "2                                   Houston TX   29.7604   -95.3698  \n",
              "3  Port Authority of New York/New Jersey NY/NJ   40.6340   -73.7834  \n",
              "4  Port Authority of New York/New Jersey NY/NJ   40.6340   -73.7834  "
            ]
          },
          "execution_count": 18,
          "metadata": {},
          "output_type": "execute_result"
        }
      ],
      "source": [
        "sales.head()"
      ]
    },
    {
      "cell_type": "code",
      "execution_count": null,
      "metadata": {
        "colab": {
          "base_uri": "https://localhost:8080/"
        },
        "id": "ZkHzycOgsy7Y",
        "outputId": "52346c2e-cf87-447f-e509-4fed42755ea0"
      },
      "outputs": [
        {
          "data": {
            "text/plain": [
              "Index(['order_id', 'user_id', 'product_id', 'status', 'created_at',\n",
              "       'sale_price', 'gender', 'num_of_item', 'cost', 'category',\n",
              "       'name_product', 'distribution_center_id', 'name', 'latitude',\n",
              "       'longitude'],\n",
              "      dtype='object')"
            ]
          },
          "execution_count": 19,
          "metadata": {},
          "output_type": "execute_result"
        }
      ],
      "source": [
        "sales.columns"
      ]
    },
    {
      "cell_type": "code",
      "execution_count": null,
      "metadata": {
        "id": "ySQ6bN2ZMQqx"
      },
      "outputs": [],
      "source": [
        "###Mengubah tipe data\n",
        "sales[\"created_at\"] = pd.to_datetime(sales[\"created_at\"])"
      ]
    },
    {
      "cell_type": "code",
      "execution_count": null,
      "metadata": {
        "colab": {
          "base_uri": "https://localhost:8080/"
        },
        "id": "thNBna2RM3kn",
        "outputId": "ee376074-817d-499f-8ed3-b7fe7a5ef541"
      },
      "outputs": [
        {
          "name": "stdout",
          "output_type": "stream",
          "text": [
            "Numerical features:\n",
            "['order_id', 'user_id', 'product_id', 'sale_price', 'num_of_item', 'cost', 'distribution_center_id', 'latitude', 'longitude']\n",
            "\n",
            "Categorical features:\n",
            "['status', 'gender', 'category', 'name_product', 'name']\n"
          ]
        }
      ],
      "source": [
        "#Memeriksa Jenis Variabel\n",
        "numerical_features = sales.select_dtypes(include = \"number\").columns.tolist()\n",
        "categorical_features = sales.select_dtypes(include = \"object\").columns.tolist()\n",
        "\n",
        "print(\"Numerical features:\")\n",
        "print(numerical_features)\n",
        "print()\n",
        "print(\"Categorical features:\")\n",
        "print(categorical_features)"
      ]
    },
    {
      "cell_type": "code",
      "execution_count": null,
      "metadata": {
        "id": "rDzqg1sJs0q4"
      },
      "outputs": [],
      "source": [
        "# Importing Categorical Columns\n",
        "bank_cust = sales[['status', 'gender', 'category', 'name_product', 'name']]"
      ]
    },
    {
      "cell_type": "code",
      "execution_count": null,
      "metadata": {
        "colab": {
          "base_uri": "https://localhost:8080/",
          "height": 206
        },
        "id": "we8FGTIWs51Z",
        "outputId": "1ab6220d-be5c-4f19-ac97-0a188f04efb7"
      },
      "outputs": [
        {
          "data": {
            "text/html": [
              "\n",
              "  <div id=\"df-4b5b4db9-006d-48e5-b15a-62007ce9cbbf\">\n",
              "    <div class=\"colab-df-container\">\n",
              "      <div>\n",
              "<style scoped>\n",
              "    .dataframe tbody tr th:only-of-type {\n",
              "        vertical-align: middle;\n",
              "    }\n",
              "\n",
              "    .dataframe tbody tr th {\n",
              "        vertical-align: top;\n",
              "    }\n",
              "\n",
              "    .dataframe thead th {\n",
              "        text-align: right;\n",
              "    }\n",
              "</style>\n",
              "<table border=\"1\" class=\"dataframe\">\n",
              "  <thead>\n",
              "    <tr style=\"text-align: right;\">\n",
              "      <th></th>\n",
              "      <th>status</th>\n",
              "      <th>gender</th>\n",
              "      <th>category</th>\n",
              "      <th>name_product</th>\n",
              "      <th>name</th>\n",
              "    </tr>\n",
              "  </thead>\n",
              "  <tbody>\n",
              "    <tr>\n",
              "      <th>0</th>\n",
              "      <td>Cancelled</td>\n",
              "      <td>F</td>\n",
              "      <td>Accessories</td>\n",
              "      <td>Classic and Regal Initial Embroidered Cotton H...</td>\n",
              "      <td>Houston TX</td>\n",
              "    </tr>\n",
              "    <tr>\n",
              "      <th>1</th>\n",
              "      <td>Processing</td>\n",
              "      <td>F</td>\n",
              "      <td>Accessories</td>\n",
              "      <td>Classic and Regal Initial Embroidered Cotton H...</td>\n",
              "      <td>Houston TX</td>\n",
              "    </tr>\n",
              "    <tr>\n",
              "      <th>2</th>\n",
              "      <td>Processing</td>\n",
              "      <td>F</td>\n",
              "      <td>Accessories</td>\n",
              "      <td>Classic and Regal Initial Embroidered Cotton H...</td>\n",
              "      <td>Houston TX</td>\n",
              "    </tr>\n",
              "    <tr>\n",
              "      <th>3</th>\n",
              "      <td>Shipped</td>\n",
              "      <td>M</td>\n",
              "      <td>Socks</td>\n",
              "      <td>BH Slipper Socks One Size Fits All</td>\n",
              "      <td>Port Authority of New York/New Jersey NY/NJ</td>\n",
              "    </tr>\n",
              "    <tr>\n",
              "      <th>4</th>\n",
              "      <td>Shipped</td>\n",
              "      <td>M</td>\n",
              "      <td>Socks</td>\n",
              "      <td>BH Slipper Socks One Size Fits All</td>\n",
              "      <td>Port Authority of New York/New Jersey NY/NJ</td>\n",
              "    </tr>\n",
              "  </tbody>\n",
              "</table>\n",
              "</div>\n",
              "      <button class=\"colab-df-convert\" onclick=\"convertToInteractive('df-4b5b4db9-006d-48e5-b15a-62007ce9cbbf')\"\n",
              "              title=\"Convert this dataframe to an interactive table.\"\n",
              "              style=\"display:none;\">\n",
              "        \n",
              "  <svg xmlns=\"http://www.w3.org/2000/svg\" height=\"24px\"viewBox=\"0 0 24 24\"\n",
              "       width=\"24px\">\n",
              "    <path d=\"M0 0h24v24H0V0z\" fill=\"none\"/>\n",
              "    <path d=\"M18.56 5.44l.94 2.06.94-2.06 2.06-.94-2.06-.94-.94-2.06-.94 2.06-2.06.94zm-11 1L8.5 8.5l.94-2.06 2.06-.94-2.06-.94L8.5 2.5l-.94 2.06-2.06.94zm10 10l.94 2.06.94-2.06 2.06-.94-2.06-.94-.94-2.06-.94 2.06-2.06.94z\"/><path d=\"M17.41 7.96l-1.37-1.37c-.4-.4-.92-.59-1.43-.59-.52 0-1.04.2-1.43.59L10.3 9.45l-7.72 7.72c-.78.78-.78 2.05 0 2.83L4 21.41c.39.39.9.59 1.41.59.51 0 1.02-.2 1.41-.59l7.78-7.78 2.81-2.81c.8-.78.8-2.07 0-2.86zM5.41 20L4 18.59l7.72-7.72 1.47 1.35L5.41 20z\"/>\n",
              "  </svg>\n",
              "      </button>\n",
              "      \n",
              "  <style>\n",
              "    .colab-df-container {\n",
              "      display:flex;\n",
              "      flex-wrap:wrap;\n",
              "      gap: 12px;\n",
              "    }\n",
              "\n",
              "    .colab-df-convert {\n",
              "      background-color: #E8F0FE;\n",
              "      border: none;\n",
              "      border-radius: 50%;\n",
              "      cursor: pointer;\n",
              "      display: none;\n",
              "      fill: #1967D2;\n",
              "      height: 32px;\n",
              "      padding: 0 0 0 0;\n",
              "      width: 32px;\n",
              "    }\n",
              "\n",
              "    .colab-df-convert:hover {\n",
              "      background-color: #E2EBFA;\n",
              "      box-shadow: 0px 1px 2px rgba(60, 64, 67, 0.3), 0px 1px 3px 1px rgba(60, 64, 67, 0.15);\n",
              "      fill: #174EA6;\n",
              "    }\n",
              "\n",
              "    [theme=dark] .colab-df-convert {\n",
              "      background-color: #3B4455;\n",
              "      fill: #D2E3FC;\n",
              "    }\n",
              "\n",
              "    [theme=dark] .colab-df-convert:hover {\n",
              "      background-color: #434B5C;\n",
              "      box-shadow: 0px 1px 3px 1px rgba(0, 0, 0, 0.15);\n",
              "      filter: drop-shadow(0px 1px 2px rgba(0, 0, 0, 0.3));\n",
              "      fill: #FFFFFF;\n",
              "    }\n",
              "  </style>\n",
              "\n",
              "      <script>\n",
              "        const buttonEl =\n",
              "          document.querySelector('#df-4b5b4db9-006d-48e5-b15a-62007ce9cbbf button.colab-df-convert');\n",
              "        buttonEl.style.display =\n",
              "          google.colab.kernel.accessAllowed ? 'block' : 'none';\n",
              "\n",
              "        async function convertToInteractive(key) {\n",
              "          const element = document.querySelector('#df-4b5b4db9-006d-48e5-b15a-62007ce9cbbf');\n",
              "          const dataTable =\n",
              "            await google.colab.kernel.invokeFunction('convertToInteractive',\n",
              "                                                     [key], {});\n",
              "          if (!dataTable) return;\n",
              "\n",
              "          const docLinkHtml = 'Like what you see? Visit the ' +\n",
              "            '<a target=\"_blank\" href=https://colab.research.google.com/notebooks/data_table.ipynb>data table notebook</a>'\n",
              "            + ' to learn more about interactive tables.';\n",
              "          element.innerHTML = '';\n",
              "          dataTable['output_type'] = 'display_data';\n",
              "          await google.colab.output.renderOutput(dataTable, element);\n",
              "          const docLink = document.createElement('div');\n",
              "          docLink.innerHTML = docLinkHtml;\n",
              "          element.appendChild(docLink);\n",
              "        }\n",
              "      </script>\n",
              "    </div>\n",
              "  </div>\n",
              "  "
            ],
            "text/plain": [
              "       status gender     category  \\\n",
              "0   Cancelled      F  Accessories   \n",
              "1  Processing      F  Accessories   \n",
              "2  Processing      F  Accessories   \n",
              "3     Shipped      M        Socks   \n",
              "4     Shipped      M        Socks   \n",
              "\n",
              "                                        name_product  \\\n",
              "0  Classic and Regal Initial Embroidered Cotton H...   \n",
              "1  Classic and Regal Initial Embroidered Cotton H...   \n",
              "2  Classic and Regal Initial Embroidered Cotton H...   \n",
              "3                 BH Slipper Socks One Size Fits All   \n",
              "4                 BH Slipper Socks One Size Fits All   \n",
              "\n",
              "                                          name  \n",
              "0                                   Houston TX  \n",
              "1                                   Houston TX  \n",
              "2                                   Houston TX  \n",
              "3  Port Authority of New York/New Jersey NY/NJ  \n",
              "4  Port Authority of New York/New Jersey NY/NJ  "
            ]
          },
          "execution_count": 24,
          "metadata": {},
          "output_type": "execute_result"
        }
      ],
      "source": [
        "bank_cust.head() "
      ]
    },
    {
      "cell_type": "code",
      "execution_count": null,
      "metadata": {
        "colab": {
          "base_uri": "https://localhost:8080/",
          "height": 502
        },
        "id": "wnKkD19ds7qd",
        "outputId": "afe409df-9458-459b-a8de-36085cf5fe14"
      },
      "outputs": [
        {
          "ename": "KeyError",
          "evalue": "ignored",
          "output_type": "error",
          "traceback": [
            "\u001b[0;31m---------------------------------------------------------------------------\u001b[0m",
            "\u001b[0;31mKeyError\u001b[0m                                  Traceback (most recent call last)",
            "\u001b[0;32m/usr/local/lib/python3.7/dist-packages/pandas/core/indexes/base.py\u001b[0m in \u001b[0;36mget_loc\u001b[0;34m(self, key, method, tolerance)\u001b[0m\n\u001b[1;32m   3360\u001b[0m             \u001b[0;32mtry\u001b[0m\u001b[0;34m:\u001b[0m\u001b[0;34m\u001b[0m\u001b[0;34m\u001b[0m\u001b[0m\n\u001b[0;32m-> 3361\u001b[0;31m                 \u001b[0;32mreturn\u001b[0m \u001b[0mself\u001b[0m\u001b[0;34m.\u001b[0m\u001b[0m_engine\u001b[0m\u001b[0;34m.\u001b[0m\u001b[0mget_loc\u001b[0m\u001b[0;34m(\u001b[0m\u001b[0mcasted_key\u001b[0m\u001b[0;34m)\u001b[0m\u001b[0;34m\u001b[0m\u001b[0;34m\u001b[0m\u001b[0m\n\u001b[0m\u001b[1;32m   3362\u001b[0m             \u001b[0;32mexcept\u001b[0m \u001b[0mKeyError\u001b[0m \u001b[0;32mas\u001b[0m \u001b[0merr\u001b[0m\u001b[0;34m:\u001b[0m\u001b[0;34m\u001b[0m\u001b[0;34m\u001b[0m\u001b[0m\n",
            "\u001b[0;32m/usr/local/lib/python3.7/dist-packages/pandas/_libs/index.pyx\u001b[0m in \u001b[0;36mpandas._libs.index.IndexEngine.get_loc\u001b[0;34m()\u001b[0m\n",
            "\u001b[0;32m/usr/local/lib/python3.7/dist-packages/pandas/_libs/index.pyx\u001b[0m in \u001b[0;36mpandas._libs.index.IndexEngine.get_loc\u001b[0;34m()\u001b[0m\n",
            "\u001b[0;32mpandas/_libs/hashtable_class_helper.pxi\u001b[0m in \u001b[0;36mpandas._libs.hashtable.PyObjectHashTable.get_item\u001b[0;34m()\u001b[0m\n",
            "\u001b[0;32mpandas/_libs/hashtable_class_helper.pxi\u001b[0m in \u001b[0;36mpandas._libs.hashtable.PyObjectHashTable.get_item\u001b[0;34m()\u001b[0m\n",
            "\u001b[0;31mKeyError\u001b[0m: 'num_of_item'",
            "\nThe above exception was the direct cause of the following exception:\n",
            "\u001b[0;31mKeyError\u001b[0m                                  Traceback (most recent call last)",
            "\u001b[0;32m<ipython-input-33-7a07eb8ed486>\u001b[0m in \u001b[0;36m<module>\u001b[0;34m()\u001b[0m\n\u001b[1;32m      1\u001b[0m \u001b[0;31m# Converting age into categorical variable.\u001b[0m\u001b[0;34m\u001b[0m\u001b[0;34m\u001b[0m\u001b[0;34m\u001b[0m\u001b[0m\n\u001b[0;32m----> 2\u001b[0;31m bank_cust['num_of_item'] = pd.cut(bank_cust['num_of_item'], [1, 2, 3, 4], \n\u001b[0m\u001b[1;32m      3\u001b[0m                               labels=['0-1', '1-2', '2-3', '3-4'])\n\u001b[1;32m      4\u001b[0m \u001b[0mbank_cust\u001b[0m  \u001b[0;34m=\u001b[0m \u001b[0mbank_cust\u001b[0m\u001b[0;34m.\u001b[0m\u001b[0mdrop\u001b[0m\u001b[0;34m(\u001b[0m\u001b[0;34m'num_of_item'\u001b[0m\u001b[0;34m,\u001b[0m\u001b[0maxis\u001b[0m \u001b[0;34m=\u001b[0m \u001b[0;36m1\u001b[0m\u001b[0;34m)\u001b[0m\u001b[0;34m\u001b[0m\u001b[0;34m\u001b[0m\u001b[0m\n\u001b[1;32m      5\u001b[0m \u001b[0mbank_cust\u001b[0m\u001b[0;34m.\u001b[0m\u001b[0mhead\u001b[0m\u001b[0;34m(\u001b[0m\u001b[0;34m)\u001b[0m\u001b[0;34m\u001b[0m\u001b[0;34m\u001b[0m\u001b[0m\n",
            "\u001b[0;32m/usr/local/lib/python3.7/dist-packages/pandas/core/frame.py\u001b[0m in \u001b[0;36m__getitem__\u001b[0;34m(self, key)\u001b[0m\n\u001b[1;32m   3456\u001b[0m             \u001b[0;32mif\u001b[0m \u001b[0mself\u001b[0m\u001b[0;34m.\u001b[0m\u001b[0mcolumns\u001b[0m\u001b[0;34m.\u001b[0m\u001b[0mnlevels\u001b[0m \u001b[0;34m>\u001b[0m \u001b[0;36m1\u001b[0m\u001b[0;34m:\u001b[0m\u001b[0;34m\u001b[0m\u001b[0;34m\u001b[0m\u001b[0m\n\u001b[1;32m   3457\u001b[0m                 \u001b[0;32mreturn\u001b[0m \u001b[0mself\u001b[0m\u001b[0;34m.\u001b[0m\u001b[0m_getitem_multilevel\u001b[0m\u001b[0;34m(\u001b[0m\u001b[0mkey\u001b[0m\u001b[0;34m)\u001b[0m\u001b[0;34m\u001b[0m\u001b[0;34m\u001b[0m\u001b[0m\n\u001b[0;32m-> 3458\u001b[0;31m             \u001b[0mindexer\u001b[0m \u001b[0;34m=\u001b[0m \u001b[0mself\u001b[0m\u001b[0;34m.\u001b[0m\u001b[0mcolumns\u001b[0m\u001b[0;34m.\u001b[0m\u001b[0mget_loc\u001b[0m\u001b[0;34m(\u001b[0m\u001b[0mkey\u001b[0m\u001b[0;34m)\u001b[0m\u001b[0;34m\u001b[0m\u001b[0;34m\u001b[0m\u001b[0m\n\u001b[0m\u001b[1;32m   3459\u001b[0m             \u001b[0;32mif\u001b[0m \u001b[0mis_integer\u001b[0m\u001b[0;34m(\u001b[0m\u001b[0mindexer\u001b[0m\u001b[0;34m)\u001b[0m\u001b[0;34m:\u001b[0m\u001b[0;34m\u001b[0m\u001b[0;34m\u001b[0m\u001b[0m\n\u001b[1;32m   3460\u001b[0m                 \u001b[0mindexer\u001b[0m \u001b[0;34m=\u001b[0m \u001b[0;34m[\u001b[0m\u001b[0mindexer\u001b[0m\u001b[0;34m]\u001b[0m\u001b[0;34m\u001b[0m\u001b[0;34m\u001b[0m\u001b[0m\n",
            "\u001b[0;32m/usr/local/lib/python3.7/dist-packages/pandas/core/indexes/base.py\u001b[0m in \u001b[0;36mget_loc\u001b[0;34m(self, key, method, tolerance)\u001b[0m\n\u001b[1;32m   3361\u001b[0m                 \u001b[0;32mreturn\u001b[0m \u001b[0mself\u001b[0m\u001b[0;34m.\u001b[0m\u001b[0m_engine\u001b[0m\u001b[0;34m.\u001b[0m\u001b[0mget_loc\u001b[0m\u001b[0;34m(\u001b[0m\u001b[0mcasted_key\u001b[0m\u001b[0;34m)\u001b[0m\u001b[0;34m\u001b[0m\u001b[0;34m\u001b[0m\u001b[0m\n\u001b[1;32m   3362\u001b[0m             \u001b[0;32mexcept\u001b[0m \u001b[0mKeyError\u001b[0m \u001b[0;32mas\u001b[0m \u001b[0merr\u001b[0m\u001b[0;34m:\u001b[0m\u001b[0;34m\u001b[0m\u001b[0;34m\u001b[0m\u001b[0m\n\u001b[0;32m-> 3363\u001b[0;31m                 \u001b[0;32mraise\u001b[0m \u001b[0mKeyError\u001b[0m\u001b[0;34m(\u001b[0m\u001b[0mkey\u001b[0m\u001b[0;34m)\u001b[0m \u001b[0;32mfrom\u001b[0m \u001b[0merr\u001b[0m\u001b[0;34m\u001b[0m\u001b[0;34m\u001b[0m\u001b[0m\n\u001b[0m\u001b[1;32m   3364\u001b[0m \u001b[0;34m\u001b[0m\u001b[0m\n\u001b[1;32m   3365\u001b[0m         \u001b[0;32mif\u001b[0m \u001b[0mis_scalar\u001b[0m\u001b[0;34m(\u001b[0m\u001b[0mkey\u001b[0m\u001b[0;34m)\u001b[0m \u001b[0;32mand\u001b[0m \u001b[0misna\u001b[0m\u001b[0;34m(\u001b[0m\u001b[0mkey\u001b[0m\u001b[0;34m)\u001b[0m \u001b[0;32mand\u001b[0m \u001b[0;32mnot\u001b[0m \u001b[0mself\u001b[0m\u001b[0;34m.\u001b[0m\u001b[0mhasnans\u001b[0m\u001b[0;34m:\u001b[0m\u001b[0;34m\u001b[0m\u001b[0;34m\u001b[0m\u001b[0m\n",
            "\u001b[0;31mKeyError\u001b[0m: 'num_of_item'"
          ]
        }
      ],
      "source": [
        "# Converting age into categorical variable.\n",
        "bank_cust['status_bin'] = pd.cut(bank_cust['status'], [1, 2, 3, 4], \n",
        "                              labels=['0-1', '1-2', '2-3', '3-4'])\n",
        "bank_cust  = bank_cust.drop('status',axis = 1)\n",
        "bank_cust.head()"
      ]
    },
    {
      "cell_type": "code",
      "execution_count": null,
      "metadata": {
        "colab": {
          "base_uri": "https://localhost:8080/"
        },
        "id": "ZPcpCxcvNxtG",
        "outputId": "d550b9d9-fa6a-4598-986f-bbc70e31282e"
      },
      "outputs": [
        {
          "data": {
            "text/plain": [
              "count    154508.000000\n",
              "mean          1.889287\n",
              "std           1.056747\n",
              "min           1.000000\n",
              "25%           1.000000\n",
              "50%           2.000000\n",
              "75%           2.000000\n",
              "max           4.000000\n",
              "Name: num_of_item, dtype: float64"
            ]
          },
          "execution_count": 29,
          "metadata": {},
          "output_type": "execute_result"
        }
      ],
      "source": [
        "sales.num_of_item.describe().T"
      ]
    },
    {
      "cell_type": "code",
      "execution_count": null,
      "metadata": {
        "id": "Gn11vNiGtDGi"
      },
      "outputs": [],
      "source": [
        "#data inspection"
      ]
    },
    {
      "cell_type": "code",
      "execution_count": null,
      "metadata": {
        "colab": {
          "base_uri": "https://localhost:8080/"
        },
        "id": "kEh03T2HtHFZ",
        "outputId": "1aa86804-6298-47d6-ee56-bbd9cfa10bde"
      },
      "outputs": [
        {
          "data": {
            "text/plain": [
              "(154508, 5)"
            ]
          },
          "execution_count": 35,
          "metadata": {},
          "output_type": "execute_result"
        }
      ],
      "source": [
        "bank_cust.shape"
      ]
    },
    {
      "cell_type": "code",
      "execution_count": null,
      "metadata": {
        "colab": {
          "base_uri": "https://localhost:8080/",
          "height": 175
        },
        "id": "nWTXlt0ItIoD",
        "outputId": "02752c38-a63f-4a70-8b4d-7ff9e47d0cd1"
      },
      "outputs": [
        {
          "data": {
            "text/html": [
              "\n",
              "  <div id=\"df-ac91bc98-2a03-410e-947c-e0dfa399c007\">\n",
              "    <div class=\"colab-df-container\">\n",
              "      <div>\n",
              "<style scoped>\n",
              "    .dataframe tbody tr th:only-of-type {\n",
              "        vertical-align: middle;\n",
              "    }\n",
              "\n",
              "    .dataframe tbody tr th {\n",
              "        vertical-align: top;\n",
              "    }\n",
              "\n",
              "    .dataframe thead th {\n",
              "        text-align: right;\n",
              "    }\n",
              "</style>\n",
              "<table border=\"1\" class=\"dataframe\">\n",
              "  <thead>\n",
              "    <tr style=\"text-align: right;\">\n",
              "      <th></th>\n",
              "      <th>status</th>\n",
              "      <th>gender</th>\n",
              "      <th>category</th>\n",
              "      <th>name_product</th>\n",
              "      <th>name</th>\n",
              "    </tr>\n",
              "  </thead>\n",
              "  <tbody>\n",
              "    <tr>\n",
              "      <th>count</th>\n",
              "      <td>154508</td>\n",
              "      <td>154508</td>\n",
              "      <td>154508</td>\n",
              "      <td>154492</td>\n",
              "      <td>154508</td>\n",
              "    </tr>\n",
              "    <tr>\n",
              "      <th>unique</th>\n",
              "      <td>5</td>\n",
              "      <td>2</td>\n",
              "      <td>26</td>\n",
              "      <td>20300</td>\n",
              "      <td>10</td>\n",
              "    </tr>\n",
              "    <tr>\n",
              "      <th>top</th>\n",
              "      <td>Shipped</td>\n",
              "      <td>M</td>\n",
              "      <td>Intimates</td>\n",
              "      <td>Thorlo Unisex Experia Running Sock</td>\n",
              "      <td>Memphis TN</td>\n",
              "    </tr>\n",
              "    <tr>\n",
              "      <th>freq</th>\n",
              "      <td>46973</td>\n",
              "      <td>77475</td>\n",
              "      <td>10955</td>\n",
              "      <td>77</td>\n",
              "      <td>20730</td>\n",
              "    </tr>\n",
              "  </tbody>\n",
              "</table>\n",
              "</div>\n",
              "      <button class=\"colab-df-convert\" onclick=\"convertToInteractive('df-ac91bc98-2a03-410e-947c-e0dfa399c007')\"\n",
              "              title=\"Convert this dataframe to an interactive table.\"\n",
              "              style=\"display:none;\">\n",
              "        \n",
              "  <svg xmlns=\"http://www.w3.org/2000/svg\" height=\"24px\"viewBox=\"0 0 24 24\"\n",
              "       width=\"24px\">\n",
              "    <path d=\"M0 0h24v24H0V0z\" fill=\"none\"/>\n",
              "    <path d=\"M18.56 5.44l.94 2.06.94-2.06 2.06-.94-2.06-.94-.94-2.06-.94 2.06-2.06.94zm-11 1L8.5 8.5l.94-2.06 2.06-.94-2.06-.94L8.5 2.5l-.94 2.06-2.06.94zm10 10l.94 2.06.94-2.06 2.06-.94-2.06-.94-.94-2.06-.94 2.06-2.06.94z\"/><path d=\"M17.41 7.96l-1.37-1.37c-.4-.4-.92-.59-1.43-.59-.52 0-1.04.2-1.43.59L10.3 9.45l-7.72 7.72c-.78.78-.78 2.05 0 2.83L4 21.41c.39.39.9.59 1.41.59.51 0 1.02-.2 1.41-.59l7.78-7.78 2.81-2.81c.8-.78.8-2.07 0-2.86zM5.41 20L4 18.59l7.72-7.72 1.47 1.35L5.41 20z\"/>\n",
              "  </svg>\n",
              "      </button>\n",
              "      \n",
              "  <style>\n",
              "    .colab-df-container {\n",
              "      display:flex;\n",
              "      flex-wrap:wrap;\n",
              "      gap: 12px;\n",
              "    }\n",
              "\n",
              "    .colab-df-convert {\n",
              "      background-color: #E8F0FE;\n",
              "      border: none;\n",
              "      border-radius: 50%;\n",
              "      cursor: pointer;\n",
              "      display: none;\n",
              "      fill: #1967D2;\n",
              "      height: 32px;\n",
              "      padding: 0 0 0 0;\n",
              "      width: 32px;\n",
              "    }\n",
              "\n",
              "    .colab-df-convert:hover {\n",
              "      background-color: #E2EBFA;\n",
              "      box-shadow: 0px 1px 2px rgba(60, 64, 67, 0.3), 0px 1px 3px 1px rgba(60, 64, 67, 0.15);\n",
              "      fill: #174EA6;\n",
              "    }\n",
              "\n",
              "    [theme=dark] .colab-df-convert {\n",
              "      background-color: #3B4455;\n",
              "      fill: #D2E3FC;\n",
              "    }\n",
              "\n",
              "    [theme=dark] .colab-df-convert:hover {\n",
              "      background-color: #434B5C;\n",
              "      box-shadow: 0px 1px 3px 1px rgba(0, 0, 0, 0.15);\n",
              "      filter: drop-shadow(0px 1px 2px rgba(0, 0, 0, 0.3));\n",
              "      fill: #FFFFFF;\n",
              "    }\n",
              "  </style>\n",
              "\n",
              "      <script>\n",
              "        const buttonEl =\n",
              "          document.querySelector('#df-ac91bc98-2a03-410e-947c-e0dfa399c007 button.colab-df-convert');\n",
              "        buttonEl.style.display =\n",
              "          google.colab.kernel.accessAllowed ? 'block' : 'none';\n",
              "\n",
              "        async function convertToInteractive(key) {\n",
              "          const element = document.querySelector('#df-ac91bc98-2a03-410e-947c-e0dfa399c007');\n",
              "          const dataTable =\n",
              "            await google.colab.kernel.invokeFunction('convertToInteractive',\n",
              "                                                     [key], {});\n",
              "          if (!dataTable) return;\n",
              "\n",
              "          const docLinkHtml = 'Like what you see? Visit the ' +\n",
              "            '<a target=\"_blank\" href=https://colab.research.google.com/notebooks/data_table.ipynb>data table notebook</a>'\n",
              "            + ' to learn more about interactive tables.';\n",
              "          element.innerHTML = '';\n",
              "          dataTable['output_type'] = 'display_data';\n",
              "          await google.colab.output.renderOutput(dataTable, element);\n",
              "          const docLink = document.createElement('div');\n",
              "          docLink.innerHTML = docLinkHtml;\n",
              "          element.appendChild(docLink);\n",
              "        }\n",
              "      </script>\n",
              "    </div>\n",
              "  </div>\n",
              "  "
            ],
            "text/plain": [
              "         status  gender   category                        name_product  \\\n",
              "count    154508  154508     154508                              154492   \n",
              "unique        5       2         26                               20300   \n",
              "top     Shipped       M  Intimates  Thorlo Unisex Experia Running Sock   \n",
              "freq      46973   77475      10955                                  77   \n",
              "\n",
              "              name  \n",
              "count       154508  \n",
              "unique          10  \n",
              "top     Memphis TN  \n",
              "freq         20730  "
            ]
          },
          "execution_count": 36,
          "metadata": {},
          "output_type": "execute_result"
        }
      ],
      "source": [
        "bank_cust.describe()"
      ]
    },
    {
      "cell_type": "code",
      "execution_count": null,
      "metadata": {
        "colab": {
          "base_uri": "https://localhost:8080/"
        },
        "id": "6k2JuLdFtJ-3",
        "outputId": "78843e04-e032-4f6e-8d13-d30738ff1c5c"
      },
      "outputs": [
        {
          "name": "stdout",
          "output_type": "stream",
          "text": [
            "<class 'pandas.core.frame.DataFrame'>\n",
            "RangeIndex: 154508 entries, 0 to 154507\n",
            "Data columns (total 5 columns):\n",
            " #   Column        Non-Null Count   Dtype \n",
            "---  ------        --------------   ----- \n",
            " 0   status        154508 non-null  object\n",
            " 1   gender        154508 non-null  object\n",
            " 2   category      154508 non-null  object\n",
            " 3   name_product  154492 non-null  object\n",
            " 4   name          154508 non-null  object\n",
            "dtypes: object(5)\n",
            "memory usage: 5.9+ MB\n"
          ]
        }
      ],
      "source": [
        "bank_cust.info()"
      ]
    },
    {
      "cell_type": "code",
      "execution_count": null,
      "metadata": {
        "id": "rbxvC9UGtMXZ"
      },
      "outputs": [],
      "source": [
        "## data cleaning9"
      ]
    },
    {
      "cell_type": "code",
      "execution_count": null,
      "metadata": {
        "colab": {
          "base_uri": "https://localhost:8080/"
        },
        "id": "SCVnlrtStO92",
        "outputId": "1a391dce-d9c8-445c-8f5f-7c3b8921f864"
      },
      "outputs": [
        {
          "data": {
            "text/plain": [
              "status          0.000000\n",
              "gender          0.000000\n",
              "category        0.000000\n",
              "name_product    0.010355\n",
              "name            0.000000\n",
              "dtype: float64"
            ]
          },
          "execution_count": 38,
          "metadata": {},
          "output_type": "execute_result"
        }
      ],
      "source": [
        "# Checking Null values\n",
        "bank_cust.isnull().sum()*100/bank_cust.shape[0]"
      ]
    },
    {
      "cell_type": "code",
      "execution_count": null,
      "metadata": {
        "id": "zIKgXDpyRR76"
      },
      "outputs": [],
      "source": [
        "modus = sales['name_product'].mode()[0]"
      ]
    },
    {
      "cell_type": "code",
      "execution_count": null,
      "metadata": {
        "id": "CbBbvrXqRbJi"
      },
      "outputs": [],
      "source": [
        "sales['name_product'] = sales['name_product'].fillna(modus)"
      ]
    },
    {
      "cell_type": "code",
      "execution_count": null,
      "metadata": {
        "colab": {
          "base_uri": "https://localhost:8080/"
        },
        "id": "4u-kQcSiRjxh",
        "outputId": "3f5c7615-9523-468d-c80e-cb7c08800629"
      },
      "outputs": [
        {
          "data": {
            "text/plain": [
              "0"
            ]
          },
          "execution_count": 42,
          "metadata": {},
          "output_type": "execute_result"
        }
      ],
      "source": [
        "sales['name_product'].isna().sum()"
      ]
    },
    {
      "cell_type": "code",
      "execution_count": null,
      "metadata": {
        "id": "I5rDHCQdtRzA"
      },
      "outputs": [],
      "source": [
        "# pembuatan model"
      ]
    },
    {
      "cell_type": "code",
      "execution_count": null,
      "metadata": {
        "id": "k8eaQGkrtWvH"
      },
      "outputs": [],
      "source": [
        "# First we will keep a copy of data\n",
        "bank_cust_copy = bank_cust.copy()"
      ]
    },
    {
      "cell_type": "code",
      "execution_count": null,
      "metadata": {
        "colab": {
          "base_uri": "https://localhost:8080/",
          "height": 206
        },
        "id": "RIcbmvG9tYoN",
        "outputId": "30b5f6b9-85a7-4cd6-c642-d6c7dd49abf6"
      },
      "outputs": [
        {
          "data": {
            "text/html": [
              "\n",
              "  <div id=\"df-b9d957d0-6ac9-4644-a38c-8892a68db2fd\">\n",
              "    <div class=\"colab-df-container\">\n",
              "      <div>\n",
              "<style scoped>\n",
              "    .dataframe tbody tr th:only-of-type {\n",
              "        vertical-align: middle;\n",
              "    }\n",
              "\n",
              "    .dataframe tbody tr th {\n",
              "        vertical-align: top;\n",
              "    }\n",
              "\n",
              "    .dataframe thead th {\n",
              "        text-align: right;\n",
              "    }\n",
              "</style>\n",
              "<table border=\"1\" class=\"dataframe\">\n",
              "  <thead>\n",
              "    <tr style=\"text-align: right;\">\n",
              "      <th></th>\n",
              "      <th>status</th>\n",
              "      <th>gender</th>\n",
              "      <th>category</th>\n",
              "      <th>name_product</th>\n",
              "      <th>name</th>\n",
              "    </tr>\n",
              "  </thead>\n",
              "  <tbody>\n",
              "    <tr>\n",
              "      <th>0</th>\n",
              "      <td>0</td>\n",
              "      <td>0</td>\n",
              "      <td>0</td>\n",
              "      <td>4782</td>\n",
              "      <td>2</td>\n",
              "    </tr>\n",
              "    <tr>\n",
              "      <th>1</th>\n",
              "      <td>2</td>\n",
              "      <td>0</td>\n",
              "      <td>0</td>\n",
              "      <td>4782</td>\n",
              "      <td>2</td>\n",
              "    </tr>\n",
              "    <tr>\n",
              "      <th>2</th>\n",
              "      <td>2</td>\n",
              "      <td>0</td>\n",
              "      <td>0</td>\n",
              "      <td>4782</td>\n",
              "      <td>2</td>\n",
              "    </tr>\n",
              "    <tr>\n",
              "      <th>3</th>\n",
              "      <td>4</td>\n",
              "      <td>1</td>\n",
              "      <td>18</td>\n",
              "      <td>2462</td>\n",
              "      <td>8</td>\n",
              "    </tr>\n",
              "    <tr>\n",
              "      <th>4</th>\n",
              "      <td>4</td>\n",
              "      <td>1</td>\n",
              "      <td>18</td>\n",
              "      <td>2462</td>\n",
              "      <td>8</td>\n",
              "    </tr>\n",
              "  </tbody>\n",
              "</table>\n",
              "</div>\n",
              "      <button class=\"colab-df-convert\" onclick=\"convertToInteractive('df-b9d957d0-6ac9-4644-a38c-8892a68db2fd')\"\n",
              "              title=\"Convert this dataframe to an interactive table.\"\n",
              "              style=\"display:none;\">\n",
              "        \n",
              "  <svg xmlns=\"http://www.w3.org/2000/svg\" height=\"24px\"viewBox=\"0 0 24 24\"\n",
              "       width=\"24px\">\n",
              "    <path d=\"M0 0h24v24H0V0z\" fill=\"none\"/>\n",
              "    <path d=\"M18.56 5.44l.94 2.06.94-2.06 2.06-.94-2.06-.94-.94-2.06-.94 2.06-2.06.94zm-11 1L8.5 8.5l.94-2.06 2.06-.94-2.06-.94L8.5 2.5l-.94 2.06-2.06.94zm10 10l.94 2.06.94-2.06 2.06-.94-2.06-.94-.94-2.06-.94 2.06-2.06.94z\"/><path d=\"M17.41 7.96l-1.37-1.37c-.4-.4-.92-.59-1.43-.59-.52 0-1.04.2-1.43.59L10.3 9.45l-7.72 7.72c-.78.78-.78 2.05 0 2.83L4 21.41c.39.39.9.59 1.41.59.51 0 1.02-.2 1.41-.59l7.78-7.78 2.81-2.81c.8-.78.8-2.07 0-2.86zM5.41 20L4 18.59l7.72-7.72 1.47 1.35L5.41 20z\"/>\n",
              "  </svg>\n",
              "      </button>\n",
              "      \n",
              "  <style>\n",
              "    .colab-df-container {\n",
              "      display:flex;\n",
              "      flex-wrap:wrap;\n",
              "      gap: 12px;\n",
              "    }\n",
              "\n",
              "    .colab-df-convert {\n",
              "      background-color: #E8F0FE;\n",
              "      border: none;\n",
              "      border-radius: 50%;\n",
              "      cursor: pointer;\n",
              "      display: none;\n",
              "      fill: #1967D2;\n",
              "      height: 32px;\n",
              "      padding: 0 0 0 0;\n",
              "      width: 32px;\n",
              "    }\n",
              "\n",
              "    .colab-df-convert:hover {\n",
              "      background-color: #E2EBFA;\n",
              "      box-shadow: 0px 1px 2px rgba(60, 64, 67, 0.3), 0px 1px 3px 1px rgba(60, 64, 67, 0.15);\n",
              "      fill: #174EA6;\n",
              "    }\n",
              "\n",
              "    [theme=dark] .colab-df-convert {\n",
              "      background-color: #3B4455;\n",
              "      fill: #D2E3FC;\n",
              "    }\n",
              "\n",
              "    [theme=dark] .colab-df-convert:hover {\n",
              "      background-color: #434B5C;\n",
              "      box-shadow: 0px 1px 3px 1px rgba(0, 0, 0, 0.15);\n",
              "      filter: drop-shadow(0px 1px 2px rgba(0, 0, 0, 0.3));\n",
              "      fill: #FFFFFF;\n",
              "    }\n",
              "  </style>\n",
              "\n",
              "      <script>\n",
              "        const buttonEl =\n",
              "          document.querySelector('#df-b9d957d0-6ac9-4644-a38c-8892a68db2fd button.colab-df-convert');\n",
              "        buttonEl.style.display =\n",
              "          google.colab.kernel.accessAllowed ? 'block' : 'none';\n",
              "\n",
              "        async function convertToInteractive(key) {\n",
              "          const element = document.querySelector('#df-b9d957d0-6ac9-4644-a38c-8892a68db2fd');\n",
              "          const dataTable =\n",
              "            await google.colab.kernel.invokeFunction('convertToInteractive',\n",
              "                                                     [key], {});\n",
              "          if (!dataTable) return;\n",
              "\n",
              "          const docLinkHtml = 'Like what you see? Visit the ' +\n",
              "            '<a target=\"_blank\" href=https://colab.research.google.com/notebooks/data_table.ipynb>data table notebook</a>'\n",
              "            + ' to learn more about interactive tables.';\n",
              "          element.innerHTML = '';\n",
              "          dataTable['output_type'] = 'display_data';\n",
              "          await google.colab.output.renderOutput(dataTable, element);\n",
              "          const docLink = document.createElement('div');\n",
              "          docLink.innerHTML = docLinkHtml;\n",
              "          element.appendChild(docLink);\n",
              "        }\n",
              "      </script>\n",
              "    </div>\n",
              "  </div>\n",
              "  "
            ],
            "text/plain": [
              "   status  gender  category  name_product  name\n",
              "0       0       0         0          4782     2\n",
              "1       2       0         0          4782     2\n",
              "2       2       0         0          4782     2\n",
              "3       4       1        18          2462     8\n",
              "4       4       1        18          2462     8"
            ]
          },
          "execution_count": 44,
          "metadata": {},
          "output_type": "execute_result"
        }
      ],
      "source": [
        "## data preparation\n",
        "from sklearn import preprocessing\n",
        "le = preprocessing.LabelEncoder()\n",
        "bank_cust = bank_cust.apply(le.fit_transform)\n",
        "bank_cust.head()"
      ]
    },
    {
      "cell_type": "code",
      "execution_count": null,
      "metadata": {
        "colab": {
          "base_uri": "https://localhost:8080/"
        },
        "id": "Bt-pkXG6tdxl",
        "outputId": "6780d965-5657-4492-a1a7-e3b1232c270c"
      },
      "outputs": [
        {
          "name": "stdout",
          "output_type": "stream",
          "text": [
            "Looking in indexes: https://pypi.org/simple, https://us-python.pkg.dev/colab-wheels/public/simple/\n",
            "Collecting kmodes\n",
            "  Downloading kmodes-0.12.1-py2.py3-none-any.whl (20 kB)\n",
            "Requirement already satisfied: scipy>=0.13.3 in /usr/local/lib/python3.7/dist-packages (from kmodes) (1.4.1)\n",
            "Requirement already satisfied: joblib>=0.11 in /usr/local/lib/python3.7/dist-packages (from kmodes) (1.1.0)\n",
            "Requirement already satisfied: scikit-learn>=0.22.0 in /usr/local/lib/python3.7/dist-packages (from kmodes) (1.0.2)\n",
            "Requirement already satisfied: numpy>=1.10.4 in /usr/local/lib/python3.7/dist-packages (from kmodes) (1.21.6)\n",
            "Requirement already satisfied: threadpoolctl>=2.0.0 in /usr/local/lib/python3.7/dist-packages (from scikit-learn>=0.22.0->kmodes) (3.1.0)\n",
            "Installing collected packages: kmodes\n",
            "Successfully installed kmodes-0.12.1\n"
          ]
        }
      ],
      "source": [
        "# Importing Libraries\n",
        "!pip install kmodes\n"
      ]
    },
    {
      "cell_type": "code",
      "execution_count": null,
      "metadata": {
        "id": "Ypdb3BtLtgDw"
      },
      "outputs": [],
      "source": [
        "from kmodes.kmodes import KModes"
      ]
    },
    {
      "cell_type": "code",
      "execution_count": null,
      "metadata": {
        "id": "wQBj7UqaurH7"
      },
      "outputs": [],
      "source": [
        "#pembentukan centroid metode CAO"
      ]
    },
    {
      "cell_type": "code",
      "execution_count": null,
      "metadata": {
        "colab": {
          "base_uri": "https://localhost:8080/"
        },
        "id": "x4Ea2iKlukxx",
        "outputId": "6c893934-ef69-40b5-cf88-f0cd3da7c1aa"
      },
      "outputs": [
        {
          "name": "stdout",
          "output_type": "stream",
          "text": [
            "Init: initializing centroids\n",
            "Init: initializing clusters\n",
            "Starting iterations...\n",
            "Run 1, iteration: 1/100, moves: 0, cost: 529692.0\n"
          ]
        }
      ],
      "source": [
        "km_cao = KModes(n_clusters=2, init = \"Cao\", n_init = 1, verbose=1)\n",
        "fitClusters_cao = km_cao.fit_predict(bank_cust)"
      ]
    },
    {
      "cell_type": "code",
      "execution_count": null,
      "metadata": {
        "colab": {
          "base_uri": "https://localhost:8080/"
        },
        "id": "efY2q4FDuoqW",
        "outputId": "9932709c-cc3d-4af3-cbda-da8e40e135c4"
      },
      "outputs": [
        {
          "data": {
            "text/plain": [
              "array([1, 1, 1, ..., 0, 1, 1], dtype=uint16)"
            ]
          },
          "execution_count": 48,
          "metadata": {},
          "output_type": "execute_result"
        }
      ],
      "source": [
        "# Predicted Clusters\n",
        "fitClusters_cao"
      ]
    },
    {
      "cell_type": "code",
      "execution_count": null,
      "metadata": {
        "id": "4hv1YQgCu0A2"
      },
      "outputs": [],
      "source": [
        "clusterCentroidsDf = pd.DataFrame(km_cao.cluster_centroids_)\n",
        "clusterCentroidsDf.columns = bank_cust.columns"
      ]
    },
    {
      "cell_type": "code",
      "execution_count": null,
      "metadata": {
        "colab": {
          "base_uri": "https://localhost:8080/",
          "height": 112
        },
        "id": "4P2HW-1au53O",
        "outputId": "0b9985f0-f6f7-4217-9d82-e13bf53ff126"
      },
      "outputs": [
        {
          "data": {
            "text/html": [
              "\n",
              "  <div id=\"df-cd9929e1-3f0d-49c7-86f3-164ad0090ae5\">\n",
              "    <div class=\"colab-df-container\">\n",
              "      <div>\n",
              "<style scoped>\n",
              "    .dataframe tbody tr th:only-of-type {\n",
              "        vertical-align: middle;\n",
              "    }\n",
              "\n",
              "    .dataframe tbody tr th {\n",
              "        vertical-align: top;\n",
              "    }\n",
              "\n",
              "    .dataframe thead th {\n",
              "        text-align: right;\n",
              "    }\n",
              "</style>\n",
              "<table border=\"1\" class=\"dataframe\">\n",
              "  <thead>\n",
              "    <tr style=\"text-align: right;\">\n",
              "      <th></th>\n",
              "      <th>status</th>\n",
              "      <th>gender</th>\n",
              "      <th>category</th>\n",
              "      <th>name_product</th>\n",
              "      <th>name</th>\n",
              "    </tr>\n",
              "  </thead>\n",
              "  <tbody>\n",
              "    <tr>\n",
              "      <th>0</th>\n",
              "      <td>4</td>\n",
              "      <td>1</td>\n",
              "      <td>7</td>\n",
              "      <td>17718</td>\n",
              "      <td>4</td>\n",
              "    </tr>\n",
              "    <tr>\n",
              "      <th>1</th>\n",
              "      <td>1</td>\n",
              "      <td>0</td>\n",
              "      <td>6</td>\n",
              "      <td>16685</td>\n",
              "      <td>1</td>\n",
              "    </tr>\n",
              "  </tbody>\n",
              "</table>\n",
              "</div>\n",
              "      <button class=\"colab-df-convert\" onclick=\"convertToInteractive('df-cd9929e1-3f0d-49c7-86f3-164ad0090ae5')\"\n",
              "              title=\"Convert this dataframe to an interactive table.\"\n",
              "              style=\"display:none;\">\n",
              "        \n",
              "  <svg xmlns=\"http://www.w3.org/2000/svg\" height=\"24px\"viewBox=\"0 0 24 24\"\n",
              "       width=\"24px\">\n",
              "    <path d=\"M0 0h24v24H0V0z\" fill=\"none\"/>\n",
              "    <path d=\"M18.56 5.44l.94 2.06.94-2.06 2.06-.94-2.06-.94-.94-2.06-.94 2.06-2.06.94zm-11 1L8.5 8.5l.94-2.06 2.06-.94-2.06-.94L8.5 2.5l-.94 2.06-2.06.94zm10 10l.94 2.06.94-2.06 2.06-.94-2.06-.94-.94-2.06-.94 2.06-2.06.94z\"/><path d=\"M17.41 7.96l-1.37-1.37c-.4-.4-.92-.59-1.43-.59-.52 0-1.04.2-1.43.59L10.3 9.45l-7.72 7.72c-.78.78-.78 2.05 0 2.83L4 21.41c.39.39.9.59 1.41.59.51 0 1.02-.2 1.41-.59l7.78-7.78 2.81-2.81c.8-.78.8-2.07 0-2.86zM5.41 20L4 18.59l7.72-7.72 1.47 1.35L5.41 20z\"/>\n",
              "  </svg>\n",
              "      </button>\n",
              "      \n",
              "  <style>\n",
              "    .colab-df-container {\n",
              "      display:flex;\n",
              "      flex-wrap:wrap;\n",
              "      gap: 12px;\n",
              "    }\n",
              "\n",
              "    .colab-df-convert {\n",
              "      background-color: #E8F0FE;\n",
              "      border: none;\n",
              "      border-radius: 50%;\n",
              "      cursor: pointer;\n",
              "      display: none;\n",
              "      fill: #1967D2;\n",
              "      height: 32px;\n",
              "      padding: 0 0 0 0;\n",
              "      width: 32px;\n",
              "    }\n",
              "\n",
              "    .colab-df-convert:hover {\n",
              "      background-color: #E2EBFA;\n",
              "      box-shadow: 0px 1px 2px rgba(60, 64, 67, 0.3), 0px 1px 3px 1px rgba(60, 64, 67, 0.15);\n",
              "      fill: #174EA6;\n",
              "    }\n",
              "\n",
              "    [theme=dark] .colab-df-convert {\n",
              "      background-color: #3B4455;\n",
              "      fill: #D2E3FC;\n",
              "    }\n",
              "\n",
              "    [theme=dark] .colab-df-convert:hover {\n",
              "      background-color: #434B5C;\n",
              "      box-shadow: 0px 1px 3px 1px rgba(0, 0, 0, 0.15);\n",
              "      filter: drop-shadow(0px 1px 2px rgba(0, 0, 0, 0.3));\n",
              "      fill: #FFFFFF;\n",
              "    }\n",
              "  </style>\n",
              "\n",
              "      <script>\n",
              "        const buttonEl =\n",
              "          document.querySelector('#df-cd9929e1-3f0d-49c7-86f3-164ad0090ae5 button.colab-df-convert');\n",
              "        buttonEl.style.display =\n",
              "          google.colab.kernel.accessAllowed ? 'block' : 'none';\n",
              "\n",
              "        async function convertToInteractive(key) {\n",
              "          const element = document.querySelector('#df-cd9929e1-3f0d-49c7-86f3-164ad0090ae5');\n",
              "          const dataTable =\n",
              "            await google.colab.kernel.invokeFunction('convertToInteractive',\n",
              "                                                     [key], {});\n",
              "          if (!dataTable) return;\n",
              "\n",
              "          const docLinkHtml = 'Like what you see? Visit the ' +\n",
              "            '<a target=\"_blank\" href=https://colab.research.google.com/notebooks/data_table.ipynb>data table notebook</a>'\n",
              "            + ' to learn more about interactive tables.';\n",
              "          element.innerHTML = '';\n",
              "          dataTable['output_type'] = 'display_data';\n",
              "          await google.colab.output.renderOutput(dataTable, element);\n",
              "          const docLink = document.createElement('div');\n",
              "          docLink.innerHTML = docLinkHtml;\n",
              "          element.appendChild(docLink);\n",
              "        }\n",
              "      </script>\n",
              "    </div>\n",
              "  </div>\n",
              "  "
            ],
            "text/plain": [
              "   status  gender  category  name_product  name\n",
              "0       4       1         7         17718     4\n",
              "1       1       0         6         16685     1"
            ]
          },
          "execution_count": 50,
          "metadata": {},
          "output_type": "execute_result"
        }
      ],
      "source": [
        "# Mode of the clusters\n",
        "clusterCentroidsDf"
      ]
    },
    {
      "cell_type": "code",
      "execution_count": null,
      "metadata": {
        "id": "iPzoctI3u7xi"
      },
      "outputs": [],
      "source": [
        "# pembentukan centroid dengan metode huang"
      ]
    },
    {
      "cell_type": "code",
      "execution_count": null,
      "metadata": {
        "colab": {
          "base_uri": "https://localhost:8080/"
        },
        "id": "9UfBoPuAvFVS",
        "outputId": "2c13a956-85f3-41ea-95bb-bc51dd50f1a5"
      },
      "outputs": [
        {
          "name": "stdout",
          "output_type": "stream",
          "text": [
            "Init: initializing centroids\n",
            "Init: initializing clusters\n",
            "Starting iterations...\n",
            "Run 1, iteration: 1/100, moves: 52668, cost: 530699.0\n",
            "Run 1, iteration: 2/100, moves: 4566, cost: 530699.0\n"
          ]
        }
      ],
      "source": [
        "km_huang = KModes(n_clusters=2, init = \"Huang\", n_init = 1, verbose=1)\n",
        "fitClusters_huang = km_huang.fit_predict(bank_cust)"
      ]
    },
    {
      "cell_type": "code",
      "execution_count": null,
      "metadata": {
        "colab": {
          "background_save": true
        },
        "id": "qwPdRV7xvHsa",
        "outputId": "bd5f73a2-9077-4047-a34f-6bd5619da81b"
      },
      "outputs": [
        {
          "data": {
            "text/plain": [
              "array([1, 1, 1, ..., 1, 1, 1], dtype=uint16)"
            ]
          },
          "execution_count": null,
          "metadata": {},
          "output_type": "execute_result"
        }
      ],
      "source": [
        "# Predicted clusters\n",
        "fitClusters_huang"
      ]
    },
    {
      "cell_type": "code",
      "execution_count": null,
      "metadata": {
        "id": "wilEE0Z0vhF6"
      },
      "outputs": [],
      "source": [
        "#Choosing K by comparing Cost against each K"
      ]
    },
    {
      "cell_type": "code",
      "execution_count": null,
      "metadata": {
        "id": "dLfk3OeXvkT2"
      },
      "outputs": [],
      "source": [
        "cost = []\n",
        "for num_clusters in list(range(1,5)):\n",
        "    kmode = KModes(n_clusters=num_clusters, init = \"Cao\", n_init = 1, verbose=1)\n",
        "    kmode.fit_predict(bank_cust)\n",
        "    cost.append(kmode.cost_)"
      ]
    },
    {
      "cell_type": "code",
      "execution_count": null,
      "metadata": {
        "id": "GKKI5zP9vpiz"
      },
      "outputs": [],
      "source": [
        "y = np.array([i for i in range(1,5,1)])\n",
        "plt.plot(y,cost)"
      ]
    },
    {
      "cell_type": "code",
      "execution_count": null,
      "metadata": {
        "id": "Zf1EJ_lCvsbp"
      },
      "outputs": [],
      "source": [
        "## Choosing K=2"
      ]
    },
    {
      "cell_type": "code",
      "execution_count": null,
      "metadata": {
        "id": "YbhX1MYjwMTR"
      },
      "outputs": [],
      "source": [
        "km_cao = KModes(n_clusters=2, init = \"Cao\", n_init = 1, verbose=1)\n",
        "fitClusters_cao = km_cao.fit_predict(bank_cust)"
      ]
    },
    {
      "cell_type": "code",
      "execution_count": null,
      "metadata": {
        "id": "xCnZZlmHwOFz"
      },
      "outputs": [],
      "source": [
        "fitClusters_cao"
      ]
    },
    {
      "cell_type": "code",
      "execution_count": null,
      "metadata": {
        "id": "btNCV0FhwuWR"
      },
      "outputs": [],
      "source": [
        "#Combining the predicted clusters with the original DF"
      ]
    },
    {
      "cell_type": "code",
      "execution_count": null,
      "metadata": {
        "id": "E6bJg-Peww1R"
      },
      "outputs": [],
      "source": [
        "bank_cust = bank_cust_copy.reset_index()"
      ]
    },
    {
      "cell_type": "code",
      "execution_count": null,
      "metadata": {
        "id": "VjfX4dX5w3f0"
      },
      "outputs": [],
      "source": [
        "clustersDf = pd.DataFrame(fitClusters_cao)\n",
        "clustersDf.columns = ['cluster_predicted']\n",
        "combinedDf = pd.concat([bank_cust, clustersDf], axis = 1).reset_index()\n",
        "combinedDf = combinedDf.drop(['index', 'level_0'], axis = 1)"
      ]
    },
    {
      "cell_type": "code",
      "execution_count": null,
      "metadata": {
        "id": "jwBN9VcIw5Tl"
      },
      "outputs": [],
      "source": [
        "combinedDf.head()"
      ]
    },
    {
      "cell_type": "code",
      "execution_count": null,
      "metadata": {
        "id": "N0in-lEKw66z"
      },
      "outputs": [],
      "source": [
        "# identifikasi cluster yang akan dibentuk\n",
        "cluster_0 = combinedDf[combinedDf['cluster_predicted'] == 0]\n",
        "cluster_1 = combinedDf[combinedDf['cluster_predicted'] == 1]"
      ]
    },
    {
      "cell_type": "code",
      "execution_count": null,
      "metadata": {
        "id": "RabYz4HwxBZK"
      },
      "outputs": [],
      "source": [
        "cluster_0.info()"
      ]
    },
    {
      "cell_type": "code",
      "execution_count": null,
      "metadata": {
        "id": "ogyu7PzxxD86"
      },
      "outputs": [],
      "source": [
        "cluster_1.info()"
      ]
    },
    {
      "cell_type": "code",
      "execution_count": null,
      "metadata": {
        "id": "4DaFAda6xGdT"
      },
      "outputs": [],
      "source": [
        "# pekerjaan\n",
        "plt.subplots(figsize = (15,5))\n",
        "sns.countplot(x=combinedDf['job'],order=combinedDf['job'].value_counts().index,hue=combinedDf['cluster_predicted'])\n",
        "plt.show()"
      ]
    },
    {
      "cell_type": "code",
      "execution_count": null,
      "metadata": {
        "id": "pC6R5PWdxJhS"
      },
      "outputs": [],
      "source": [
        "# marital\n",
        "plt.subplots(figsize = (5,5))\n",
        "sns.countplot(x=combinedDf['marital'],order=combinedDf['marital'].value_counts().index,hue=combinedDf['cluster_predicted'])\n",
        "plt.show()"
      ]
    },
    {
      "cell_type": "code",
      "execution_count": null,
      "metadata": {
        "id": "dZc-SD16xVqC"
      },
      "outputs": [],
      "source": [
        "#Education"
      ]
    },
    {
      "cell_type": "code",
      "execution_count": null,
      "metadata": {
        "id": "yxvpxjBKxXtJ"
      },
      "outputs": [],
      "source": [
        "plt.subplots(figsize = (15,5))\n",
        "sns.countplot(x=combinedDf['education'],order=combinedDf['education'].value_counts().index,hue=combinedDf['cluster_predicted'])\n",
        "plt.show()"
      ]
    },
    {
      "cell_type": "code",
      "execution_count": null,
      "metadata": {
        "id": "wTUIB_gyxbrw"
      },
      "outputs": [],
      "source": [
        "# Default\n",
        "f, axs = plt.subplots(1,3,figsize = (15,5))\n",
        "sns.countplot(x=combinedDf['default'],order=combinedDf['default'].value_counts().index,hue=combinedDf['cluster_predicted'],ax=axs[0])\n",
        "sns.countplot(x=combinedDf['housing'],order=combinedDf['housing'].value_counts().index,hue=combinedDf['cluster_predicted'],ax=axs[1])\n",
        "sns.countplot(x=combinedDf['loan'],order=combinedDf['loan'].value_counts().index,hue=combinedDf['cluster_predicted'],ax=axs[2])\n",
        "\n",
        "plt.tight_layout()\n",
        "plt.show()"
      ]
    },
    {
      "cell_type": "code",
      "execution_count": null,
      "metadata": {
        "id": "NTh4Qx8JxfoB"
      },
      "outputs": [],
      "source": [
        "f, axs = plt.subplots(1,2,figsize = (15,5))\n",
        "sns.countplot(x=combinedDf['month'],order=combinedDf['month'].value_counts().index,hue=combinedDf['cluster_predicted'],ax=axs[0])\n",
        "sns.countplot(x=combinedDf['day_of_week'],order=combinedDf['day_of_week'].value_counts().index,hue=combinedDf['cluster_predicted'],ax=axs[1])\n",
        "\n",
        "plt.tight_layout()\n",
        "plt.show()"
      ]
    },
    {
      "cell_type": "code",
      "execution_count": null,
      "metadata": {
        "id": "8WgFtUlmxihb"
      },
      "outputs": [],
      "source": [
        "f, axs = plt.subplots(1,2,figsize = (15,5))\n",
        "sns.countplot(x=combinedDf['poutcome'],order=combinedDf['poutcome'].value_counts().index,hue=combinedDf['cluster_predicted'],ax=axs[0])\n",
        "sns.countplot(x=combinedDf['age_bin'],order=combinedDf['age_bin'].value_counts().index,hue=combinedDf['cluster_predicted'],ax=axs[1])\n",
        "\n",
        "plt.tight_layout()\n",
        "plt.show()"
      ]
    },
    {
      "cell_type": "code",
      "execution_count": null,
      "metadata": {
        "id": "VzoOStQcxmD6"
      },
      "outputs": [],
      "source": []
    }
  ],
  "metadata": {
    "colab": {
      "provenance": []
    },
    "kernelspec": {
      "display_name": "Python 3",
      "name": "python3"
    },
    "language_info": {
      "name": "python"
    }
  },
  "nbformat": 4,
  "nbformat_minor": 0
}